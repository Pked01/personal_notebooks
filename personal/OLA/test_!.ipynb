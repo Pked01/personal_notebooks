{
 "cells": [
  {
   "cell_type": "code",
   "execution_count": 2,
   "id": "439561e6",
   "metadata": {
    "ExecuteTime": {
     "end_time": "2021-09-03T11:07:22.468447Z",
     "start_time": "2021-09-03T11:07:22.462938Z"
    }
   },
   "outputs": [
    {
     "ename": "SyntaxError",
     "evalue": "invalid syntax (<ipython-input-2-a00cd68b5b2e>, line 1)",
     "output_type": "error",
     "traceback": [
      "\u001b[0;36m  File \u001b[0;32m\"<ipython-input-2-a00cd68b5b2e>\"\u001b[0;36m, line \u001b[0;32m1\u001b[0m\n\u001b[0;31m    expected number of tosses to get the first head\u001b[0m\n\u001b[0m             ^\u001b[0m\n\u001b[0;31mSyntaxError\u001b[0m\u001b[0;31m:\u001b[0m invalid syntax\n"
     ]
    }
   ],
   "source": [
    "expected number of tosses to get the first head\n",
    "Sourit Manna16:35\n",
    "user_id ola_start                        ola_end\n",
    "u1.         2021-08-01-12.00.00.  2021-08-20-12.00.00  \n",
    "u2.         2021-08-15-12.00.00.  2021-08-17-12.00.00\n",
    "u3.         2021-08-20-12.01.00.  2021-08-25-12.00.00"
   ]
  },
  {
   "cell_type": "code",
   "execution_count": 3,
   "id": "2904d77a",
   "metadata": {
    "ExecuteTime": {
     "end_time": "2021-09-03T11:07:56.171318Z",
     "start_time": "2021-09-03T11:07:55.629766Z"
    }
   },
   "outputs": [],
   "source": [
    "import pandas as pd"
   ]
  },
  {
   "cell_type": "code",
   "execution_count": 4,
   "id": "6ec410ad",
   "metadata": {
    "ExecuteTime": {
     "end_time": "2021-09-03T11:08:48.192389Z",
     "start_time": "2021-09-03T11:08:48.186614Z"
    }
   },
   "outputs": [],
   "source": [
    "df_1 = pd.DataFrame(columns=[\"user_id\",\"ola_start\",\"ola_end\"])"
   ]
  },
  {
   "cell_type": "markdown",
   "id": "4b11b9d6",
   "metadata": {},
   "source": [
    "- define a function that returns availability of customer based on data\n",
    "-- approach will be given user/uuid as dictionary keys the function will take date and response the output 1/0\n",
    "- overall for each day we can compute the count() \n",
    "- and the find max value"
   ]
  },
  {
   "cell_type": "code",
   "execution_count": 5,
   "id": "3c3b135b",
   "metadata": {
    "ExecuteTime": {
     "end_time": "2021-09-03T11:20:06.284277Z",
     "start_time": "2021-09-03T11:20:06.281364Z"
    }
   },
   "outputs": [],
   "source": [
    "from datetime import datetime"
   ]
  },
  {
   "cell_type": "code",
   "execution_count": null,
   "id": "03f61c95",
   "metadata": {},
   "outputs": [],
   "source": [
    "u1.         2021-08-01-12.00.00.  2021-08-01-12.02.00  \n",
    "u2.         2021-08-01-12.05.00.  2021-08-01-12.06.00"
   ]
  },
  {
   "cell_type": "code",
   "execution_count": null,
   "id": "ee309cea",
   "metadata": {},
   "outputs": [],
   "source": [
    "query"
   ]
  },
  {
   "cell_type": "code",
   "execution_count": null,
   "id": "4905b76f",
   "metadata": {},
   "outputs": [],
   "source": [
    "def availibility(user_id, time_stamp):\n",
    "    \n",
    "    if user[user_id].ola_start.day <=time_stamp <=user[user_id].ola_end:\n",
    "        return 1\n",
    "    return \n",
    "        \n",
    "    \n",
    "    "
   ]
  }
 ],
 "metadata": {
  "kernelspec": {
   "display_name": "cv_p38",
   "language": "python",
   "name": "cv_p38"
  },
  "language_info": {
   "codemirror_mode": {
    "name": "ipython",
    "version": 3
   },
   "file_extension": ".py",
   "mimetype": "text/x-python",
   "name": "python",
   "nbconvert_exporter": "python",
   "pygments_lexer": "ipython3",
   "version": "3.8.0"
  }
 },
 "nbformat": 4,
 "nbformat_minor": 5
}
