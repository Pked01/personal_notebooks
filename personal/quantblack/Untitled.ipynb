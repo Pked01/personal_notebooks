{
 "cells": [
  {
   "cell_type": "code",
   "execution_count": 36,
   "id": "98c8726c-ce39-46dc-bc71-d2d0492e405e",
   "metadata": {
    "execution": {
     "iopub.execute_input": "2021-09-18T09:43:04.032810Z",
     "iopub.status.busy": "2021-09-18T09:43:04.032582Z",
     "iopub.status.idle": "2021-09-18T09:43:04.035914Z",
     "shell.execute_reply": "2021-09-18T09:43:04.035283Z",
     "shell.execute_reply.started": "2021-09-18T09:43:04.032790Z"
    },
    "tags": []
   },
   "outputs": [],
   "source": [
    "# Complete the function below.\n",
    "from statsmodels.tsa.arima_model import ARIMA\n",
    "import pandas as pd\n",
    "import numpy as np\n",
    "import warnings\n",
    "warnings.filterwarnings(\"ignore\")\n",
    "\n",
    "def get_aic_bic(order,series):\n",
    "    aic = np.nan\n",
    "    bic = np.nan\n",
    "    try:\n",
    "        arima_mod = ARIMA(series,order).fit()\n",
    "        aic = arima_mod.aic\n",
    "        bic = arima_mod.bic\n",
    "    except Exception as e:\n",
    "        print(e)\n",
    "        pass\n",
    "    return aic,bic\n",
    "def get_optimal_pdq(data):\n",
    "    p_val=4\n",
    "    q_val=4\n",
    "    d_val=2\n",
    "    pdq_comb = [(p,d,q) for p in range(p_val) for d in range(d_val) for q in range(q_val)]\n",
    "    res = [get_aic_bic(pdq,data) for pdq in pdq_comb ]\n",
    "    df = pd.DataFrame(res,index=pdq_comb,columns=[\"aic\",\"bic\"])\n",
    "    return df.idxmin()\n",
    "\n",
    "def predictTemperature(startDate, endDate, temperature, n):\n",
    "    p = len(temperature)\n",
    "    p,d,q = get_optimal_pdq(temperature)[0]\n",
    "    arima_mod = ARIMA(temperature,(p,d,q)).fit()\n",
    "    return arima_mod.forecast(24*n)"
   ]
  },
  {
   "cell_type": "code",
   "execution_count": 53,
   "id": "6bdbead3-9fca-494c-b855-dba26994e5fc",
   "metadata": {
    "execution": {
     "iopub.execute_input": "2021-09-18T09:48:34.963225Z",
     "iopub.status.busy": "2021-09-18T09:48:34.962911Z",
     "iopub.status.idle": "2021-09-18T09:48:34.983317Z",
     "shell.execute_reply": "2021-09-18T09:48:34.982858Z",
     "shell.execute_reply.started": "2021-09-18T09:48:34.963190Z"
    }
   },
   "outputs": [],
   "source": [
    "arima_mod = ARIMA(data,df.idxmin()[0]).fit()"
   ]
  },
  {
   "cell_type": "code",
   "execution_count": 57,
   "id": "a2c42f11-38c6-43b2-b4d6-7a4afdb6ead3",
   "metadata": {
    "execution": {
     "iopub.execute_input": "2021-09-18T09:49:22.440404Z",
     "iopub.status.busy": "2021-09-18T09:49:22.440203Z",
     "iopub.status.idle": "2021-09-18T09:49:22.444566Z",
     "shell.execute_reply": "2021-09-18T09:49:22.443974Z",
     "shell.execute_reply.started": "2021-09-18T09:49:22.440383Z"
    },
    "tags": []
   },
   "outputs": [],
   "source": []
  },
  {
   "cell_type": "code",
   "execution_count": 58,
   "id": "8ea45ef6-9e36-4c86-bc3d-9898a101e52e",
   "metadata": {
    "execution": {
     "iopub.execute_input": "2021-09-18T09:49:23.675286Z",
     "iopub.status.busy": "2021-09-18T09:49:23.674669Z",
     "iopub.status.idle": "2021-09-18T09:49:23.687837Z",
     "shell.execute_reply": "2021-09-18T09:49:23.685825Z",
     "shell.execute_reply.started": "2021-09-18T09:49:23.675214Z"
    },
    "tags": []
   },
   "outputs": [
    {
     "data": {
      "text/plain": [
       "array([21.42683231, 20.43304474, 19.53959273, 18.72395194, 17.96865451,\n",
       "       17.26015397, 16.58794488, 15.94388016, 15.32164169, 14.71632968,\n",
       "       14.12414431, 13.54213879, 12.96802783, 12.40003919, 11.83679847,\n",
       "       11.2772398 , 10.7205366 , 10.16604785,  9.61327643,  9.0618368 ,\n",
       "        8.51143001,  7.96182418,  7.4128395 ,  6.86433654])"
      ]
     },
     "execution_count": 58,
     "metadata": {},
     "output_type": "execute_result"
    }
   ],
   "source": [
    "forecast"
   ]
  },
  {
   "cell_type": "code",
   "execution_count": null,
   "id": "723b5c63-f6e4-4ecf-8626-9f7b92f8f7a7",
   "metadata": {},
   "outputs": [],
   "source": []
  }
 ],
 "metadata": {
  "kernelspec": {
   "display_name": "cv_p38",
   "language": "python",
   "name": "cv_p38"
  },
  "language_info": {
   "codemirror_mode": {
    "name": "ipython",
    "version": 3
   },
   "file_extension": ".py",
   "mimetype": "text/x-python",
   "name": "python",
   "nbconvert_exporter": "python",
   "pygments_lexer": "ipython3",
   "version": "3.8.0"
  },
  "widgets": {
   "application/vnd.jupyter.widget-state+json": {
    "state": {},
    "version_major": 2,
    "version_minor": 0
   }
  }
 },
 "nbformat": 4,
 "nbformat_minor": 5
}
