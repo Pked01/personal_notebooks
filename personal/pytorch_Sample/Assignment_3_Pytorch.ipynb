{
 "cells": [
  {
   "cell_type": "code",
   "execution_count": 2,
   "metadata": {
    "execution": {
     "iopub.execute_input": "2021-05-21T14:38:19.704510Z",
     "iopub.status.busy": "2021-05-21T14:38:19.704297Z",
     "iopub.status.idle": "2021-05-21T14:38:19.707694Z",
     "shell.execute_reply": "2021-05-21T14:38:19.706963Z",
     "shell.execute_reply.started": "2021-05-21T14:38:19.704488Z"
    },
    "id": "0LGaVqJfbU79"
   },
   "outputs": [],
   "source": [
    "import torch\n",
    "import torchvision # provide access to datasets, models, transforms, utils, etc\n",
    "import torchvision.transforms as transforms\n",
    "import torch.optim as optim\n",
    "import random\n",
    "from torch.utils.data import Dataset\n",
    "import torch.nn as nn\n",
    "import torch.nn.functional as F"
   ]
  },
  {
   "cell_type": "code",
   "execution_count": 3,
   "metadata": {
    "execution": {
     "iopub.execute_input": "2021-05-21T14:38:20.440458Z",
     "iopub.status.busy": "2021-05-21T14:38:20.440122Z",
     "iopub.status.idle": "2021-05-21T14:38:20.445662Z",
     "shell.execute_reply": "2021-05-21T14:38:20.444585Z",
     "shell.execute_reply.started": "2021-05-21T14:38:20.440420Z"
    },
    "id": "KMoOWgGwbhPI"
   },
   "outputs": [],
   "source": [
    "def Rand(start, end, num):\n",
    "    res = []\n",
    "    for j in range(num):\n",
    "        res.append(random.random(start, end)) \n",
    "    return res"
   ]
  },
  {
   "cell_type": "code",
   "execution_count": 4,
   "metadata": {
    "execution": {
     "iopub.execute_input": "2021-05-21T14:38:20.520919Z",
     "iopub.status.busy": "2021-05-21T14:38:20.520755Z",
     "iopub.status.idle": "2021-05-21T14:38:20.524368Z",
     "shell.execute_reply": "2021-05-21T14:38:20.523743Z",
     "shell.execute_reply.started": "2021-05-21T14:38:20.520903Z"
    },
    "id": "NJ5-d9vObhR8"
   },
   "outputs": [],
   "source": [
    "# let's extend the Dataset class of Pytorch to build our own sample dataset\n",
    "class rand_num(torch.utils.data.Dataset):\n",
    "  def __init__(self):\n",
    "    self.data = torch.randint(0,9,(60000,),requires_grad=True,dtype=torch.float32)\n",
    "\n",
    "  def __getitem__(self, index):\n",
    "    r = self.data[index]\n",
    "    return r\n",
    "  \n",
    "  def __len__(self):\n",
    "    return len(self.data)"
   ]
  },
  {
   "cell_type": "code",
   "execution_count": 5,
   "metadata": {
    "execution": {
     "iopub.execute_input": "2021-05-21T14:38:20.899904Z",
     "iopub.status.busy": "2021-05-21T14:38:20.899221Z",
     "iopub.status.idle": "2021-05-21T14:38:20.915420Z",
     "shell.execute_reply": "2021-05-21T14:38:20.914588Z",
     "shell.execute_reply.started": "2021-05-21T14:38:20.899827Z"
    },
    "id": "WQtfAuzWbhW6"
   },
   "outputs": [],
   "source": [
    "df1 = rand_num()"
   ]
  },
  {
   "cell_type": "code",
   "execution_count": 6,
   "metadata": {
    "colab": {
     "base_uri": "https://localhost:8080/",
     "height": 770,
     "referenced_widgets": [
      "f0c5eff6c224496792b9f1a90e665f69",
      "4b5c297d595147b183eff16517a5f9f0",
      "be16758537a445adba235b9a63945a51",
      "8a409cb0fa3142abb5f998937e786066",
      "5844e532916f4b018dea487a9a280b57",
      "7a17249a285d4ef481199ab15e4f9815",
      "8959f591e225483bab32612a1b045d7f",
      "d4716889de98447486a5ba06d76005b1",
      "b5a0253ac455483c958f773eeeb38998",
      "60062ef9d75c4db693337c6917a763e3",
      "bb1f97e3bd76474eb3cb30c9e5231a8c",
      "4f7b3ee0dddf4813ae5ba018604d303f",
      "d6f178ba77634498820951155549518c",
      "92ba9ed39fcd4e3da5ede605dddef665",
      "e930c85e73614f90947900bbc3e14e80",
      "806a303236394c92a99cd7cf5fa95f7f",
      "b599a389618245438791847166b16628",
      "0ba6ebc5f8b340bab3679c60b149f82a",
      "5272664f54354e08a2c3f6dafc3cb43c",
      "77570b85c7d543b89d0bfda08444694b",
      "265776820e544a2d903c65c3a91ff564",
      "61a97df442884905a316ffb6cc62741a",
      "3c2fcae545044b499824739d16e8a9bc",
      "597a214a7f764ab98100371f443a7d3e",
      "c7d3a632858a4cdb823da21b943fb471",
      "0065b188f7524824bc091bdcd92737d7",
      "6e589a20381a43bda19abfe6cd47a1f6",
      "9d89fc29bedb4cc0850a1463734b2e68",
      "bbe4cf097cf046268b5252aeb4e67b7e",
      "c47ef1988c674010bf5a3df2b7244b9b",
      "9f7b4f9a9016422c9ef328e7e9cfbba3",
      "cc989f43fee5444f8bc92e77e1384bd6"
     ]
    },
    "execution": {
     "iopub.execute_input": "2021-05-21T14:38:21.084186Z",
     "iopub.status.busy": "2021-05-21T14:38:21.083975Z",
     "iopub.status.idle": "2021-05-21T14:38:21.186616Z",
     "shell.execute_reply": "2021-05-21T14:38:21.186133Z",
     "shell.execute_reply.started": "2021-05-21T14:38:21.084162Z"
    },
    "id": "TeqE2tjJbhZt",
    "outputId": "47c611df-601f-46c2-c823-6da58031abac"
   },
   "outputs": [],
   "source": [
    "train_set = torchvision.datasets.MNIST(\n",
    "    root='./files'\n",
    "    ,train=True\n",
    "    ,download=True\n",
    "    ,transform=transforms.Compose([\n",
    "        transforms.ToTensor()\n",
    "    ])\n",
    ")"
   ]
  },
  {
   "cell_type": "code",
   "execution_count": 7,
   "metadata": {
    "execution": {
     "iopub.execute_input": "2021-05-21T14:38:21.269163Z",
     "iopub.status.busy": "2021-05-21T14:38:21.268236Z",
     "iopub.status.idle": "2021-05-21T14:38:21.280306Z",
     "shell.execute_reply": "2021-05-21T14:38:21.279101Z",
     "shell.execute_reply.started": "2021-05-21T14:38:21.269049Z"
    },
    "id": "IPmb3Jujbhci"
   },
   "outputs": [],
   "source": [
    "class ImageDataset(Dataset):\n",
    "    \"\"\"Tabular and Image dataset.\"\"\"\n",
    "\n",
    "    def __init__(self, images, num, labels=None, transforms=None):\n",
    "        self.X = images\n",
    "        self.X2 = num\n",
    "\n",
    "    def __len__(self):\n",
    "        return len(self.X)\n",
    "\n",
    "    def __getitem__(self, i):\n",
    "        data = self.X[i][0]\n",
    "        data2 = self.X2[i]\n",
    "        Y = self.X[i][1]\n",
    "        Y2 = self.X2[i] + self.X[i][1]\n",
    "\n",
    "        return data,data2,Y, Y2"
   ]
  },
  {
   "cell_type": "code",
   "execution_count": 8,
   "metadata": {
    "execution": {
     "iopub.execute_input": "2021-05-21T14:38:21.623096Z",
     "iopub.status.busy": "2021-05-21T14:38:21.622865Z",
     "iopub.status.idle": "2021-05-21T14:38:21.627587Z",
     "shell.execute_reply": "2021-05-21T14:38:21.626874Z",
     "shell.execute_reply.started": "2021-05-21T14:38:21.623070Z"
    },
    "id": "18j29LZ6h5zo"
   },
   "outputs": [],
   "source": [
    "data_combined = ImageDataset(train_set,df1)"
   ]
  },
  {
   "cell_type": "code",
   "execution_count": 9,
   "metadata": {
    "execution": {
     "iopub.execute_input": "2021-05-21T14:38:22.007854Z",
     "iopub.status.busy": "2021-05-21T14:38:22.007376Z",
     "iopub.status.idle": "2021-05-21T14:38:22.019534Z",
     "shell.execute_reply": "2021-05-21T14:38:22.018781Z",
     "shell.execute_reply.started": "2021-05-21T14:38:22.007811Z"
    },
    "id": "WFDkPbESahPQ"
   },
   "outputs": [],
   "source": [
    "class Network(nn.Module):\n",
    "    def __init__(self):\n",
    "        super().__init__()\n",
    "        self.conv1 = nn.Conv2d(in_channels=1, out_channels=6, kernel_size=5)\n",
    "        self.conv2 = nn.Conv2d(in_channels=6, out_channels=12, kernel_size=5)\n",
    "        self.fc1 = nn.Linear(in_features=12 * 4 * 4, out_features=120)\n",
    "        self.fc2 = nn.Linear(in_features=120, out_features=60)\n",
    "        self.out1 = nn.Linear(in_features=60, out_features=10)\n",
    "\n",
    "        self.fc3 = nn.Linear(2,2)\n",
    "        self.fc4 = nn.Linear(5, 2)\n",
    "        self.out2 = nn.Linear(2, 1)\n",
    "\n",
    "    \n",
    "    def forward(self, t,tab):\n",
    "        # (1) input layer\n",
    "        t = t\n",
    "\n",
    "        # (2) hidden conv layer\n",
    "        t = self.conv1(t)\n",
    "        t = F.relu(t)\n",
    "        t = F.max_pool2d(t, kernel_size=2, stride=2)\n",
    "\n",
    "        # (3) hidden conv layer\n",
    "        t = self.conv2(t)\n",
    "        t = F.relu(t)\n",
    "        t = F.max_pool2d(t, kernel_size=2, stride=2)\n",
    "\n",
    "        # (4) hidden linear layer\n",
    "        t = t.reshape(-1, 12 * 4 * 4)\n",
    "        t = self.fc1(t)\n",
    "        t = F.relu(t)\n",
    "\n",
    "        # (5) hidden linear layer\n",
    "        t = self.fc2(t)\n",
    "        t = F.relu(t)\n",
    "\n",
    "        # (6) output layer\n",
    "        t = self.out1(t)\n",
    "        t1 = F.softmax(t, dim=1)\n",
    "        \n",
    "        inp1 = torch.argmax(t1,dim=1)\n",
    "        x = torch.stack((inp1,tab),dim=1).type(torch.float32) #nx2\n",
    "        # x = self.fc3(x)\n",
    "        # x = F.relu(x)\n",
    "        # x = self.fc4(x)\n",
    "        # x = F.relu(x)\n",
    "        t2 = self.out2(x)#2x1\n",
    "        return t1, t2"
   ]
  },
  {
   "cell_type": "code",
   "execution_count": 10,
   "metadata": {
    "execution": {
     "iopub.execute_input": "2021-05-21T14:38:22.325486Z",
     "iopub.status.busy": "2021-05-21T14:38:22.325283Z",
     "iopub.status.idle": "2021-05-21T14:38:22.338210Z",
     "shell.execute_reply": "2021-05-21T14:38:22.337519Z",
     "shell.execute_reply.started": "2021-05-21T14:38:22.325463Z"
    },
    "id": "HlsviDT9PU4D"
   },
   "outputs": [],
   "source": [
    "model = Network()"
   ]
  },
  {
   "cell_type": "code",
   "execution_count": 11,
   "metadata": {
    "colab": {
     "base_uri": "https://localhost:8080/"
    },
    "execution": {
     "iopub.execute_input": "2021-05-21T14:38:23.612579Z",
     "iopub.status.busy": "2021-05-21T14:38:23.611590Z",
     "iopub.status.idle": "2021-05-21T14:38:23.642798Z",
     "shell.execute_reply": "2021-05-21T14:38:23.642028Z",
     "shell.execute_reply.started": "2021-05-21T14:38:23.612452Z"
    },
    "id": "zg2L8VQnPYV3",
    "outputId": "c35441de-a50a-4498-ba0f-026b206127b9"
   },
   "outputs": [
    {
     "data": {
      "text/plain": [
       "Network(\n",
       "  (conv1): Conv2d(1, 6, kernel_size=(5, 5), stride=(1, 1))\n",
       "  (conv2): Conv2d(6, 12, kernel_size=(5, 5), stride=(1, 1))\n",
       "  (fc1): Linear(in_features=192, out_features=120, bias=True)\n",
       "  (fc2): Linear(in_features=120, out_features=60, bias=True)\n",
       "  (out1): Linear(in_features=60, out_features=10, bias=True)\n",
       "  (fc3): Linear(in_features=2, out_features=2, bias=True)\n",
       "  (fc4): Linear(in_features=5, out_features=2, bias=True)\n",
       "  (out2): Linear(in_features=2, out_features=1, bias=True)\n",
       ")"
      ]
     },
     "execution_count": 11,
     "metadata": {},
     "output_type": "execute_result"
    }
   ],
   "source": [
    "model"
   ]
  },
  {
   "cell_type": "code",
   "execution_count": 12,
   "metadata": {
    "execution": {
     "iopub.execute_input": "2021-05-21T14:38:23.888774Z",
     "iopub.status.busy": "2021-05-21T14:38:23.888536Z",
     "iopub.status.idle": "2021-05-21T14:38:23.892211Z",
     "shell.execute_reply": "2021-05-21T14:38:23.891520Z",
     "shell.execute_reply.started": "2021-05-21T14:38:23.888748Z"
    },
    "id": "sHhEyDhS-LVP"
   },
   "outputs": [],
   "source": [
    "def get_num_correct(preds, labels):\n",
    "  return preds.argmax(dim=1).eq(labels).sum().item()"
   ]
  },
  {
   "cell_type": "code",
   "execution_count": 13,
   "metadata": {
    "colab": {
     "base_uri": "https://localhost:8080/"
    },
    "execution": {
     "iopub.execute_input": "2021-05-21T14:38:24.368461Z",
     "iopub.status.busy": "2021-05-21T14:38:24.368189Z",
     "iopub.status.idle": "2021-05-21T14:38:24.546290Z",
     "shell.execute_reply": "2021-05-21T14:38:24.545580Z",
     "shell.execute_reply.started": "2021-05-21T14:38:24.368431Z"
    },
    "id": "SQ1z7I7f3Ii_",
    "outputId": "9ace249e-57cf-414c-efa8-27dbdd077a1c"
   },
   "outputs": [
    {
     "ename": "RuntimeError",
     "evalue": "Expected object of scalar type long int but got scalar type float for sequence element 1.",
     "output_type": "error",
     "traceback": [
      "\u001b[0;31m---------------------------------------------------------------------------\u001b[0m",
      "\u001b[0;31mRuntimeError\u001b[0m                              Traceback (most recent call last)",
      "\u001b[0;32m<ipython-input-13-223da8358872>\u001b[0m in \u001b[0;36m<module>\u001b[0;34m\u001b[0m\n\u001b[1;32m     20\u001b[0m         \u001b[0mimages\u001b[0m\u001b[0;34m,\u001b[0m \u001b[0mdata\u001b[0m\u001b[0;34m,\u001b[0m \u001b[0my\u001b[0m\u001b[0;34m,\u001b[0m \u001b[0my_sum\u001b[0m \u001b[0;34m=\u001b[0m \u001b[0mimages\u001b[0m\u001b[0;34m.\u001b[0m\u001b[0mto\u001b[0m\u001b[0;34m(\u001b[0m\u001b[0mdevice\u001b[0m\u001b[0;34m)\u001b[0m\u001b[0;34m,\u001b[0m \u001b[0mdata\u001b[0m\u001b[0;34m.\u001b[0m\u001b[0mto\u001b[0m\u001b[0;34m(\u001b[0m\u001b[0mdevice\u001b[0m\u001b[0;34m)\u001b[0m\u001b[0;34m,\u001b[0m\u001b[0my\u001b[0m\u001b[0;34m.\u001b[0m\u001b[0mto\u001b[0m\u001b[0;34m(\u001b[0m\u001b[0mdevice\u001b[0m\u001b[0;34m)\u001b[0m\u001b[0;34m,\u001b[0m \u001b[0my_sum\u001b[0m\u001b[0;34m.\u001b[0m\u001b[0mto\u001b[0m\u001b[0;34m(\u001b[0m\u001b[0mdevice\u001b[0m\u001b[0;34m)\u001b[0m\u001b[0;34m\u001b[0m\u001b[0;34m\u001b[0m\u001b[0m\n\u001b[1;32m     21\u001b[0m \u001b[0;34m\u001b[0m\u001b[0m\n\u001b[0;32m---> 22\u001b[0;31m         \u001b[0mpreds\u001b[0m \u001b[0;34m=\u001b[0m \u001b[0mnetwork\u001b[0m\u001b[0;34m(\u001b[0m\u001b[0mimages\u001b[0m\u001b[0;34m,\u001b[0m\u001b[0mdata\u001b[0m\u001b[0;34m)\u001b[0m \u001b[0;31m# Pass Batch\u001b[0m\u001b[0;34m\u001b[0m\u001b[0;34m\u001b[0m\u001b[0m\n\u001b[0m\u001b[1;32m     23\u001b[0m         \u001b[0mb\u001b[0m \u001b[0;34m=\u001b[0m \u001b[0mnn\u001b[0m\u001b[0;34m.\u001b[0m\u001b[0mMSELoss\u001b[0m\u001b[0;34m(\u001b[0m\u001b[0;34m)\u001b[0m\u001b[0;34m\u001b[0m\u001b[0;34m\u001b[0m\u001b[0m\n\u001b[1;32m     24\u001b[0m         \u001b[0ma\u001b[0m \u001b[0;34m=\u001b[0m \u001b[0mnn\u001b[0m\u001b[0;34m.\u001b[0m\u001b[0mCrossEntropyLoss\u001b[0m\u001b[0;34m(\u001b[0m\u001b[0;34m)\u001b[0m\u001b[0;34m\u001b[0m\u001b[0;34m\u001b[0m\u001b[0m\n",
      "\u001b[0;32m~/.virtualenvs/pytorch_p37/lib/python3.7/site-packages/torch/nn/modules/module.py\u001b[0m in \u001b[0;36m__call__\u001b[0;34m(self, *input, **kwargs)\u001b[0m\n\u001b[1;32m    548\u001b[0m             \u001b[0mresult\u001b[0m \u001b[0;34m=\u001b[0m \u001b[0mself\u001b[0m\u001b[0;34m.\u001b[0m\u001b[0m_slow_forward\u001b[0m\u001b[0;34m(\u001b[0m\u001b[0;34m*\u001b[0m\u001b[0minput\u001b[0m\u001b[0;34m,\u001b[0m \u001b[0;34m**\u001b[0m\u001b[0mkwargs\u001b[0m\u001b[0;34m)\u001b[0m\u001b[0;34m\u001b[0m\u001b[0;34m\u001b[0m\u001b[0m\n\u001b[1;32m    549\u001b[0m         \u001b[0;32melse\u001b[0m\u001b[0;34m:\u001b[0m\u001b[0;34m\u001b[0m\u001b[0;34m\u001b[0m\u001b[0m\n\u001b[0;32m--> 550\u001b[0;31m             \u001b[0mresult\u001b[0m \u001b[0;34m=\u001b[0m \u001b[0mself\u001b[0m\u001b[0;34m.\u001b[0m\u001b[0mforward\u001b[0m\u001b[0;34m(\u001b[0m\u001b[0;34m*\u001b[0m\u001b[0minput\u001b[0m\u001b[0;34m,\u001b[0m \u001b[0;34m**\u001b[0m\u001b[0mkwargs\u001b[0m\u001b[0;34m)\u001b[0m\u001b[0;34m\u001b[0m\u001b[0;34m\u001b[0m\u001b[0m\n\u001b[0m\u001b[1;32m    551\u001b[0m         \u001b[0;32mfor\u001b[0m \u001b[0mhook\u001b[0m \u001b[0;32min\u001b[0m \u001b[0mself\u001b[0m\u001b[0;34m.\u001b[0m\u001b[0m_forward_hooks\u001b[0m\u001b[0;34m.\u001b[0m\u001b[0mvalues\u001b[0m\u001b[0;34m(\u001b[0m\u001b[0;34m)\u001b[0m\u001b[0;34m:\u001b[0m\u001b[0;34m\u001b[0m\u001b[0;34m\u001b[0m\u001b[0m\n\u001b[1;32m    552\u001b[0m             \u001b[0mhook_result\u001b[0m \u001b[0;34m=\u001b[0m \u001b[0mhook\u001b[0m\u001b[0;34m(\u001b[0m\u001b[0mself\u001b[0m\u001b[0;34m,\u001b[0m \u001b[0minput\u001b[0m\u001b[0;34m,\u001b[0m \u001b[0mresult\u001b[0m\u001b[0;34m)\u001b[0m\u001b[0;34m\u001b[0m\u001b[0;34m\u001b[0m\u001b[0m\n",
      "\u001b[0;32m<ipython-input-9-28c1eee767b6>\u001b[0m in \u001b[0;36mforward\u001b[0;34m(self, t, tab)\u001b[0m\n\u001b[1;32m     41\u001b[0m \u001b[0;34m\u001b[0m\u001b[0m\n\u001b[1;32m     42\u001b[0m         \u001b[0minp1\u001b[0m \u001b[0;34m=\u001b[0m \u001b[0mtorch\u001b[0m\u001b[0;34m.\u001b[0m\u001b[0margmax\u001b[0m\u001b[0;34m(\u001b[0m\u001b[0mt1\u001b[0m\u001b[0;34m,\u001b[0m\u001b[0mdim\u001b[0m\u001b[0;34m=\u001b[0m\u001b[0;36m1\u001b[0m\u001b[0;34m)\u001b[0m\u001b[0;34m\u001b[0m\u001b[0;34m\u001b[0m\u001b[0m\n\u001b[0;32m---> 43\u001b[0;31m         \u001b[0mx\u001b[0m \u001b[0;34m=\u001b[0m \u001b[0mtorch\u001b[0m\u001b[0;34m.\u001b[0m\u001b[0mstack\u001b[0m\u001b[0;34m(\u001b[0m\u001b[0;34m(\u001b[0m\u001b[0minp1\u001b[0m\u001b[0;34m,\u001b[0m\u001b[0mtab\u001b[0m\u001b[0;34m)\u001b[0m\u001b[0;34m,\u001b[0m\u001b[0mdim\u001b[0m\u001b[0;34m=\u001b[0m\u001b[0;36m1\u001b[0m\u001b[0;34m)\u001b[0m\u001b[0;34m.\u001b[0m\u001b[0mtype\u001b[0m\u001b[0;34m(\u001b[0m\u001b[0mtorch\u001b[0m\u001b[0;34m.\u001b[0m\u001b[0mfloat32\u001b[0m\u001b[0;34m)\u001b[0m \u001b[0;31m#nx2\u001b[0m\u001b[0;34m\u001b[0m\u001b[0;34m\u001b[0m\u001b[0m\n\u001b[0m\u001b[1;32m     44\u001b[0m         \u001b[0;31m# x = self.fc3(x)\u001b[0m\u001b[0;34m\u001b[0m\u001b[0;34m\u001b[0m\u001b[0;34m\u001b[0m\u001b[0m\n\u001b[1;32m     45\u001b[0m         \u001b[0;31m# x = F.relu(x)\u001b[0m\u001b[0;34m\u001b[0m\u001b[0;34m\u001b[0m\u001b[0;34m\u001b[0m\u001b[0m\n",
      "\u001b[0;31mRuntimeError\u001b[0m: Expected object of scalar type long int but got scalar type float for sequence element 1."
     ]
    }
   ],
   "source": [
    "torch.set_grad_enabled(True)\n",
    "network = Network()\n",
    "\n",
    "if torch.cuda.is_available():\n",
    "    network.cuda()\n",
    "\n",
    "train_loader = torch.utils.data.DataLoader(data_combined, batch_size=32)\n",
    "optimizer = optim.Adam(network.parameters(), lr=0.001)\n",
    "\n",
    "for epoch in range(100):\n",
    "\n",
    "    total_loss_1 = 0\n",
    "    total_loss_2 = 0\n",
    "    total_correct = 0\n",
    "\n",
    "    for batch in train_loader: # Get Batch\n",
    "        images, data, y, y_sum = batch \n",
    "\n",
    "        device = torch.device(\"cuda\" if torch.cuda.is_available() else \"cpu\")\n",
    "        images, data, y, y_sum = images.to(device), data.to(device),y.to(device), y_sum.to(device)\n",
    "\n",
    "        preds = network(images,data) # Pass Batch\n",
    "        b = nn.MSELoss()\n",
    "        a = nn.CrossEntropyLoss()\n",
    "\n",
    "        loss_a = a(preds[0],y)\n",
    "        loss_b = b(preds[1], y_sum)\n",
    "        loss = loss_a + loss_b\n",
    "\n",
    "        optimizer.zero_grad()\n",
    "        loss_a.backward() # Calculate Gradients\n",
    "        loss_b.backward()\n",
    "        optimizer.step() # Update Weights\n",
    "\n",
    "        total_loss_1 += loss_a.item()\n",
    "        total_loss_2 += loss_b.item()\n",
    "        total_correct += get_num_correct(preds[0], y)\n",
    "\n",
    "    print(\n",
    "        \"epoch\", epoch, \n",
    "        #\"total_correct:\", total_correct, \n",
    "        \"loss_a:\", loss_a,\n",
    "        \"loss_b:\", loss_b\n",
    "    )"
   ]
  },
  {
   "cell_type": "code",
   "execution_count": null,
   "metadata": {},
   "outputs": [],
   "source": []
  }
 ],
 "metadata": {
  "accelerator": "GPU",
  "colab": {
   "collapsed_sections": [],
   "name": "Assignment_3_Pytorch.ipynb",
   "provenance": []
  },
  "kernelspec": {
   "display_name": "pytorch_p37",
   "language": "python",
   "name": "pytorch_p37"
  },
  "language_info": {
   "codemirror_mode": {
    "name": "ipython",
    "version": 3
   },
   "file_extension": ".py",
   "mimetype": "text/x-python",
   "name": "python",
   "nbconvert_exporter": "python",
   "pygments_lexer": "ipython3",
   "version": "3.7.5"
  },
  "widgets": {
   "application/vnd.jupyter.widget-state+json": {
    "state": {},
    "version_major": 2,
    "version_minor": 0
   }
  }
 },
 "nbformat": 4,
 "nbformat_minor": 4
}
