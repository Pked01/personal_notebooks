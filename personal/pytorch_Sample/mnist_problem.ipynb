{
 "cells": [
  {
   "cell_type": "code",
   "execution_count": 2,
   "metadata": {
    "execution": {
     "iopub.execute_input": "2021-05-19T13:27:18.983276Z",
     "iopub.status.busy": "2021-05-19T13:27:18.983079Z",
     "iopub.status.idle": "2021-05-19T13:27:19.388964Z",
     "shell.execute_reply": "2021-05-19T13:27:19.387474Z",
     "shell.execute_reply.started": "2021-05-19T13:27:18.983252Z"
    }
   },
   "outputs": [],
   "source": [
    "import torch\n",
    "import torchvision"
   ]
  },
  {
   "cell_type": "code",
   "execution_count": 4,
   "metadata": {
    "execution": {
     "iopub.execute_input": "2021-05-19T13:33:08.763936Z",
     "iopub.status.busy": "2021-05-19T13:33:08.763667Z",
     "iopub.status.idle": "2021-05-19T13:33:08.772893Z",
     "shell.execute_reply": "2021-05-19T13:33:08.772373Z",
     "shell.execute_reply.started": "2021-05-19T13:33:08.763901Z"
    }
   },
   "outputs": [
    {
     "data": {
      "text/plain": [
       "<torch._C.Generator at 0x7fdf85ee2f60>"
      ]
     },
     "execution_count": 4,
     "metadata": {},
     "output_type": "execute_result"
    }
   ],
   "source": [
    "n_epochs = 3\n",
    "batch_size_train = 64\n",
    "batch_size_test = 1000\n",
    "learning_rate = 0.01\n",
    "momentum = 0.5\n",
    "log_interval = 10\n",
    "\n",
    "random_seed = 1\n",
    "torch.backends.cudnn.enabled = False\n",
    "torch.manual_seed(random_seed)"
   ]
  },
  {
   "cell_type": "code",
   "execution_count": 5,
   "metadata": {
    "execution": {
     "iopub.execute_input": "2021-05-19T13:33:08.920890Z",
     "iopub.status.busy": "2021-05-19T13:33:08.920674Z",
     "iopub.status.idle": "2021-05-19T13:33:08.948379Z",
     "shell.execute_reply": "2021-05-19T13:33:08.947889Z",
     "shell.execute_reply.started": "2021-05-19T13:33:08.920864Z"
    }
   },
   "outputs": [],
   "source": [
    "train_loader = torch.utils.data.DataLoader(\n",
    "  torchvision.datasets.MNIST('./files/', train=True, download=True,\n",
    "                             transform=torchvision.transforms.Compose([\n",
    "                               torchvision.transforms.ToTensor(),\n",
    "                               torchvision.transforms.Normalize(\n",
    "                                 (0.1307,), (0.3081,))\n",
    "                             ])),\n",
    "  batch_size=batch_size_train, shuffle=True)\n",
    "\n",
    "test_loader = torch.utils.data.DataLoader(\n",
    "  torchvision.datasets.MNIST('./files/', train=False, download=True,\n",
    "                             transform=torchvision.transforms.Compose([\n",
    "                               torchvision.transforms.ToTensor(),\n",
    "                               torchvision.transforms.Normalize(\n",
    "                                 (0.1307,), (0.3081,))\n",
    "                             ])),\n",
    "  batch_size=batch_size_test, shuffle=True)"
   ]
  },
  {
   "cell_type": "code",
   "execution_count": null,
   "metadata": {},
   "outputs": [],
   "source": []
  },
  {
   "cell_type": "code",
   "execution_count": 6,
   "metadata": {
    "execution": {
     "iopub.execute_input": "2021-05-19T13:33:14.343791Z",
     "iopub.status.busy": "2021-05-19T13:33:14.342946Z",
     "iopub.status.idle": "2021-05-19T13:33:14.469952Z",
     "shell.execute_reply": "2021-05-19T13:33:14.469454Z",
     "shell.execute_reply.started": "2021-05-19T13:33:14.343678Z"
    }
   },
   "outputs": [],
   "source": [
    "examples = enumerate(test_loader)"
   ]
  },
  {
   "cell_type": "code",
   "execution_count": 6,
   "metadata": {
    "execution": {
     "iopub.execute_input": "2021-05-19T13:33:14.343791Z",
     "iopub.status.busy": "2021-05-19T13:33:14.342946Z",
     "iopub.status.idle": "2021-05-19T13:33:14.469952Z",
     "shell.execute_reply": "2021-05-19T13:33:14.469454Z",
     "shell.execute_reply.started": "2021-05-19T13:33:14.343678Z"
    }
   },
   "outputs": [],
   "source": [
    "batch_idx, (example_data, example_targets) = next(examples)"
   ]
  },
  {
   "cell_type": "code",
   "execution_count": 46,
   "metadata": {
    "execution": {
     "iopub.execute_input": "2021-05-19T14:26:11.391116Z",
     "iopub.status.busy": "2021-05-19T14:26:11.389967Z",
     "iopub.status.idle": "2021-05-19T14:26:11.401989Z",
     "shell.execute_reply": "2021-05-19T14:26:11.400430Z",
     "shell.execute_reply.started": "2021-05-19T14:26:11.390709Z"
    }
   },
   "outputs": [
    {
     "data": {
      "text/plain": [
       "<torch.utils.data.dataloader.DataLoader at 0x7fdf2b703470>"
      ]
     },
     "execution_count": 46,
     "metadata": {},
     "output_type": "execute_result"
    }
   ],
   "source": [
    "test_loader"
   ]
  },
  {
   "cell_type": "code",
   "execution_count": 7,
   "metadata": {
    "execution": {
     "iopub.execute_input": "2021-05-19T13:33:14.599381Z",
     "iopub.status.busy": "2021-05-19T13:33:14.598569Z",
     "iopub.status.idle": "2021-05-19T13:33:14.611209Z",
     "shell.execute_reply": "2021-05-19T13:33:14.608666Z",
     "shell.execute_reply.started": "2021-05-19T13:33:14.599277Z"
    }
   },
   "outputs": [
    {
     "data": {
      "text/plain": [
       "torch.Size([1000, 1, 28, 28])"
      ]
     },
     "execution_count": 7,
     "metadata": {},
     "output_type": "execute_result"
    }
   ],
   "source": [
    "example_data.shape"
   ]
  },
  {
   "cell_type": "code",
   "execution_count": 43,
   "metadata": {
    "execution": {
     "iopub.execute_input": "2021-05-19T14:22:13.934319Z",
     "iopub.status.busy": "2021-05-19T14:22:13.934012Z",
     "iopub.status.idle": "2021-05-19T14:22:13.941571Z",
     "shell.execute_reply": "2021-05-19T14:22:13.941153Z",
     "shell.execute_reply.started": "2021-05-19T14:22:13.934282Z"
    }
   },
   "outputs": [
    {
     "data": {
      "text/plain": [
       "tensor([[ 84,  15,  68,   9, 102,  43,  75,  85,  29,  99,  52,  99,  41,   6,\n",
       "          28,  89,  80, 101,  80, 100,  23,  19,  64,  55,  26, 103,  45,  27,\n",
       "          62,  67,  42,  51,  97,  47,  76, 101,  39,  89,  63,  17,  77,  69,\n",
       "          77,  40,  76,  48,  18,  60,  64,  17, 104,  14,  26,  50,  77,  91,\n",
       "          13,  88,  69,  11,  89,   7, 103,  46,  10,  23,  55,  50,  37, 106,\n",
       "          17,  96,  25,  45,  76,  30,  73,  87,  14,  70,  11,  92,  58,  11,\n",
       "          87,   0,  74,  70,  54, 101,  38,  86,  30,  60,  71,  58,  43,  88,\n",
       "          72,  53, 105,  25,  46,  75,  48,   8,  43,  34,  63, 101,  54,  92,\n",
       "          32,  39,  63,  99,  99,  64,  38,  47,  42,  11,  52,  97,  44,  35,\n",
       "          64,  21,  13,  87,  79,  16,  78,   9,  61,  69,  44,  78,  97,  77,\n",
       "          20, 103,  98,   8,  45,  20,  34,   3,  97,  22,  16,  51,  20,  77,\n",
       "          48,   9,  16,  14,  72,  21,  22,  71,  95,  41,  15,  28, 102,  97,\n",
       "          90,  78,  51,  46,  81,  85,  19,   6,  54,  58,  96,  62,  68,  46,\n",
       "          76,  77,   2,  82,   3,  25,  24,  30,  84,  58,  35,  52,  32,  85,\n",
       "          38,  54,  73,  79,  31,  55,  72,  64,  59,  83,  75,  96,  49,  77,\n",
       "          24,  56,  45,  68,  22,  91,  23,  82,  67,  31,  29,  37,  47, 103,\n",
       "          82,  99, 101,  53,  74,  62,  92,  29,  67,  69,  23,  33, 101,  18,\n",
       "          82,  96,  69,  13,  56,  45,  77,  98,  86,  53, 101,  21,  20,  65,\n",
       "          77,  52,  24,  19,  41,  62,  62,  57,  96,  53,  79,  82, 103,  68,\n",
       "          24, 104,   3,  47,  74,  29,  29,  53,  56,   6,  37,  79,  71,  38,\n",
       "          22,  74,  88,   8,  20, 100,  37, 102,  69,  74,  65, 100,  40,   8,\n",
       "          29,  36,  54,  34,  52,  92,  59,  28,  37,  31,  35,  51,   1,  13,\n",
       "          56,  89,  63,  76,  14,  42,  34,  13,  43,  62,  76,  89,  44,  77,\n",
       "          52,  44,  54, 100,  66,  29,  78,  38,  37,  76,  39,  90,  18,  87,\n",
       "          97,  32,   6,  55,   7,  37,  27,  94,  35,  60,  95,  50,  85,   8,\n",
       "          84,  65,  51,  84,  72,  63,  82,   2,  64,  96,  39,  94,  68,  41,\n",
       "          73,  14,  89,  47,   7,  99,  17,   9,  38,  81,  86,   4,  80,  92,\n",
       "          25,  13,  61,  95,  31,  57,  16,  23,  54,  22,  57,  51,  55,  44,\n",
       "          44,  38,  14,  32,  74,  99,  66,  77,  73,   7,  53, 106,  76,  23,\n",
       "          24,  49,  58,  23,  71,  49,  55,  31,  71,  80,   8,  83,  42,  13,\n",
       "          66, 103,  18,  64,  31,  63,  73,  16,   5,  13,  92,  57,  89,   7,\n",
       "         108,  12,   3,   6,   6,  63,  76,  20,  89,  93,  99,  33,  94,  36,\n",
       "          17,  80,   7,  62,  86,  84,  40,  83,  72,  10,  77,  50,  80,  13,\n",
       "          47,  23,  62,  30, 107,  67, 100,  52,  21,  67,  66, 100,  39,  33,\n",
       "          47,  55,  87,  88,  35,  42,  42,  79,  94,  43, 102,  11,  52,  72,\n",
       "          29,  75,  78,  97,  53, 106,  31,  78,  42,  56,  46,  36,  88,  53,\n",
       "           6, 107,  99,  12,  44,  57,  97,  29,  72,  87,  12,  12,  12,  14,\n",
       "          28,  45,  22,   1,  18,  54,  18,  91, 107,  85,  39,  35,  91,  29,\n",
       "          10,  37,  13,  40,  70,  57,  81,  44,  32,  68,  62,  69,  28,  98,\n",
       "          63,  79,  74,   5, 103,  59,  28, 102,  26,  82,  23,  99,  25,  13,\n",
       "          71,  65,  14,  54,   8,  81,  88,  17,  82,  81,  70,  30,  63,  82,\n",
       "          88,  90,  78,  53,  91,  53,  67,  36,  58,  86,  75,  11,  53,  42,\n",
       "          66,  51,  11,  32,   0,  55,  59,  51,   6,   2,  22,  44,  81,  90,\n",
       "          75,  88,  24,  17,  34,  17,  70,  47,  45,  51,  12,  74,  29,  85,\n",
       "          65,  70,  88,  94,  50,  72,  40,  82, 100,  14,  43,  95,  75,  19,\n",
       "          56,  88,  24,  65,  57,  17,  74,  29,  70,  80,  66,  96,  51,  15,\n",
       "          79,  31,  93, 101,  76,  38,  14,  65,  98,  52,  20,  75,  42,  77,\n",
       "          74,  15,  99,  82,  26,  87,  71,  74,  52,  83,   4,  44,  24,  26,\n",
       "          60,  18,  55,  88,  94,  77,  37,  98,  82,  28,   9,  33,  87,  88,\n",
       "          28,   6,  56,  88,  31,   1,  17,  95,  85,  92,  35,  72,  56,  31,\n",
       "          40,  64,  56,  15,  73,  68,  93,  14,  36,  82,  47,  53,  27,  71,\n",
       "          92,   5,  78,  77,  84,  75,  94,  76,  77,  29,  46,  98,  10,  35,\n",
       "          18,  52,  89,  25,  32,  46,  21,  51,  52,  31,   9,  45,  63,   8,\n",
       "          65,  73,  84,  54,  95,  81,  25,  43,  39,   7, 103,  84,  17,  77,\n",
       "         107,  65,  63,  52,  88,  34,  91,  31,  76,  62,  23, 104,  35,  38,\n",
       "          57,  14,  93,  83,  40,  10,  26,  52,  66,  50,  40,  43,  39,  40,\n",
       "          81,  13,  68,  83,  49,  45,   9,  93,  99,  53,  97,  54, 101,  12,\n",
       "          48,  64,  12,  84,  87,  91,  56,  53,  23,  93,  92,  86,  35,  93,\n",
       "          74,  71,  81,  20,  13,  74,  24,  36,  96,   8,  58,  56,  96, 101,\n",
       "          56,   9,  25,  94,  99,   9,  65,  89,  79,  63,  86,  70,  37,  99,\n",
       "          15,  92,  83,   9,  55,  19,  88,  14,  91,  22,  71,  49, 102,  79,\n",
       "          49,  80,  12,  59,  28,  22,  73,  89, 103, 102,   8,  53,  72,  46,\n",
       "         101,  59,  58,  65,  84,  82,  87,  66,  46,  61,  27,  86,  91,  68,\n",
       "          60,  24,  90,  68,  60,  64,  43, 106,  84,  90,  88,  30,  81,  63,\n",
       "           9,  27,  93,  44,  11,  82,  63, 105,  73,  78,  86,  62,  99,  34,\n",
       "          64,  97,  83,  10,  47,  97,  59,  33,  83,  94,  41,  78,  91,  73,\n",
       "          41,   8,  21,  13,  32,  86, 102,  56,  99,  34,  58,  15,   1,  44,\n",
       "          66,  14,  19,  24,  58,  88,  19,  23,  12,  15,  66,  14,  43,  60,\n",
       "         100,  66,  59, 100,  39,  40,  91,   2,  53,  13,  96,  14,  16,  52,\n",
       "           1,  89,  17,  10,  58,  90, 101,   9,   3,  56,  91,  71,  31,  94,\n",
       "          24,  68,  14,  81,  36,  62,  50,  92,  22,  34,  31,  97,  19,  31,\n",
       "          88,  18,  75,  31, 107,  39]])"
      ]
     },
     "execution_count": 43,
     "metadata": {},
     "output_type": "execute_result"
    }
   ],
   "source": [
    "(torch.randint(0,100,(1,1000))+example_targets)"
   ]
  },
  {
   "cell_type": "code",
   "execution_count": 9,
   "metadata": {
    "execution": {
     "iopub.execute_input": "2021-05-19T13:35:07.358838Z",
     "iopub.status.busy": "2021-05-19T13:35:07.357906Z",
     "iopub.status.idle": "2021-05-19T13:35:07.362823Z",
     "shell.execute_reply": "2021-05-19T13:35:07.362302Z",
     "shell.execute_reply.started": "2021-05-19T13:35:07.358701Z"
    }
   },
   "outputs": [],
   "source": [
    "import torch.nn as nn\n",
    "import torch.nn.functional as F\n",
    "import torch.optim as optim\n",
    "\n"
   ]
  },
  {
   "cell_type": "code",
   "execution_count": 11,
   "metadata": {
    "execution": {
     "iopub.execute_input": "2021-05-19T13:40:14.614092Z",
     "iopub.status.busy": "2021-05-19T13:40:14.613896Z",
     "iopub.status.idle": "2021-05-19T13:40:14.619398Z",
     "shell.execute_reply": "2021-05-19T13:40:14.618674Z",
     "shell.execute_reply.started": "2021-05-19T13:40:14.614067Z"
    }
   },
   "outputs": [],
   "source": [
    "class Net(nn.Module):\n",
    "    def __init__(self):\n",
    "        super(Net, self).__init__()\n",
    "        self.conv1 = nn.Conv2d(1, 10, kernel_size=5)\n",
    "        self.conv2 = nn.Conv2d(10, 20, kernel_size=5)\n",
    "        self.conv2_drop = nn.Dropout2d()\n",
    "        self.fc1 = nn.Linear(320, 50)\n",
    "        self.fc2 = nn.Linear(50, 10)\n",
    "\n",
    "    def forward(self, x):\n",
    "        x = F.relu(F.max_pool2d(self.conv1(x), 2))\n",
    "        x = F.relu(F.max_pool2d(self.conv2_drop(self.conv2(x)), 2))\n",
    "        x = x.view(-1, 320)  ## flatten\n",
    "        x = F.relu(self.fc1(x))\n",
    "        x = F.dropout(x, training=self.training)\n",
    "        x = self.fc2(x)\n",
    "        return F.log_softmax(x)"
   ]
  },
  {
   "cell_type": "code",
   "execution_count": 12,
   "metadata": {
    "execution": {
     "iopub.execute_input": "2021-05-19T13:40:17.525409Z",
     "iopub.status.busy": "2021-05-19T13:40:17.524453Z",
     "iopub.status.idle": "2021-05-19T13:40:17.539128Z",
     "shell.execute_reply": "2021-05-19T13:40:17.536961Z",
     "shell.execute_reply.started": "2021-05-19T13:40:17.525291Z"
    }
   },
   "outputs": [],
   "source": [
    "network = Net()\n",
    "optimizer = optim.SGD(network.parameters(), lr=learning_rate,\n",
    "                      momentum=momentum)"
   ]
  },
  {
   "cell_type": "code",
   "execution_count": 13,
   "metadata": {
    "execution": {
     "iopub.execute_input": "2021-05-19T13:40:41.162069Z",
     "iopub.status.busy": "2021-05-19T13:40:41.161003Z",
     "iopub.status.idle": "2021-05-19T13:40:41.179697Z",
     "shell.execute_reply": "2021-05-19T13:40:41.176539Z",
     "shell.execute_reply.started": "2021-05-19T13:40:41.161903Z"
    }
   },
   "outputs": [],
   "source": [
    "train_losses = []\n",
    "train_counter = []\n",
    "test_losses = []\n",
    "test_counter = [i*len(train_loader.dataset) for i in range(n_epochs + 1)]"
   ]
  },
  {
   "cell_type": "code",
   "execution_count": 18,
   "metadata": {
    "execution": {
     "iopub.execute_input": "2021-05-19T13:41:54.299623Z",
     "iopub.status.busy": "2021-05-19T13:41:54.299414Z",
     "iopub.status.idle": "2021-05-19T13:41:54.304140Z",
     "shell.execute_reply": "2021-05-19T13:41:54.303654Z",
     "shell.execute_reply.started": "2021-05-19T13:41:54.299599Z"
    }
   },
   "outputs": [],
   "source": [
    "def train(epoch):\n",
    "  network.train()\n",
    "  for batch_idx, (data, target) in enumerate(train_loader):\n",
    "    optimizer.zero_grad()\n",
    "    output = network(data)\n",
    "    loss = F.nll_loss(output, target)\n",
    "    loss.backward()\n",
    "    optimizer.step()\n",
    "    if batch_idx % log_interval == 0:\n",
    "      print('Train Epoch: {} [{}/{} ({:.0f}%)]\\tLoss: {:.6f}'.format(\n",
    "        epoch, batch_idx * len(data), len(train_loader.dataset),\n",
    "        100. * batch_idx / len(train_loader), loss.item()))\n",
    "      train_losses.append(loss.item())\n",
    "      train_counter.append(\n",
    "        (batch_idx*64) + ((epoch-1)*len(train_loader.dataset)))\n",
    "      torch.save(network.state_dict(), './results/model.pth')\n",
    "      torch.save(optimizer.state_dict(), './results/optimizer.pth')"
   ]
  },
  {
   "cell_type": "code",
   "execution_count": 19,
   "metadata": {
    "execution": {
     "iopub.execute_input": "2021-05-19T13:41:54.524863Z",
     "iopub.status.busy": "2021-05-19T13:41:54.524618Z",
     "iopub.status.idle": "2021-05-19T13:41:54.529138Z",
     "shell.execute_reply": "2021-05-19T13:41:54.528634Z",
     "shell.execute_reply.started": "2021-05-19T13:41:54.524827Z"
    }
   },
   "outputs": [],
   "source": [
    "def test():\n",
    "  network.eval()\n",
    "  test_loss = 0\n",
    "  correct = 0\n",
    "  with torch.no_grad():\n",
    "    for data, target in test_loader:\n",
    "      output = network(data)\n",
    "      test_loss += F.nll_loss(output, target, size_average=False).item()\n",
    "      pred = output.data.max(1, keepdim=True)[1]\n",
    "      correct += pred.eq(target.data.view_as(pred)).sum()\n",
    "  test_loss /= len(test_loader.dataset)\n",
    "  test_losses.append(test_loss)\n",
    "  print('\\nTest set: Avg. loss: {:.4f}, Accuracy: {}/{} ({:.0f}%)\\n'.format(\n",
    "    test_loss, correct, len(test_loader.dataset),\n",
    "    100. * correct / len(test_loader.dataset)))"
   ]
  },
  {
   "cell_type": "code",
   "execution_count": 20,
   "metadata": {
    "execution": {
     "iopub.execute_input": "2021-05-19T13:41:55.061164Z",
     "iopub.status.busy": "2021-05-19T13:41:55.060727Z",
     "iopub.status.idle": "2021-05-19T13:42:22.706408Z",
     "shell.execute_reply": "2021-05-19T13:42:22.705175Z",
     "shell.execute_reply.started": "2021-05-19T13:41:55.061111Z"
    }
   },
   "outputs": [],
   "source": [
    "test()\n",
    "for epoch in range(1, n_epochs + 1):\n",
    "  train(epoch)\n",
    "  test()"
   ]
  },
  {
   "cell_type": "code",
   "execution_count": 21,
   "metadata": {
    "execution": {
     "iopub.execute_input": "2021-05-19T13:42:43.683920Z",
     "iopub.status.busy": "2021-05-19T13:42:43.682944Z",
     "iopub.status.idle": "2021-05-19T13:42:43.961116Z",
     "shell.execute_reply": "2021-05-19T13:42:43.960584Z",
     "shell.execute_reply.started": "2021-05-19T13:42:43.683801Z"
    }
   },
   "outputs": [
    {
     "data": {
      "image/png": "[encoded data removed]",
      "text/plain": [
       "<Figure size 432x288 with 1 Axes>"
      ]
     },
     "execution_count": 21,
     "metadata": {},
     "output_type": "execute_result"
    },
    {
     "data": {
      "image/png": "[encoded data removed]",
      "text/plain": [
       "<Figure size 432x288 with 1 Axes>"
      ]
     },
     "metadata": {
      "needs_background": "light"
     },
     "output_type": "display_data"
    }
   ],
   "source": [
    "fig = plt.figure()\n",
    "plt.plot(train_counter, train_losses, color='blue')\n",
    "plt.scatter(test_counter, test_losses, color='red')\n",
    "plt.legend(['Train Loss', 'Test Loss'], loc='upper right')\n",
    "plt.xlabel('number of training examples seen')\n",
    "plt.ylabel('negative log likelihood loss')\n",
    "fig"
   ]
  },
  {
   "cell_type": "code",
   "execution_count": 22,
   "metadata": {
    "execution": {
     "iopub.execute_input": "2021-05-19T13:43:08.836434Z",
     "iopub.status.busy": "2021-05-19T13:43:08.836185Z",
     "iopub.status.idle": "2021-05-19T13:43:08.868022Z",
     "shell.execute_reply": "2021-05-19T13:43:08.867503Z",
     "shell.execute_reply.started": "2021-05-19T13:43:08.836403Z"
    }
   },
   "outputs": [
    {
     "name": "stderr",
     "output_type": "stream",
     "text": [
      "/home/prateek/.virtualenvs/cv_p36/lib/python3.6/site-packages/ipykernel_launcher.py:17: UserWarning: Implicit dimension choice for log_softmax has been deprecated. Change the call to include dim=X as an argument.\n"
     ]
    }
   ],
   "source": [
    "with torch.no_grad():\n",
    "  output = network(example_data)"
   ]
  }
 ],
 "metadata": {
  "kernelspec": {
   "display_name": "cv_p36",
   "language": "python",
   "name": "cv_p36"
  },
  "language_info": {
   "codemirror_mode": {
    "name": "ipython",
    "version": 3
   },
   "file_extension": ".py",
   "mimetype": "text/x-python",
   "name": "python",
   "nbconvert_exporter": "python",
   "pygments_lexer": "ipython3",
   "version": "3.6.8"
  },
  "widgets": {
   "application/vnd.jupyter.widget-state+json": {
    "state": {
     "00716141b7474b788a88ee0fcf6e907d": {
      "model_module": "@jupyter-widgets/base",
      "model_module_version": "1.2.0",
      "model_name": "LayoutModel",
      "state": {}
     },
     "028d09ba8b2a4cacb0ca0d0571d2586f": {
      "model_module": "@jupyter-widgets/base",
      "model_module_version": "1.2.0",
      "model_name": "LayoutModel",
      "state": {}
     },
     "058829e24b29428981b97375dbcb2d86": {
      "model_module": "@jupyter-widgets/base",
      "model_module_version": "1.2.0",
      "model_name": "LayoutModel",
      "state": {}
     },
     "06767f6e226343da9961b9473465a0bf": {
      "model_module": "@jupyter-widgets/controls",
      "model_module_version": "1.5.0",
      "model_name": "DescriptionStyleModel",
      "state": {
       "description_width": ""
      }
     },
     "07a340990f4b40d293b36bc51576ac5f": {
      "model_module": "@jupyter-widgets/controls",
      "model_module_version": "1.5.0",
      "model_name": "HTMLModel",
      "state": {
       "layout": "IPY_MODEL_1e7608ff58c64fa8be1a171ae72cb2c6",
       "style": "IPY_MODEL_c2767efe98b6457d84acf7790366bd79",
       "value": " 5120/? [00:00&lt;00:00, 119502.49it/s]"
      }
     },
     "0d4482319c814c5fa2112e8081dd0f67": {
      "model_module": "@jupyter-widgets/base",
      "model_module_version": "1.2.0",
      "model_name": "LayoutModel",
      "state": {}
     },
     "1e7608ff58c64fa8be1a171ae72cb2c6": {
      "model_module": "@jupyter-widgets/base",
      "model_module_version": "1.2.0",
      "model_name": "LayoutModel",
      "state": {}
     },
     "24cbadf6e81446db85850e69f922ea46": {
      "model_module": "@jupyter-widgets/controls",
      "model_module_version": "1.5.0",
      "model_name": "DescriptionStyleModel",
      "state": {
       "description_width": ""
      }
     },
     "25c30ee566cb4a6eb33aecb8268d7520": {
      "model_module": "@jupyter-widgets/base",
      "model_module_version": "1.2.0",
      "model_name": "LayoutModel",
      "state": {}
     },
     "2b154a64a4a543709047323bb42a7fd0": {
      "model_module": "@jupyter-widgets/base",
      "model_module_version": "1.2.0",
      "model_name": "LayoutModel",
      "state": {}
     },
     "2cec38dc32774902aa4eff3f2265a239": {
      "model_module": "@jupyter-widgets/base",
      "model_module_version": "1.2.0",
      "model_name": "LayoutModel",
      "state": {}
     },
     "4093f1ba4d014d44819233f10726749f": {
      "model_module": "@jupyter-widgets/controls",
      "model_module_version": "1.5.0",
      "model_name": "HBoxModel",
      "state": {
       "children": [
        "IPY_MODEL_e323b515624d4e17aba4ccf4dc3dc9e5",
        "IPY_MODEL_727322f3dd7f4d558b003c8a5428b004",
        "IPY_MODEL_8b7b2f3d98cf4fceabd8c2a32049e204"
       ],
       "layout": "IPY_MODEL_2b154a64a4a543709047323bb42a7fd0"
      }
     },
     "41935e150b2149729dadb5c34399e7f1": {
      "model_module": "@jupyter-widgets/base",
      "model_module_version": "1.2.0",
      "model_name": "LayoutModel",
      "state": {}
     },
     "4c6d2f1da5db4105a4a60add79027771": {
      "model_module": "@jupyter-widgets/base",
      "model_module_version": "1.2.0",
      "model_name": "LayoutModel",
      "state": {}
     },
     "4d8a77ad69424f238b259b997c7e5738": {
      "model_module": "@jupyter-widgets/base",
      "model_module_version": "1.2.0",
      "model_name": "LayoutModel",
      "state": {}
     },
     "62e0dbfc86364aabab078312344a2ffc": {
      "model_module": "@jupyter-widgets/controls",
      "model_module_version": "1.5.0",
      "model_name": "DescriptionStyleModel",
      "state": {
       "description_width": ""
      }
     },
     "6356b204212541098980f942eee840cd": {
      "model_module": "@jupyter-widgets/controls",
      "model_module_version": "1.5.0",
      "model_name": "FloatProgressModel",
      "state": {
       "bar_style": "success",
       "layout": "IPY_MODEL_25c30ee566cb4a6eb33aecb8268d7520",
       "max": 4542,
       "style": "IPY_MODEL_ae60db102b71434baed1c7818b7741ee",
       "value": 4542
      }
     },
     "65d214a48fa545c3a13b0c12e4ee10da": {
      "model_module": "@jupyter-widgets/controls",
      "model_module_version": "1.5.0",
      "model_name": "ProgressStyleModel",
      "state": {
       "description_width": ""
      }
     },
     "6f1e42b46c3443b48f7081deaaf43397": {
      "model_module": "@jupyter-widgets/controls",
      "model_module_version": "1.5.0",
      "model_name": "HTMLModel",
      "state": {
       "layout": "IPY_MODEL_8f502c3474b343fdb356abe1438a5ea0",
       "style": "IPY_MODEL_62e0dbfc86364aabab078312344a2ffc",
       "value": " 9913344/? [04:43&lt;00:00, 34036.45it/s]"
      }
     },
     "727322f3dd7f4d558b003c8a5428b004": {
      "model_module": "@jupyter-widgets/controls",
      "model_module_version": "1.5.0",
      "model_name": "FloatProgressModel",
      "state": {
       "bar_style": "success",
       "layout": "IPY_MODEL_4c6d2f1da5db4105a4a60add79027771",
       "max": 1648877,
       "style": "IPY_MODEL_b4c66e4d6d6d431e85771076c3180fc4",
       "value": 1648877
      }
     },
     "7744392192be4388960cc0d9ca04b6b4": {
      "model_module": "@jupyter-widgets/controls",
      "model_module_version": "1.5.0",
      "model_name": "FloatProgressModel",
      "state": {
       "bar_style": "success",
       "layout": "IPY_MODEL_4d8a77ad69424f238b259b997c7e5738",
       "max": 9912422,
       "style": "IPY_MODEL_65d214a48fa545c3a13b0c12e4ee10da",
       "value": 9912422
      }
     },
     "7cf1ba8664724a5d8b907e82bb7644a0": {
      "model_module": "@jupyter-widgets/controls",
      "model_module_version": "1.5.0",
      "model_name": "DescriptionStyleModel",
      "state": {
       "description_width": ""
      }
     },
     "8b7b2f3d98cf4fceabd8c2a32049e204": {
      "model_module": "@jupyter-widgets/controls",
      "model_module_version": "1.5.0",
      "model_name": "HTMLModel",
      "state": {
       "layout": "IPY_MODEL_028d09ba8b2a4cacb0ca0d0571d2586f",
       "style": "IPY_MODEL_06767f6e226343da9961b9473465a0bf",
       "value": " 1649664/? [00:50&lt;00:00, 29444.84it/s]"
      }
     },
     "8bebb510db9c4406b9116825c9c92a38": {
      "model_module": "@jupyter-widgets/controls",
      "model_module_version": "1.5.0",
      "model_name": "HTMLModel",
      "state": {
       "layout": "IPY_MODEL_b791e1ba6246479ebe6d293ed342edb5",
       "style": "IPY_MODEL_d6ab06d6bfac41f1b8537cf40a57e0bb"
      }
     },
     "8f502c3474b343fdb356abe1438a5ea0": {
      "model_module": "@jupyter-widgets/base",
      "model_module_version": "1.2.0",
      "model_name": "LayoutModel",
      "state": {}
     },
     "908dbb3a359f4ae19565598f3a0783ba": {
      "model_module": "@jupyter-widgets/controls",
      "model_module_version": "1.5.0",
      "model_name": "HBoxModel",
      "state": {
       "children": [
        "IPY_MODEL_8bebb510db9c4406b9116825c9c92a38",
        "IPY_MODEL_7744392192be4388960cc0d9ca04b6b4",
        "IPY_MODEL_6f1e42b46c3443b48f7081deaaf43397"
       ],
       "layout": "IPY_MODEL_0d4482319c814c5fa2112e8081dd0f67"
      }
     },
     "90996161aa974832a12db13c3e3dc8dd": {
      "model_module": "@jupyter-widgets/controls",
      "model_module_version": "1.5.0",
      "model_name": "DescriptionStyleModel",
      "state": {
       "description_width": ""
      }
     },
     "91502b52126f4af7aec6202e783b14f7": {
      "model_module": "@jupyter-widgets/controls",
      "model_module_version": "1.5.0",
      "model_name": "ProgressStyleModel",
      "state": {
       "description_width": ""
      }
     },
     "98f632be8bc94c66ab44c4ae9898e968": {
      "model_module": "@jupyter-widgets/controls",
      "model_module_version": "1.5.0",
      "model_name": "HBoxModel",
      "state": {
       "children": [
        "IPY_MODEL_9e10e83488e74d27bd08f25c8c207909",
        "IPY_MODEL_6356b204212541098980f942eee840cd",
        "IPY_MODEL_07a340990f4b40d293b36bc51576ac5f"
       ],
       "layout": "IPY_MODEL_bfad4e600c64407489e3938e9f053e60"
      }
     },
     "9e10e83488e74d27bd08f25c8c207909": {
      "model_module": "@jupyter-widgets/controls",
      "model_module_version": "1.5.0",
      "model_name": "HTMLModel",
      "state": {
       "layout": "IPY_MODEL_2cec38dc32774902aa4eff3f2265a239",
       "style": "IPY_MODEL_90996161aa974832a12db13c3e3dc8dd"
      }
     },
     "a4a6f09d27bf42c88d307f5f4cd08eb4": {
      "model_module": "@jupyter-widgets/base",
      "model_module_version": "1.2.0",
      "model_name": "LayoutModel",
      "state": {}
     },
     "ae60db102b71434baed1c7818b7741ee": {
      "model_module": "@jupyter-widgets/controls",
      "model_module_version": "1.5.0",
      "model_name": "ProgressStyleModel",
      "state": {
       "description_width": ""
      }
     },
     "b4c66e4d6d6d431e85771076c3180fc4": {
      "model_module": "@jupyter-widgets/controls",
      "model_module_version": "1.5.0",
      "model_name": "ProgressStyleModel",
      "state": {
       "description_width": ""
      }
     },
     "b791e1ba6246479ebe6d293ed342edb5": {
      "model_module": "@jupyter-widgets/base",
      "model_module_version": "1.2.0",
      "model_name": "LayoutModel",
      "state": {}
     },
     "bd0f86a8824647ac92c89eb74f125863": {
      "model_module": "@jupyter-widgets/controls",
      "model_module_version": "1.5.0",
      "model_name": "HTMLModel",
      "state": {
       "layout": "IPY_MODEL_d6f6dfef59354f3bbd2cdcea743ec474",
       "style": "IPY_MODEL_fbaf2b5e65f84fa58a4d601cad9da6c2",
       "value": " 29696/? [00:00&lt;00:00, 133672.89it/s]"
      }
     },
     "bfad4e600c64407489e3938e9f053e60": {
      "model_module": "@jupyter-widgets/base",
      "model_module_version": "1.2.0",
      "model_name": "LayoutModel",
      "state": {}
     },
     "c2767efe98b6457d84acf7790366bd79": {
      "model_module": "@jupyter-widgets/controls",
      "model_module_version": "1.5.0",
      "model_name": "DescriptionStyleModel",
      "state": {
       "description_width": ""
      }
     },
     "d53ab8bcc82d404e8ad7e6e93414cee4": {
      "model_module": "@jupyter-widgets/controls",
      "model_module_version": "1.5.0",
      "model_name": "FloatProgressModel",
      "state": {
       "bar_style": "success",
       "layout": "IPY_MODEL_058829e24b29428981b97375dbcb2d86",
       "max": 28881,
       "style": "IPY_MODEL_91502b52126f4af7aec6202e783b14f7",
       "value": 28881
      }
     },
     "d6ab06d6bfac41f1b8537cf40a57e0bb": {
      "model_module": "@jupyter-widgets/controls",
      "model_module_version": "1.5.0",
      "model_name": "DescriptionStyleModel",
      "state": {
       "description_width": ""
      }
     },
     "d6f6dfef59354f3bbd2cdcea743ec474": {
      "model_module": "@jupyter-widgets/base",
      "model_module_version": "1.2.0",
      "model_name": "LayoutModel",
      "state": {}
     },
     "d84001b932e2423caafea08176931fc1": {
      "model_module": "@jupyter-widgets/controls",
      "model_module_version": "1.5.0",
      "model_name": "HBoxModel",
      "state": {
       "children": [
        "IPY_MODEL_e0b7331eb50f445c8d90916940dfe584",
        "IPY_MODEL_d53ab8bcc82d404e8ad7e6e93414cee4",
        "IPY_MODEL_bd0f86a8824647ac92c89eb74f125863"
       ],
       "layout": "IPY_MODEL_41935e150b2149729dadb5c34399e7f1"
      }
     },
     "e0b7331eb50f445c8d90916940dfe584": {
      "model_module": "@jupyter-widgets/controls",
      "model_module_version": "1.5.0",
      "model_name": "HTMLModel",
      "state": {
       "layout": "IPY_MODEL_00716141b7474b788a88ee0fcf6e907d",
       "style": "IPY_MODEL_7cf1ba8664724a5d8b907e82bb7644a0"
      }
     },
     "e323b515624d4e17aba4ccf4dc3dc9e5": {
      "model_module": "@jupyter-widgets/controls",
      "model_module_version": "1.5.0",
      "model_name": "HTMLModel",
      "state": {
       "layout": "IPY_MODEL_a4a6f09d27bf42c88d307f5f4cd08eb4",
       "style": "IPY_MODEL_24cbadf6e81446db85850e69f922ea46"
      }
     },
     "fbaf2b5e65f84fa58a4d601cad9da6c2": {
      "model_module": "@jupyter-widgets/controls",
      "model_module_version": "1.5.0",
      "model_name": "DescriptionStyleModel",
      "state": {
       "description_width": ""
      }
     }
    },
    "version_major": 2,
    "version_minor": 0
   }
  }
 },
 "nbformat": 4,
 "nbformat_minor": 4
}
