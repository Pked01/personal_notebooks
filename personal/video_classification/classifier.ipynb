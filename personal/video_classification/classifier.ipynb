{
 "cells": [
  {
   "cell_type": "code",
   "execution_count": 1,
   "metadata": {
    "execution": {
     "iopub.execute_input": "2021-02-06T14:40:27.773053Z",
     "iopub.status.busy": "2021-02-06T14:40:27.772753Z",
     "iopub.status.idle": "2021-02-06T14:40:27.776461Z",
     "shell.execute_reply": "2021-02-06T14:40:27.775831Z",
     "shell.execute_reply.started": "2021-02-06T14:40:27.773013Z"
    }
   },
   "outputs": [],
   "source": [
    "data_dir = \"UCF50/\"\n",
    "img_height , img_width = 64, 64\n",
    "seq_len = 70\n",
    " "
   ]
  },
  {
   "cell_type": "code",
   "execution_count": 2,
   "metadata": {
    "execution": {
     "iopub.execute_input": "2021-02-06T14:40:28.208649Z",
     "iopub.status.busy": "2021-02-06T14:40:28.208263Z",
     "iopub.status.idle": "2021-02-06T14:40:28.445075Z",
     "shell.execute_reply": "2021-02-06T14:40:28.444204Z",
     "shell.execute_reply.started": "2021-02-06T14:40:28.208602Z"
    }
   },
   "outputs": [],
   "source": [
    "import os,cv2,pickle\n",
    "import numpy as np\n",
    "import IPython.display as Disp\n",
    "\n",
    "classes = os.listdir(\"UCF50/\")"
   ]
  },
  {
   "cell_type": "code",
   "execution_count": 3,
   "metadata": {
    "execution": {
     "iopub.execute_input": "2021-02-06T14:40:31.098782Z",
     "iopub.status.busy": "2021-02-06T14:40:31.098453Z",
     "iopub.status.idle": "2021-02-06T14:40:32.383266Z",
     "shell.execute_reply": "2021-02-06T14:40:32.382820Z",
     "shell.execute_reply.started": "2021-02-06T14:40:31.098740Z"
    }
   },
   "outputs": [],
   "source": [
    "import tensorflow as tf\n",
    "\n",
    "devices = tf.config.experimental.list_physical_devices(\"GPU\")\n",
    "\n",
    "tf.config.experimental.set_memory_growth(devices[0],True)"
   ]
  },
  {
   "cell_type": "code",
   "execution_count": 4,
   "metadata": {
    "execution": {
     "iopub.execute_input": "2021-02-06T14:40:32.384404Z",
     "iopub.status.busy": "2021-02-06T14:40:32.384165Z",
     "iopub.status.idle": "2021-02-06T14:40:32.387475Z",
     "shell.execute_reply": "2021-02-06T14:40:32.387048Z",
     "shell.execute_reply.started": "2021-02-06T14:40:32.384304Z"
    }
   },
   "outputs": [],
   "source": [
    "#  Creating frames from videos\n",
    " \n",
    "def frames_extraction(video_path):\n",
    "    frames_list = []\n",
    "     \n",
    "    vidObj = cv2.VideoCapture(video_path)\n",
    "    # Used as counter variable \n",
    "    count = 1\n",
    " \n",
    "    while count <= seq_len: \n",
    "         \n",
    "        success, image = vidObj.read() \n",
    "        if success:\n",
    "            image = cv2.resize(image, (img_height, img_width))\n",
    "            frames_list.append(image)\n",
    "            count += 1\n",
    "        else:\n",
    "            print(\"Defected frame\")\n",
    "            break\n",
    " \n",
    "            \n",
    "    return frames_list\n"
   ]
  },
  {
   "cell_type": "code",
   "execution_count": 5,
   "metadata": {
    "execution": {
     "iopub.execute_input": "2021-02-06T14:40:32.388177Z",
     "iopub.status.busy": "2021-02-06T14:40:32.388029Z",
     "iopub.status.idle": "2021-02-06T14:40:32.392142Z",
     "shell.execute_reply": "2021-02-06T14:40:32.391766Z",
     "shell.execute_reply.started": "2021-02-06T14:40:32.388156Z"
    }
   },
   "outputs": [],
   "source": [
    "def create_data(input_dir):\n",
    "    X = []\n",
    "    Y = []\n",
    "     \n",
    "    classes_list = os.listdir(input_dir)\n",
    "    for c in classes_list:\n",
    "        print(c)\n",
    "        files_list = os.listdir(os.path.join(input_dir, c))\n",
    "        for f in files_list:\n",
    "            Disp.clear_output(wait = True)\n",
    "            frames = frames_extraction(os.path.join(os.path.join(input_dir, c), f))\n",
    "            if len(frames) == seq_len:\n",
    "                X.append(frames)\n",
    "             \n",
    "                y = [0]*len(classes)\n",
    "                y[classes.index(c)] = 1\n",
    "                Y.append(y)\n",
    "     \n",
    "    X = np.asarray(X)\n",
    "    Y = np.asarray(Y)\n",
    "    return X, Y"
   ]
  },
  {
   "cell_type": "code",
   "execution_count": 30,
   "metadata": {
    "execution": {
     "iopub.execute_input": "2021-02-07T05:34:17.250531Z",
     "iopub.status.busy": "2021-02-07T05:34:17.250283Z",
     "iopub.status.idle": "2021-02-07T05:34:17.253681Z",
     "shell.execute_reply": "2021-02-07T05:34:17.253027Z",
     "shell.execute_reply.started": "2021-02-07T05:34:17.250489Z"
    }
   },
   "outputs": [],
   "source": [
    "from keras.layers import Dense,ConvLSTM2D,Flatten,Dropout,GlobalAveragePooling2D\n",
    "from keras import Sequential\n",
    "from keras.optimizers import SGD\n",
    "from keras.callbacks import EarlyStopping\n",
    "from sklearn.model_selection import train_test_split\n",
    "from sklearn.metrics import classification_report,accuracy_score\n"
   ]
  },
  {
   "cell_type": "code",
   "execution_count": 9,
   "metadata": {
    "execution": {
     "iopub.execute_input": "2021-02-06T14:42:00.866766Z",
     "iopub.status.busy": "2021-02-06T14:42:00.866570Z",
     "iopub.status.idle": "2021-02-06T14:42:01.286677Z",
     "shell.execute_reply": "2021-02-06T14:42:01.286049Z",
     "shell.execute_reply.started": "2021-02-06T14:42:00.866742Z"
    }
   },
   "outputs": [],
   "source": [
    "model = Sequential()\n",
    "model.add(ConvLSTM2D(filters = 64, kernel_size = (3, 3), return_sequences = False, data_format = \"channels_last\", input_shape = (seq_len, img_height, img_width, 3)))\n",
    "model.add(Dropout(0.2))\n",
    "model.add(Flatten())\n",
    "model.add(Dense(100, activation=\"relu\"))\n",
    "model.add(Dropout(0.3))\n",
    "model.add(Dense(len(classes), activation = \"softmax\"))"
   ]
  },
  {
   "cell_type": "code",
   "execution_count": 10,
   "metadata": {
    "execution": {
     "iopub.execute_input": "2021-02-06T14:42:05.032773Z",
     "iopub.status.busy": "2021-02-06T14:42:05.031879Z",
     "iopub.status.idle": "2021-02-06T14:42:05.038146Z",
     "shell.execute_reply": "2021-02-06T14:42:05.037726Z",
     "shell.execute_reply.started": "2021-02-06T14:42:05.032657Z"
    }
   },
   "outputs": [
    {
     "name": "stdout",
     "output_type": "stream",
     "text": [
      "Model: \"sequential_3\"\n",
      "_________________________________________________________________\n",
      "Layer (type)                 Output Shape              Param #   \n",
      "=================================================================\n",
      "conv_lst_m2d_3 (ConvLSTM2D)  (None, 62, 62, 64)        154624    \n",
      "_________________________________________________________________\n",
      "dropout_4 (Dropout)          (None, 62, 62, 64)        0         \n",
      "_________________________________________________________________\n",
      "flatten_3 (Flatten)          (None, 246016)            0         \n",
      "_________________________________________________________________\n",
      "dense_3 (Dense)              (None, 100)               24601700  \n",
      "_________________________________________________________________\n",
      "dropout_5 (Dropout)          (None, 100)               0         \n",
      "_________________________________________________________________\n",
      "dense_4 (Dense)              (None, 50)                5050      \n",
      "=================================================================\n",
      "Total params: 24,761,374\n",
      "Trainable params: 24,761,374\n",
      "Non-trainable params: 0\n",
      "_________________________________________________________________\n"
     ]
    }
   ],
   "source": [
    "model.summary()"
   ]
  },
  {
   "cell_type": "code",
   "execution_count": 8,
   "metadata": {
    "execution": {
     "iopub.execute_input": "2021-02-06T12:46:58.814000Z",
     "iopub.status.busy": "2021-02-06T12:46:58.813805Z",
     "iopub.status.idle": "2021-02-06T12:48:47.183117Z",
     "shell.execute_reply": "2021-02-06T12:48:47.182574Z",
     "shell.execute_reply.started": "2021-02-06T12:46:58.813976Z"
    }
   },
   "outputs": [
    {
     "name": "stdout",
     "output_type": "stream",
     "text": [
      "YoYo\n"
     ]
    }
   ],
   "source": [
    "X,Y = create_data(\"UCF50/\")"
   ]
  },
  {
   "cell_type": "code",
   "execution_count": 9,
   "metadata": {
    "execution": {
     "iopub.execute_input": "2021-02-06T12:48:47.184624Z",
     "iopub.status.busy": "2021-02-06T12:48:47.184373Z",
     "iopub.status.idle": "2021-02-06T12:50:42.710908Z",
     "shell.execute_reply": "2021-02-06T12:50:42.656204Z",
     "shell.execute_reply.started": "2021-02-06T12:48:47.184602Z"
    }
   },
   "outputs": [],
   "source": [
    "pickle.dump(X,open(\"data_X.pickle\",\"wb\"),protocol=4)\n",
    "pickle.dump(Y,open(\"data_Y.pickle\",\"wb\"))\n"
   ]
  },
  {
   "cell_type": "code",
   "execution_count": 11,
   "metadata": {
    "execution": {
     "iopub.execute_input": "2021-02-06T14:42:15.222335Z",
     "iopub.status.busy": "2021-02-06T14:42:15.221480Z",
     "iopub.status.idle": "2021-02-06T14:42:23.954755Z",
     "shell.execute_reply": "2021-02-06T14:42:23.952959Z",
     "shell.execute_reply.started": "2021-02-06T14:42:15.222223Z"
    }
   },
   "outputs": [],
   "source": [
    "X = pickle.load(open(\"data_X.pickle\",\"rb\"))\n",
    "Y = pickle.load(open(\"data_Y.pickle\",\"rb\"))"
   ]
  },
  {
   "cell_type": "code",
   "execution_count": 12,
   "metadata": {
    "execution": {
     "iopub.execute_input": "2021-02-06T14:42:23.957117Z",
     "iopub.status.busy": "2021-02-06T14:42:23.956697Z",
     "iopub.status.idle": "2021-02-06T14:42:26.792582Z",
     "shell.execute_reply": "2021-02-06T14:42:26.791999Z",
     "shell.execute_reply.started": "2021-02-06T14:42:23.957059Z"
    }
   },
   "outputs": [],
   "source": [
    "X_train, X_test, y_train, y_test = train_test_split(X, Y, test_size=0.20, shuffle=True, random_state=0)"
   ]
  },
  {
   "cell_type": "code",
   "execution_count": 13,
   "metadata": {
    "execution": {
     "iopub.execute_input": "2021-02-06T14:42:26.793470Z",
     "iopub.status.busy": "2021-02-06T14:42:26.793275Z",
     "iopub.status.idle": "2021-02-06T14:42:26.963216Z",
     "shell.execute_reply": "2021-02-06T14:42:26.962410Z",
     "shell.execute_reply.started": "2021-02-06T14:42:26.793432Z"
    }
   },
   "outputs": [],
   "source": [
    "del X,Y"
   ]
  },
  {
   "cell_type": "code",
   "execution_count": 14,
   "metadata": {
    "execution": {
     "iopub.execute_input": "2021-02-06T14:42:27.780530Z",
     "iopub.status.busy": "2021-02-06T14:42:27.780278Z",
     "iopub.status.idle": "2021-02-06T14:42:27.824161Z",
     "shell.execute_reply": "2021-02-06T14:42:27.823665Z",
     "shell.execute_reply.started": "2021-02-06T14:42:27.780506Z"
    }
   },
   "outputs": [],
   "source": [
    "opt = SGD(lr=0.001)\n",
    "model.compile(loss='categorical_crossentropy', optimizer=opt, metrics=[\"accuracy\"])"
   ]
  },
  {
   "cell_type": "code",
   "execution_count": 15,
   "metadata": {
    "execution": {
     "iopub.execute_input": "2021-02-06T14:42:28.774615Z",
     "iopub.status.busy": "2021-02-06T14:42:28.774384Z",
     "iopub.status.idle": "2021-02-06T14:42:28.777194Z",
     "shell.execute_reply": "2021-02-06T14:42:28.776573Z",
     "shell.execute_reply.started": "2021-02-06T14:42:28.774586Z"
    }
   },
   "outputs": [],
   "source": [
    "earlystop = EarlyStopping(patience=7)\n",
    "callbacks = [earlystop]"
   ]
  },
  {
   "cell_type": "code",
   "execution_count": 18,
   "metadata": {
    "execution": {
     "iopub.execute_input": "2021-02-06T14:45:45.797541Z",
     "iopub.status.busy": "2021-02-06T14:45:45.796739Z",
     "iopub.status.idle": "2021-02-06T19:45:00.472070Z",
     "shell.execute_reply": "2021-02-06T19:45:00.471602Z",
     "shell.execute_reply.started": "2021-02-06T14:45:45.797421Z"
    }
   },
   "outputs": [
    {
     "name": "stdout",
     "output_type": "stream",
     "text": [
      "Train on 4161 samples, validate on 1041 samples\n",
      "Epoch 1/40\n",
      "4161/4161 [==============================] - 611s 147ms/step - loss: 3.9260 - accuracy: 0.0252 - val_loss: 3.9095 - val_accuracy: 0.0307\n",
      "Epoch 2/40\n",
      "4161/4161 [==============================] - 632s 152ms/step - loss: 3.9104 - accuracy: 0.0293 - val_loss: 3.9080 - val_accuracy: 0.0307\n",
      "Epoch 3/40\n",
      "4161/4161 [==============================] - 635s 153ms/step - loss: 3.9067 - accuracy: 0.0293 - val_loss: 3.9065 - val_accuracy: 0.0307\n",
      "Epoch 4/40\n",
      "4161/4161 [==============================] - 637s 153ms/step - loss: 3.9069 - accuracy: 0.0308 - val_loss: 3.9045 - val_accuracy: 0.0307\n",
      "Epoch 5/40\n",
      "4161/4161 [==============================] - 640s 154ms/step - loss: 3.8970 - accuracy: 0.0341 - val_loss: 3.8177 - val_accuracy: 0.0557\n",
      "Epoch 6/40\n",
      "4161/4161 [==============================] - 643s 155ms/step - loss: 3.7186 - accuracy: 0.0944 - val_loss: 3.4035 - val_accuracy: 0.2037\n",
      "Epoch 7/40\n",
      "4161/4161 [==============================] - 646s 155ms/step - loss: 3.2028 - accuracy: 0.2213 - val_loss: 3.0701 - val_accuracy: 0.2728\n",
      "Epoch 8/40\n",
      "4161/4161 [==============================] - 643s 154ms/step - loss: 2.4455 - accuracy: 0.3843 - val_loss: 2.1840 - val_accuracy: 0.4601\n",
      "Epoch 9/40\n",
      "4161/4161 [==============================] - 645s 155ms/step - loss: 1.7250 - accuracy: 0.5511 - val_loss: 1.7804 - val_accuracy: 0.5562\n",
      "Epoch 10/40\n",
      "4161/4161 [==============================] - 644s 155ms/step - loss: 1.0851 - accuracy: 0.7152 - val_loss: 1.5747 - val_accuracy: 0.5898\n",
      "Epoch 11/40\n",
      "4161/4161 [==============================] - 644s 155ms/step - loss: 0.6193 - accuracy: 0.8435 - val_loss: 1.3549 - val_accuracy: 0.6206\n",
      "Epoch 12/40\n",
      "4161/4161 [==============================] - 643s 154ms/step - loss: 0.3450 - accuracy: 0.9250 - val_loss: 1.5698 - val_accuracy: 0.6033\n",
      "Epoch 13/40\n",
      "4161/4161 [==============================] - 644s 155ms/step - loss: 0.2556 - accuracy: 0.9457 - val_loss: 1.1709 - val_accuracy: 0.6715\n",
      "Epoch 14/40\n",
      "4161/4161 [==============================] - 646s 155ms/step - loss: 0.1613 - accuracy: 0.9695 - val_loss: 1.1420 - val_accuracy: 0.6849\n",
      "Epoch 15/40\n",
      "4161/4161 [==============================] - 644s 155ms/step - loss: 0.1251 - accuracy: 0.9796 - val_loss: 1.1368 - val_accuracy: 0.6840\n",
      "Epoch 16/40\n",
      "4161/4161 [==============================] - 644s 155ms/step - loss: 0.0901 - accuracy: 0.9870 - val_loss: 1.0884 - val_accuracy: 0.7080\n",
      "Epoch 17/40\n",
      "4161/4161 [==============================] - 644s 155ms/step - loss: 0.0676 - accuracy: 0.9904 - val_loss: 1.0838 - val_accuracy: 0.7089\n",
      "Epoch 18/40\n",
      "4161/4161 [==============================] - 642s 154ms/step - loss: 0.0567 - accuracy: 0.9923 - val_loss: 1.0705 - val_accuracy: 0.7195\n",
      "Epoch 19/40\n",
      "4161/4161 [==============================] - 643s 154ms/step - loss: 0.0484 - accuracy: 0.9942 - val_loss: 1.0709 - val_accuracy: 0.7176\n",
      "Epoch 20/40\n",
      "4161/4161 [==============================] - 646s 155ms/step - loss: 0.0523 - accuracy: 0.9918 - val_loss: 1.0771 - val_accuracy: 0.7080\n",
      "Epoch 21/40\n",
      "4161/4161 [==============================] - 644s 155ms/step - loss: 0.0352 - accuracy: 0.9959 - val_loss: 1.0113 - val_accuracy: 0.7243\n",
      "Epoch 22/40\n",
      "4161/4161 [==============================] - 642s 154ms/step - loss: 0.0333 - accuracy: 0.9964 - val_loss: 1.0723 - val_accuracy: 0.7109\n",
      "Epoch 23/40\n",
      "4161/4161 [==============================] - 643s 155ms/step - loss: 0.0280 - accuracy: 0.9983 - val_loss: 1.0385 - val_accuracy: 0.7137\n",
      "Epoch 24/40\n",
      "4161/4161 [==============================] - 643s 155ms/step - loss: 0.0313 - accuracy: 0.9966 - val_loss: 1.0506 - val_accuracy: 0.7243\n",
      "Epoch 25/40\n",
      "4161/4161 [==============================] - 642s 154ms/step - loss: 0.0245 - accuracy: 0.9986 - val_loss: 1.0651 - val_accuracy: 0.7205\n",
      "Epoch 26/40\n",
      "4161/4161 [==============================] - 640s 154ms/step - loss: 0.0244 - accuracy: 0.9978 - val_loss: 1.0251 - val_accuracy: 0.7243\n",
      "Epoch 27/40\n",
      "4161/4161 [==============================] - 642s 154ms/step - loss: 0.0204 - accuracy: 0.9986 - val_loss: 1.0775 - val_accuracy: 0.7051\n",
      "Epoch 28/40\n",
      "4161/4161 [==============================] - 641s 154ms/step - loss: 0.0224 - accuracy: 0.9976 - val_loss: 1.0129 - val_accuracy: 0.7310\n"
     ]
    }
   ],
   "source": [
    "history = model.fit(x = X_train, y = y_train, epochs=40, batch_size = 2, shuffle=True, validation_split=0.2, callbacks=callbacks)"
   ]
  },
  {
   "cell_type": "code",
   "execution_count": 23,
   "metadata": {
    "execution": {
     "iopub.execute_input": "2021-02-07T05:23:58.809865Z",
     "iopub.status.busy": "2021-02-07T05:23:58.809008Z",
     "iopub.status.idle": "2021-02-07T05:24:39.258049Z",
     "shell.execute_reply": "2021-02-07T05:24:39.255736Z",
     "shell.execute_reply.started": "2021-02-07T05:23:58.809753Z"
    }
   },
   "outputs": [],
   "source": [
    "y_pred = model.predict(X_test)"
   ]
  },
  {
   "cell_type": "code",
   "execution_count": 40,
   "metadata": {
    "execution": {
     "iopub.execute_input": "2021-02-07T06:18:54.769225Z",
     "iopub.status.busy": "2021-02-07T06:18:54.769036Z",
     "iopub.status.idle": "2021-02-07T06:18:54.778346Z",
     "shell.execute_reply": "2021-02-07T06:18:54.777935Z",
     "shell.execute_reply.started": "2021-02-07T06:18:54.769202Z"
    }
   },
   "outputs": [
    {
     "name": "stdout",
     "output_type": "stream",
     "text": [
      "                    precision    recall  f1-score   support\n",
      "\n",
      "          Kayaking       0.72      0.47      0.57        38\n",
      "     BaseballPitch       0.96      0.93      0.95        28\n",
      "        Basketball       0.58      0.46      0.51        24\n",
      "        BenchPress       1.00      0.90      0.95        40\n",
      "            Biking       0.33      0.40      0.36        20\n",
      "         Billiards       1.00      1.00      1.00        21\n",
      "      BreastStroke       0.91      1.00      0.95        21\n",
      "      CleanAndJerk       0.80      0.76      0.78        21\n",
      "            Diving       0.77      0.85      0.81        27\n",
      "          Drumming       0.79      0.81      0.80        27\n",
      "           Fencing       0.85      0.58      0.69        19\n",
      "         GolfSwing       0.79      0.87      0.83        30\n",
      "          HighJump       0.50      0.56      0.53        25\n",
      "         HorseRace       0.76      0.76      0.76        25\n",
      "       HorseRiding       0.56      0.86      0.68        42\n",
      "          HulaHoop       0.86      0.73      0.79        26\n",
      "      JavelinThrow       0.62      0.45      0.53        22\n",
      "     JugglingBalls       0.83      0.76      0.79        25\n",
      "       JumpingJack       0.94      0.79      0.86        19\n",
      "          JumpRope       0.84      0.95      0.89        38\n",
      "            Lunges       0.53      0.42      0.47        24\n",
      "    MilitaryParade       0.51      0.92      0.66        26\n",
      "            Mixing       0.72      1.00      0.84        26\n",
      "         Nunchucks       0.69      0.62      0.65        29\n",
      "      PizzaTossing       0.81      0.68      0.74        25\n",
      "     PlayingGuitar       0.97      1.00      0.98        32\n",
      "      PlayingPiano       1.00      0.94      0.97        17\n",
      "      PlayingTabla       0.85      0.88      0.86        32\n",
      "     PlayingViolin       0.65      0.79      0.71        19\n",
      "         PoleVault       0.52      0.59      0.55        29\n",
      "       PommelHorse       0.83      0.74      0.78        27\n",
      "           PullUps       0.75      0.92      0.83        26\n",
      "             Punch       0.64      0.81      0.71        31\n",
      "           PushUps       0.77      0.77      0.77        13\n",
      "RockClimbingIndoor       0.65      0.67      0.66        30\n",
      "      RopeClimbing       0.79      0.54      0.64        28\n",
      "            Rowing       0.52      0.50      0.51        24\n",
      "         SalsaSpin       0.64      0.73      0.68        22\n",
      "     SkateBoarding       0.55      0.65      0.59        17\n",
      "            Skiing       0.59      0.91      0.71        22\n",
      "            Skijet       0.55      0.58      0.56        19\n",
      "    SoccerJuggling       0.75      0.78      0.77        23\n",
      "             Swing       0.86      0.51      0.64        37\n",
      "            TaiChi       0.71      0.94      0.81        18\n",
      "       TennisSwing       0.89      0.76      0.82        41\n",
      "       ThrowDiscus       0.90      0.83      0.86        23\n",
      " TrampolineJumping       0.79      0.58      0.67        26\n",
      " VolleyballSpiking       0.86      0.40      0.55        30\n",
      "    WalkingWithDog       0.50      0.35      0.41        20\n",
      "              YoYo       0.92      0.85      0.88        27\n",
      "\n",
      "          accuracy                           0.73      1301\n",
      "         macro avg       0.74      0.73      0.73      1301\n",
      "      weighted avg       0.75      0.73      0.73      1301\n",
      "\n"
     ]
    }
   ],
   "source": [
    "print(classification_report(y_test.tolist(), y_pred.tolist(),target_names=classes))"
   ]
  },
  {
   "cell_type": "code",
   "execution_count": 66,
   "metadata": {
    "execution": {
     "iopub.execute_input": "2021-02-07T06:58:19.802572Z",
     "iopub.status.busy": "2021-02-07T06:58:19.801678Z",
     "iopub.status.idle": "2021-02-07T06:58:40.695150Z",
     "shell.execute_reply": "2021-02-07T06:58:40.694512Z",
     "shell.execute_reply.started": "2021-02-07T06:58:19.802442Z"
    }
   },
   "outputs": [],
   "source": [
    "channel = \"/media/prateek/shared_space/01.mp4\"\n",
    "cap = cv2.VideoCapture(channel)\n",
    "batch =[]\n",
    "op_label = \"\"\n",
    "i = 0\n",
    "while True:\n",
    "    ret,frame = cap.read()\n",
    "    if not ret:\n",
    "        break\n",
    "    frame_res = cv2.resize(frame,(img_width,img_height))\n",
    "    batch.append(frame_res)\n",
    "    if len(batch)==seq_len:\n",
    "        op_label =  classes[np.argmax(model.predict(np.expand_dims(batch,axis=0)))]\n",
    "        i+=1\n",
    "        batch = []\n",
    "    cv2.putText(frame,\"updated_label \"+str(i)+\" = \"+op_label,(10,40),cv2.FONT_HERSHEY_COMPLEX,.5,(0,0,0),1,cv2.LINE_4)\n",
    "    cv2.imshow(\"preview\",frame)\n",
    "    k = cv2.waitKey(1)\n",
    "    if k==ord('q'):\n",
    "        break\n",
    "cap.release()\n",
    "cv2.destroyAllWindows()\n",
    "        \n"
   ]
  },
  {
   "cell_type": "code",
   "execution_count": null,
   "metadata": {},
   "outputs": [],
   "source": []
  }
 ],
 "metadata": {
  "kernelspec": {
   "display_name": "cv_p36",
   "language": "python",
   "name": "cv_p36"
  },
  "language_info": {
   "codemirror_mode": {
    "name": "ipython",
    "version": 3
   },
   "file_extension": ".py",
   "mimetype": "text/x-python",
   "name": "python",
   "nbconvert_exporter": "python",
   "pygments_lexer": "ipython3",
   "version": "3.6.8"
  },
  "widgets": {
   "application/vnd.jupyter.widget-state+json": {
    "state": {},
    "version_major": 2,
    "version_minor": 0
   }
  }
 },
 "nbformat": 4,
 "nbformat_minor": 4
}
