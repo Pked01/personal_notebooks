{
 "cells": [
  {
   "cell_type": "markdown",
   "id": "43573758-94a9-47e4-900f-323d3ffa378d",
   "metadata": {},
   "source": [
    "#### step 1 create clips from images"
   ]
  },
  {
   "cell_type": "code",
   "execution_count": 1,
   "id": "7aa72935-a081-4791-9943-0b41ea669658",
   "metadata": {
    "execution": {
     "iopub.execute_input": "2021-10-10T17:21:13.123671Z",
     "iopub.status.busy": "2021-10-10T17:21:13.123136Z",
     "iopub.status.idle": "2021-10-10T17:21:13.134594Z",
     "shell.execute_reply": "2021-10-10T17:21:13.133835Z",
     "shell.execute_reply.started": "2021-10-10T17:21:13.123537Z"
    },
    "tags": []
   },
   "outputs": [],
   "source": [
    "import glob,os"
   ]
  },
  {
   "cell_type": "code",
   "execution_count": 2,
   "id": "a5e86bfa-2161-46ad-ae94-9f243e067abf",
   "metadata": {
    "execution": {
     "iopub.execute_input": "2021-10-10T17:21:13.340206Z",
     "iopub.status.busy": "2021-10-10T17:21:13.339548Z",
     "iopub.status.idle": "2021-10-10T17:21:13.350001Z",
     "shell.execute_reply": "2021-10-10T17:21:13.347884Z",
     "shell.execute_reply.started": "2021-10-10T17:21:13.340096Z"
    },
    "tags": []
   },
   "outputs": [],
   "source": [
    "files = glob.glob(\"jaisalmer/*\")\n",
    "order = [7,3,2,4,9,1,0,8,6,5]\n",
    "files  = [files[i] for i in order]"
   ]
  },
  {
   "cell_type": "code",
   "execution_count": 3,
   "id": "e7cc4161-df38-4573-8874-57cddce063c0",
   "metadata": {
    "execution": {
     "iopub.execute_input": "2021-10-10T17:21:13.508954Z",
     "iopub.status.busy": "2021-10-10T17:21:13.508336Z",
     "iopub.status.idle": "2021-10-10T17:21:14.675750Z",
     "shell.execute_reply": "2021-10-10T17:21:14.675232Z",
     "shell.execute_reply.started": "2021-10-10T17:21:13.508882Z"
    },
    "tags": []
   },
   "outputs": [],
   "source": [
    "from moviepy.editor import *\n",
    "image_duration = 3\n",
    "vid_clips = [ImageClip(im_path).set_duration(image_duration).resize((900,1600)).crossfadein(.25*image_duration).crossfadeout(.25*image_duration) for im_path in files]"
   ]
  },
  {
   "cell_type": "code",
   "execution_count": 62,
   "id": "ca19b13b-c3ca-4f62-85d5-e4bc1920db40",
   "metadata": {
    "execution": {
     "iopub.execute_input": "2021-10-10T18:21:18.254608Z",
     "iopub.status.busy": "2021-10-10T18:21:18.253870Z",
     "iopub.status.idle": "2021-10-10T18:21:19.792505Z",
     "shell.execute_reply": "2021-10-10T18:21:19.791902Z",
     "shell.execute_reply.started": "2021-10-10T18:21:18.254501Z"
    },
    "tags": []
   },
   "outputs": [],
   "source": [
    "file_names = [f.split(\"/\")[-1][:-4].replace(\"_\", \" \") for f in files]\n",
    "file_names = [\"  \"+str(idx+1)+\". \"+file_name +\"  \" for idx,file_name in enumerate(file_names)]\n",
    "# Generate a text clip \n",
    "txt_clips = [TextClip(file_name, fontsize = 1.8*int(vid_clips[idx].w/len(file_name)), method='label', color = 'black',bg_color=\"white\",font=\"NewCenturySchlbk-BoldItalic\",stroke_color=\"gray\").\\\n",
    "             set_pos((int(.01*vid_clips[idx].h),int(.1*vid_clips[idx].w))).\\\n",
    "             set_duration(image_duration).set_opacity(.6) for idx,file_name in enumerate(file_names)] \n",
    " "
   ]
  },
  {
   "cell_type": "code",
   "execution_count": 63,
   "id": "b6a074fa-a60c-411e-b436-8c54855a21c6",
   "metadata": {
    "execution": {
     "iopub.execute_input": "2021-10-10T18:21:19.793644Z",
     "iopub.status.busy": "2021-10-10T18:21:19.793474Z",
     "iopub.status.idle": "2021-10-10T18:21:20.123938Z",
     "shell.execute_reply": "2021-10-10T18:21:20.123457Z",
     "shell.execute_reply.started": "2021-10-10T18:21:19.793620Z"
    },
    "tags": []
   },
   "outputs": [],
   "source": [
    "final_video_clips = [CompositeVideoClip([vid_clip,txt_clip]) for vid_clip,txt_clip in zip(vid_clips,txt_clips)]\n",
    "\n",
    "concat_clip = concatenate_videoclips(final_video_clips, method=\"compose\")"
   ]
  },
  {
   "cell_type": "code",
   "execution_count": 83,
   "id": "5124f97f-2b39-4e9d-8e3d-6d1c726d15a0",
   "metadata": {
    "execution": {
     "iopub.execute_input": "2021-10-10T18:51:02.041744Z",
     "iopub.status.busy": "2021-10-10T18:51:02.041465Z",
     "iopub.status.idle": "2021-10-10T18:51:02.179300Z",
     "shell.execute_reply": "2021-10-10T18:51:02.178682Z",
     "shell.execute_reply.started": "2021-10-10T18:51:02.041712Z"
    },
    "tags": []
   },
   "outputs": [],
   "source": [
    "music = AudioFileClip(\"music/y2mate.com - Chaudhary  Amit Trivedi feat Mame Khan Coke Studio  MTV Season 2.mp3\").set_start((0,48),change_end=False)"
   ]
  },
  {
   "cell_type": "code",
   "execution_count": null,
   "id": "c4ee4452-fa21-4724-9c61-e2d4327853b2",
   "metadata": {},
   "outputs": [],
   "source": [
    "music.set_start"
   ]
  },
  {
   "cell_type": "code",
   "execution_count": 84,
   "id": "e35016c2-738e-4ce3-8607-b7d2036e6ebf",
   "metadata": {
    "execution": {
     "iopub.execute_input": "2021-10-10T18:51:03.674835Z",
     "iopub.status.busy": "2021-10-10T18:51:03.674180Z",
     "iopub.status.idle": "2021-10-10T18:51:03.684268Z",
     "shell.execute_reply": "2021-10-10T18:51:03.681666Z",
     "shell.execute_reply.started": "2021-10-10T18:51:03.674752Z"
    },
    "tags": []
   },
   "outputs": [],
   "source": [
    "concat_clip.audio = music"
   ]
  },
  {
   "cell_type": "code",
   "execution_count": 85,
   "id": "617965c2-ac3d-45ed-b842-af3ee024e7c4",
   "metadata": {
    "execution": {
     "iopub.execute_input": "2021-10-10T18:51:04.907913Z",
     "iopub.status.busy": "2021-10-10T18:51:04.907297Z",
     "iopub.status.idle": "2021-10-10T18:51:07.578397Z",
     "shell.execute_reply": "2021-10-10T18:51:07.577850Z",
     "shell.execute_reply.started": "2021-10-10T18:51:04.907841Z"
    },
    "tags": []
   },
   "outputs": [
    {
     "name": "stdout",
     "output_type": "stream",
     "text": [
      "time, position, color :  1.467, (775, 191), [179 197 221]\n",
      "Interrupt\n"
     ]
    },
    {
     "data": {
      "text/plain": [
       "[{'time': 1.4666666666666666,\n",
       "  'position': (775, 191),\n",
       "  'color': array([179, 197, 221], dtype=uint8)}]"
      ]
     },
     "execution_count": 85,
     "metadata": {},
     "output_type": "execute_result"
    }
   ],
   "source": [
    "concat_clip.preview()"
   ]
  },
  {
   "cell_type": "code",
   "execution_count": 57,
   "id": "627e75ab-a4cd-473a-9978-9672130a1a8b",
   "metadata": {
    "execution": {
     "iopub.execute_input": "2021-10-10T18:14:21.886554Z",
     "iopub.status.busy": "2021-10-10T18:14:21.885555Z",
     "iopub.status.idle": "2021-10-10T18:17:05.785909Z",
     "shell.execute_reply": "2021-10-10T18:17:05.785410Z",
     "shell.execute_reply.started": "2021-10-10T18:14:21.886442Z"
    },
    "tags": []
   },
   "outputs": [
    {
     "name": "stderr",
     "output_type": "stream",
     "text": [
      "t:   0%|          | 0/720 [00:00<?, ?it/s, now=None]"
     ]
    },
    {
     "name": "stdout",
     "output_type": "stream",
     "text": [
      "Moviepy - Building video test1.mp4.\n",
      "Moviepy - Writing video test1.mp4\n",
      "\n"
     ]
    },
    {
     "name": "stderr",
     "output_type": "stream",
     "text": [
      "                                                              \r"
     ]
    },
    {
     "name": "stdout",
     "output_type": "stream",
     "text": [
      "Moviepy - Done !\n",
      "Moviepy - video ready test1.mp4\n"
     ]
    }
   ],
   "source": [
    "concat_clip.write_videofile(\"test1.mp4\", fps=24,threads=12)"
   ]
  },
  {
   "cell_type": "code",
   "execution_count": 58,
   "id": "c0134a15-5c5f-4c3a-ae9f-9048c1781124",
   "metadata": {
    "execution": {
     "iopub.execute_input": "2021-10-10T18:17:45.751292Z",
     "iopub.status.busy": "2021-10-10T18:17:45.750672Z",
     "iopub.status.idle": "2021-10-10T18:17:45.761725Z",
     "shell.execute_reply": "2021-10-10T18:17:45.760301Z",
     "shell.execute_reply.started": "2021-10-10T18:17:45.751211Z"
    },
    "tags": []
   },
   "outputs": [
    {
     "data": {
      "text/plain": [
       "['  1. Amar sagar lake  ',\n",
       " '  2. Bada Bagh  ',\n",
       " '  3. Camel Ride  ',\n",
       " '  4. Camping in desert  ',\n",
       " '  5. Dune Bashing  ',\n",
       " '  6. Gadisor Lake  ',\n",
       " '  7. Jain temples jaisalmer  ',\n",
       " '  8. Jaisalmer Fort  ',\n",
       " '  9. Jaisalmer war museum  ',\n",
       " '  10. Patwon Ki Haveli  ']"
      ]
     },
     "execution_count": 58,
     "metadata": {},
     "output_type": "execute_result"
    }
   ],
   "source": [
    "file_names"
   ]
  },
  {
   "cell_type": "code",
   "execution_count": 22,
   "id": "c31d6599-4ff4-4ecd-8356-bc40f675b3b8",
   "metadata": {
    "execution": {
     "iopub.execute_input": "2021-10-10T08:12:26.310236Z",
     "iopub.status.busy": "2021-10-10T08:12:26.309314Z",
     "iopub.status.idle": "2021-10-10T08:12:26.323456Z",
     "shell.execute_reply": "2021-10-10T08:12:26.320897Z",
     "shell.execute_reply.started": "2021-10-10T08:12:26.310129Z"
    }
   },
   "outputs": [
    {
     "data": {
      "text/plain": [
       "1.5018773466833542"
      ]
     },
     "execution_count": 22,
     "metadata": {},
     "output_type": "execute_result"
    }
   ],
   "source": [
    "clip1.se"
   ]
  },
  {
   "cell_type": "code",
   "execution_count": null,
   "id": "476af85f-7c47-49e0-a539-a9d5d99c6da3",
   "metadata": {},
   "outputs": [],
   "source": []
  }
 ],
 "metadata": {
  "kernelspec": {
   "display_name": "cv_p38",
   "language": "python",
   "name": "cv_p38"
  },
  "language_info": {
   "codemirror_mode": {
    "name": "ipython",
    "version": 3
   },
   "file_extension": ".py",
   "mimetype": "text/x-python",
   "name": "python",
   "nbconvert_exporter": "python",
   "pygments_lexer": "ipython3",
   "version": "3.8.0"
  },
  "widgets": {
   "application/vnd.jupyter.widget-state+json": {
    "state": {},
    "version_major": 2,
    "version_minor": 0
   }
  }
 },
 "nbformat": 4,
 "nbformat_minor": 5
}
