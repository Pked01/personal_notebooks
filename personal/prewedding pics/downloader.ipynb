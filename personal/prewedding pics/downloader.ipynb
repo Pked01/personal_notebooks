{
 "cells": [
  {
   "cell_type": "code",
   "execution_count": 22,
   "metadata": {
    "execution": {
     "iopub.execute_input": "2020-11-07T03:31:48.602574Z",
     "iopub.status.busy": "2020-11-07T03:31:48.602201Z",
     "iopub.status.idle": "2020-11-07T03:31:48.606806Z",
     "shell.execute_reply": "2020-11-07T03:31:48.606136Z",
     "shell.execute_reply.started": "2020-11-07T03:31:48.602527Z"
    }
   },
   "outputs": [],
   "source": [
    "import pandas as pd\n",
    "import re,shutil\n",
    "import requests\n",
    "from tqdm import tqdm_notebook as tqdm\n",
    "import IPython.display as Disp"
   ]
  },
  {
   "cell_type": "code",
   "execution_count": 11,
   "metadata": {
    "execution": {
     "iopub.execute_input": "2020-11-07T03:22:25.385139Z",
     "iopub.status.busy": "2020-11-07T03:22:25.384812Z",
     "iopub.status.idle": "2020-11-07T03:22:25.389779Z",
     "shell.execute_reply": "2020-11-07T03:22:25.389144Z",
     "shell.execute_reply.started": "2020-11-07T03:22:25.385042Z"
    }
   },
   "outputs": [],
   "source": [
    "def parseCookieFile(cookiefile):\n",
    "    \"\"\"Parse a cookies.txt file and return a dictionary of key value pairs\n",
    "    compatible with requests.\"\"\"\n",
    "\n",
    "    cookies = {}\n",
    "    with open (cookiefile, 'r') as fp:\n",
    "        for line in fp:\n",
    "            if not re.match(r'^\\#', line):\n",
    "                lineFields = line.strip().split('\\t')\n",
    "                cookies[lineFields[5]] = lineFields[6]\n",
    "    return cookies"
   ]
  },
  {
   "cell_type": "code",
   "execution_count": 6,
   "metadata": {
    "execution": {
     "iopub.execute_input": "2020-11-07T03:03:36.372798Z",
     "iopub.status.busy": "2020-11-07T03:03:36.372589Z",
     "iopub.status.idle": "2020-11-07T03:03:36.377564Z",
     "shell.execute_reply": "2020-11-07T03:03:36.376966Z",
     "shell.execute_reply.started": "2020-11-07T03:03:36.372773Z"
    }
   },
   "outputs": [],
   "source": [
    "#### image.csv contains links\n",
    "data = pd.read_csv(\"image.csv\",delimiter=\" \",names=[\"filename\",\"link\"])"
   ]
  },
  {
   "cell_type": "code",
   "execution_count": 12,
   "metadata": {
    "execution": {
     "iopub.execute_input": "2020-11-07T03:22:36.380063Z",
     "iopub.status.busy": "2020-11-07T03:22:36.379200Z",
     "iopub.status.idle": "2020-11-07T03:22:36.390182Z",
     "shell.execute_reply": "2020-11-07T03:22:36.387794Z",
     "shell.execute_reply.started": "2020-11-07T03:22:36.379950Z"
    }
   },
   "outputs": [],
   "source": [
    "cookies = parseCookieFile(\"cookies.txt\")"
   ]
  },
  {
   "cell_type": "code",
   "execution_count": 26,
   "metadata": {
    "execution": {
     "iopub.execute_input": "2020-11-07T05:03:19.506423Z",
     "iopub.status.busy": "2020-11-07T05:03:19.506118Z",
     "iopub.status.idle": "2020-11-07T05:24:23.549725Z",
     "shell.execute_reply": "2020-11-07T05:24:23.549210Z",
     "shell.execute_reply.started": "2020-11-07T05:03:19.506383Z"
    }
   },
   "outputs": [
    {
     "name": "stdout",
     "output_type": "stream",
     "text": [
      "694\n"
     ]
    }
   ],
   "source": [
    "\n",
    "for idx,row in data.iterrows():\n",
    "    if idx<554:\n",
    "        continue\n",
    "    Disp.clear_output(wait=True)\n",
    "    print(idx)\n",
    "    r = requests.get(row[\"link\"],cookies= cookies)\n",
    "    with open(\"pics/\"+row[\"filename\"], 'wb') as f:\n",
    "        f.write(r.content)\n"
   ]
  },
  {
   "cell_type": "markdown",
   "metadata": {},
   "source": [
    "##### new folder"
   ]
  },
  {
   "cell_type": "code",
   "execution_count": 27,
   "metadata": {
    "execution": {
     "iopub.execute_input": "2020-11-08T16:21:05.371930Z",
     "iopub.status.busy": "2020-11-08T16:21:05.371393Z",
     "iopub.status.idle": "2020-11-08T16:21:05.522267Z",
     "shell.execute_reply": "2020-11-08T16:21:05.520837Z",
     "shell.execute_reply.started": "2020-11-08T16:21:05.371850Z"
    }
   },
   "outputs": [],
   "source": [
    "!mkdir shortlisted_pics"
   ]
  },
  {
   "cell_type": "code",
   "execution_count": 30,
   "metadata": {
    "execution": {
     "iopub.execute_input": "2020-11-08T16:23:51.557331Z",
     "iopub.status.busy": "2020-11-08T16:23:51.557135Z",
     "iopub.status.idle": "2020-11-08T16:23:51.567953Z",
     "shell.execute_reply": "2020-11-08T16:23:51.566943Z",
     "shell.execute_reply.started": "2020-11-08T16:23:51.557306Z"
    }
   },
   "outputs": [],
   "source": [
    "shortlisted_pics =  pd.read_csv(\"shortlisted_pics.csv\",header=None)"
   ]
  },
  {
   "cell_type": "code",
   "execution_count": 32,
   "metadata": {
    "execution": {
     "iopub.execute_input": "2020-11-08T16:24:15.375035Z",
     "iopub.status.busy": "2020-11-08T16:24:15.373896Z",
     "iopub.status.idle": "2020-11-08T16:24:15.384261Z",
     "shell.execute_reply": "2020-11-08T16:24:15.381362Z",
     "shell.execute_reply.started": "2020-11-08T16:24:15.374914Z"
    }
   },
   "outputs": [],
   "source": []
  },
  {
   "cell_type": "code",
   "execution_count": 36,
   "metadata": {
    "execution": {
     "iopub.execute_input": "2020-11-08T16:25:52.480202Z",
     "iopub.status.busy": "2020-11-08T16:25:52.478569Z",
     "iopub.status.idle": "2020-11-08T16:25:58.717651Z",
     "shell.execute_reply": "2020-11-08T16:25:58.717168Z",
     "shell.execute_reply.started": "2020-11-08T16:25:52.480061Z"
    }
   },
   "outputs": [],
   "source": [
    "for idx,row in shortlisted_pics.iterrows():\n",
    "    imname =  \"pics/3I3A\"+str(row[0])+\".JPG\"\n",
    "    shutil.copy2(imname,imname.replace(\"pics\",\"shortlisted_pics\"))\n",
    "    "
   ]
  }
 ],
 "metadata": {
  "kernelspec": {
   "display_name": "cv_p36",
   "language": "python",
   "name": "cv_p36"
  },
  "language_info": {
   "codemirror_mode": {
    "name": "ipython",
    "version": 3
   },
   "file_extension": ".py",
   "mimetype": "text/x-python",
   "name": "python",
   "nbconvert_exporter": "python",
   "pygments_lexer": "ipython3",
   "version": "3.6.8"
  },
  "widgets": {
   "application/vnd.jupyter.widget-state+json": {
    "state": {},
    "version_major": 2,
    "version_minor": 0
   }
  }
 },
 "nbformat": 4,
 "nbformat_minor": 4
}
