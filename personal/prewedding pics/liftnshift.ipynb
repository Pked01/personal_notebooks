{
 "cells": [
  {
   "cell_type": "code",
   "execution_count": 53,
   "metadata": {
    "ExecuteTime": {
     "end_time": "2021-01-03T07:53:01.838271Z",
     "start_time": "2021-01-03T07:53:01.584881Z"
    },
    "execution": {
     "iopub.execute_input": "2021-02-28T15:12:33.032181Z",
     "iopub.status.busy": "2021-02-28T15:12:33.031977Z",
     "iopub.status.idle": "2021-02-28T15:12:33.034484Z",
     "shell.execute_reply": "2021-02-28T15:12:33.033987Z",
     "shell.execute_reply.started": "2021-02-28T15:12:33.032156Z"
    }
   },
   "outputs": [],
   "source": [
    "import cv2, shutil, os,datetime\n",
    "import numpy as np"
   ]
  },
  {
   "cell_type": "code",
   "execution_count": 81,
   "metadata": {
    "execution": {
     "iopub.execute_input": "2021-02-28T16:53:05.220548Z",
     "iopub.status.busy": "2021-02-28T16:53:05.219703Z",
     "iopub.status.idle": "2021-02-28T16:53:05.230392Z",
     "shell.execute_reply": "2021-02-28T16:53:05.227663Z",
     "shell.execute_reply.started": "2021-02-28T16:53:05.220437Z"
    }
   },
   "outputs": [],
   "source": [
    "from PIL import Image\n",
    "def get_date_taken(path):\n",
    "    return Image.open(path).getexif()[36867]"
   ]
  },
  {
   "cell_type": "code",
   "execution_count": 2,
   "metadata": {
    "ExecuteTime": {
     "end_time": "2021-01-03T07:53:01.843089Z",
     "start_time": "2021-01-03T07:53:01.839772Z"
    },
    "execution": {
     "iopub.execute_input": "2021-02-28T14:07:51.979494Z",
     "iopub.status.busy": "2021-02-28T14:07:51.979302Z",
     "iopub.status.idle": "2021-02-28T14:07:51.983386Z",
     "shell.execute_reply": "2021-02-28T14:07:51.982729Z",
     "shell.execute_reply.started": "2021-02-28T14:07:51.979470Z"
    }
   },
   "outputs": [],
   "source": [
    "def get_all_file_path(source_dir,ext='.csv'):\n",
    "    \"\"\"\n",
    "    all images with csv extension exist in set of dirs\n",
    "    \"\"\"\n",
    "    op =[]\n",
    "    for root, dirs, files in os.walk(source_dir):\n",
    "        for file in files:\n",
    "            if file.endswith(ext):\n",
    "                \n",
    "                 op.append(os.path.join(os.path.abspath(root), file))\n",
    "    return op\n"
   ]
  },
  {
   "cell_type": "code",
   "execution_count": 137,
   "metadata": {
    "ExecuteTime": {
     "end_time": "2021-01-03T14:54:18.511889Z",
     "start_time": "2021-01-03T14:54:18.500273Z"
    },
    "execution": {
     "iopub.execute_input": "2021-03-01T12:58:24.223336Z",
     "iopub.status.busy": "2021-03-01T12:58:24.223060Z",
     "iopub.status.idle": "2021-03-01T12:58:24.227117Z",
     "shell.execute_reply": "2021-03-01T12:58:24.226721Z",
     "shell.execute_reply.started": "2021-03-01T12:58:24.223297Z"
    }
   },
   "outputs": [],
   "source": [
    "images = get_all_file_path(\"/media/prateek/PK_HDD/backup/anjani/sh\",\".JPG\")\n",
    "idx = 0\n"
   ]
  },
  {
   "cell_type": "code",
   "execution_count": 138,
   "metadata": {
    "execution": {
     "iopub.execute_input": "2021-03-01T12:58:24.228293Z",
     "iopub.status.busy": "2021-03-01T12:58:24.228105Z",
     "iopub.status.idle": "2021-03-01T12:58:24.233354Z",
     "shell.execute_reply": "2021-03-01T12:58:24.232696Z",
     "shell.execute_reply.started": "2021-03-01T12:58:24.228240Z"
    }
   },
   "outputs": [],
   "source": [
    "# images = sorted(filter(os.path.isfile, images), key=lambda p: os.stat(p).st_mtime,reverse=True)"
   ]
  },
  {
   "cell_type": "code",
   "execution_count": 139,
   "metadata": {
    "execution": {
     "iopub.execute_input": "2021-03-01T12:58:24.234288Z",
     "iopub.status.busy": "2021-03-01T12:58:24.234123Z",
     "iopub.status.idle": "2021-03-01T12:58:24.433843Z",
     "shell.execute_reply": "2021-03-01T12:58:24.433150Z",
     "shell.execute_reply.started": "2021-03-01T12:58:24.234266Z"
    }
   },
   "outputs": [],
   "source": [
    "images = sorted(filter(os.path.isfile, images), key=lambda p: get_date_taken(p))"
   ]
  },
  {
   "cell_type": "code",
   "execution_count": 141,
   "metadata": {
    "execution": {
     "iopub.execute_input": "2021-03-03T14:40:10.416124Z",
     "iopub.status.busy": "2021-03-03T14:40:10.413973Z",
     "iopub.status.idle": "2021-03-03T14:40:10.513855Z",
     "shell.execute_reply": "2021-03-03T14:40:10.512301Z",
     "shell.execute_reply.started": "2021-03-03T14:40:10.415973Z"
    }
   },
   "outputs": [
    {
     "data": {
      "text/plain": [
       "219"
      ]
     },
     "execution_count": 141,
     "metadata": {},
     "output_type": "execute_result"
    }
   ],
   "source": [
    "len(images)"
   ]
  },
  {
   "cell_type": "code",
   "execution_count": 140,
   "metadata": {
    "ExecuteTime": {
     "end_time": "2021-01-03T14:54:31.685766Z",
     "start_time": "2021-01-03T14:54:19.020001Z"
    },
    "execution": {
     "iopub.execute_input": "2021-03-01T12:58:26.253670Z",
     "iopub.status.busy": "2021-03-01T12:58:26.252812Z",
     "iopub.status.idle": "2021-03-01T13:04:33.660138Z",
     "shell.execute_reply": "2021-03-01T13:04:33.656716Z",
     "shell.execute_reply.started": "2021-03-01T12:58:26.253558Z"
    }
   },
   "outputs": [],
   "source": [
    "dst_folder_path = \"/media/prateek/PK_HDD/backup/anjani/prateek_album_2/\"\n",
    "os.makedirs(dst_folder_path,exist_ok=True)\n",
    "cv2.namedWindow(\"preview\",cv2.WINDOW_NORMAL)\n",
    "while True:\n",
    "    im_path = images[idx]\n",
    "    filename = im_path.split(\"/\")[-1]\n",
    "    image = cv2.imread(im_path)\n",
    "    try:\n",
    "        cv2.imshow(\"preview\",cv2.resize(image,(0,0),fx=.3,fy=.3))\n",
    "        k = cv2.waitKey(0)\n",
    "    except Exception as e:\n",
    "        print(e)\n",
    "    if k==ord('q') or idx>=len(images)-1:\n",
    "        break\n",
    "    elif k==ord(\"c\"): #copy action\n",
    "        shutil.copy2(im_path,os.path.join(dst_folder_path,filename))\n",
    "        idx=idx+1\n",
    "\n",
    "    elif k==ord('p'): #previous action\n",
    "        idx=idx-1\n",
    "    elif k==ord('d'):# delete action    \n",
    "        os.makedirs(os.path.join(dst_folder_path,\"removed\"),exist_ok=True)\n",
    "        shutil.move(os.path.join(dst_folder_path,filename),os.path.join(dst_folder_path,\"removed\",filename))\n",
    "        idx=idx+1\n",
    "    else:\n",
    "        idx=idx+1\n",
    "        \n",
    "cv2.destroyAllWindows()\n"
   ]
  },
  {
   "cell_type": "code",
   "execution_count": 95,
   "metadata": {
    "ExecuteTime": {
     "end_time": "2021-01-03T08:47:12.407176Z",
     "start_time": "2021-01-03T08:47:12.403754Z"
    },
    "execution": {
     "iopub.execute_input": "2021-03-01T06:08:13.929746Z",
     "iopub.status.busy": "2021-03-01T06:08:13.928818Z",
     "iopub.status.idle": "2021-03-01T06:08:13.943402Z",
     "shell.execute_reply": "2021-03-01T06:08:13.941798Z",
     "shell.execute_reply.started": "2021-03-01T06:08:13.929620Z"
    }
   },
   "outputs": [
    {
     "data": {
      "text/plain": [
       "936"
      ]
     },
     "execution_count": 95,
     "metadata": {},
     "output_type": "execute_result"
    }
   ],
   "source": [
    "len(images)"
   ]
  },
  {
   "cell_type": "code",
   "execution_count": 103,
   "metadata": {
    "execution": {
     "iopub.execute_input": "2021-03-01T07:19:20.087361Z",
     "iopub.status.busy": "2021-03-01T07:19:20.086892Z",
     "iopub.status.idle": "2021-03-01T07:19:20.092803Z",
     "shell.execute_reply": "2021-03-01T07:19:20.091638Z",
     "shell.execute_reply.started": "2021-03-01T07:19:20.087300Z"
    }
   },
   "outputs": [
    {
     "data": {
      "text/plain": [
       "722"
      ]
     },
     "execution_count": 103,
     "metadata": {},
     "output_type": "execute_result"
    }
   ],
   "source": [
    "idx"
   ]
  },
  {
   "cell_type": "code",
   "execution_count": null,
   "metadata": {},
   "outputs": [],
   "source": []
  }
 ],
 "metadata": {
  "kernelspec": {
   "display_name": "cv_p36",
   "language": "python",
   "name": "cv_p36"
  },
  "language_info": {
   "codemirror_mode": {
    "name": "ipython",
    "version": 3
   },
   "file_extension": ".py",
   "mimetype": "text/x-python",
   "name": "python",
   "nbconvert_exporter": "python",
   "pygments_lexer": "ipython3",
   "version": "3.6.8"
  },
  "widgets": {
   "application/vnd.jupyter.widget-state+json": {
    "state": {},
    "version_major": 2,
    "version_minor": 0
   }
  }
 },
 "nbformat": 4,
 "nbformat_minor": 4
}
