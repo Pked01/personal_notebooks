{
 "cells": [
  {
   "cell_type": "markdown",
   "id": "a6002dfa-fc30-43b9-929c-18f7a66dcd0d",
   "metadata": {},
   "source": [
    "- what is my net sales\n",
    "- what is my margin\n",
    "- why did my margin go down"
   ]
  },
  {
   "cell_type": "code",
   "execution_count": 6,
   "id": "3c4ffae9-b541-405f-8387-cd00f8cd1cad",
   "metadata": {
    "execution": {
     "iopub.execute_input": "2021-09-21T07:00:54.061641Z",
     "iopub.status.busy": "2021-09-21T07:00:54.061342Z",
     "iopub.status.idle": "2021-09-21T07:00:54.064884Z",
     "shell.execute_reply": "2021-09-21T07:00:54.064102Z",
     "shell.execute_reply.started": "2021-09-21T07:00:54.061607Z"
    }
   },
   "outputs": [],
   "source": [
    "import numpy as np"
   ]
  },
  {
   "cell_type": "code",
   "execution_count": 1,
   "id": "07d84ba7-0bb5-4adf-8fd1-5771a9988668",
   "metadata": {
    "execution": {
     "iopub.execute_input": "2021-09-21T06:59:45.442883Z",
     "iopub.status.busy": "2021-09-21T06:59:45.442571Z",
     "iopub.status.idle": "2021-09-21T06:59:45.446033Z",
     "shell.execute_reply": "2021-09-21T06:59:45.445377Z",
     "shell.execute_reply.started": "2021-09-21T06:59:45.442807Z"
    }
   },
   "outputs": [],
   "source": [
    "sents = [\"what is my net sales\",\n",
    "\"what is my margin\",\n",
    "\"why did my margin go down\"]"
   ]
  },
  {
   "cell_type": "code",
   "execution_count": 14,
   "id": "a9e01906-2b38-477a-93cb-245bf55c43d6",
   "metadata": {
    "execution": {
     "iopub.execute_input": "2021-09-21T07:03:44.588220Z",
     "iopub.status.busy": "2021-09-21T07:03:44.587633Z",
     "iopub.status.idle": "2021-09-21T07:03:44.597111Z",
     "shell.execute_reply": "2021-09-21T07:03:44.595131Z",
     "shell.execute_reply.started": "2021-09-21T07:03:44.588153Z"
    },
    "tags": []
   },
   "outputs": [],
   "source": [
    "words_li = [sent.split(\" \") for sent in sents]\n",
    "all_words = [single_word for word in words_li for single_word in word]"
   ]
  },
  {
   "cell_type": "code",
   "execution_count": 18,
   "id": "c0488a0e-880b-4b18-bf0f-e348cec1e6e6",
   "metadata": {
    "execution": {
     "iopub.execute_input": "2021-09-21T07:04:57.189439Z",
     "iopub.status.busy": "2021-09-21T07:04:57.189263Z",
     "iopub.status.idle": "2021-09-21T07:04:57.192508Z",
     "shell.execute_reply": "2021-09-21T07:04:57.191775Z",
     "shell.execute_reply.started": "2021-09-21T07:04:57.189421Z"
    },
    "tags": []
   },
   "outputs": [],
   "source": [
    "word, count = np.unique(all_words,return_counts = True)"
   ]
  },
  {
   "cell_type": "code",
   "execution_count": 27,
   "id": "674113b5-71f3-4933-a648-de9c49bbe19a",
   "metadata": {
    "execution": {
     "iopub.execute_input": "2021-09-21T07:11:38.965724Z",
     "iopub.status.busy": "2021-09-21T07:11:38.965453Z",
     "iopub.status.idle": "2021-09-21T07:11:38.968913Z",
     "shell.execute_reply": "2021-09-21T07:11:38.968324Z",
     "shell.execute_reply.started": "2021-09-21T07:11:38.965692Z"
    },
    "tags": []
   },
   "outputs": [],
   "source": [
    "uniq_word_dict = dict(zip(word, count))"
   ]
  },
  {
   "cell_type": "markdown",
   "id": "eb0d5d55-6363-4ef6-956d-1cf840306a8d",
   "metadata": {},
   "source": [
    "### approach-1"
   ]
  },
  {
   "cell_type": "code",
   "execution_count": 21,
   "id": "7f6c2c48-e5b1-46a0-85c8-5e6d55479c74",
   "metadata": {
    "execution": {
     "iopub.execute_input": "2021-09-21T07:06:12.917430Z",
     "iopub.status.busy": "2021-09-21T07:06:12.917237Z",
     "iopub.status.idle": "2021-09-21T07:06:12.920293Z",
     "shell.execute_reply": "2021-09-21T07:06:12.919883Z",
     "shell.execute_reply.started": "2021-09-21T07:06:12.917408Z"
    }
   },
   "outputs": [
    {
     "name": "stdout",
     "output_type": "stream",
     "text": [
      "what is my net sales\n",
      "what is my margin\n"
     ]
    }
   ],
   "source": [
    "query = \"what\"\n",
    "for sent in sents:\n",
    "    if query in sent:\n",
    "        print(sent)"
   ]
  },
  {
   "cell_type": "markdown",
   "id": "4bf3639e-7df8-4def-a8d2-efbb36fb3621",
   "metadata": {},
   "source": [
    "#### approach -2 "
   ]
  },
  {
   "cell_type": "code",
   "execution_count": null,
   "id": "53cff2a5-4ffd-425e-b511-fcb092b7b34d",
   "metadata": {},
   "outputs": [],
   "source": [
    "query = \"what\"\n",
    "unique_words = list(word_count_dict.keys())\n",
    "probab_dict ={}\n",
    "for idx,words in enumerate(words_li):\n",
    "    for uniq_word in unique_words:\n",
    "        probab_dict[idx] = [words.count(uniq_word)/uniq_word_dict[uniq_word]]\n",
    "        \n",
    "    \n",
    "        "
   ]
  },
  {
   "cell_type": "code",
   "execution_count": 28,
   "id": "5d63dbe0-054a-485b-85d4-34a96b22bdb3",
   "metadata": {
    "execution": {
     "iopub.execute_input": "2021-09-21T07:16:06.354475Z",
     "iopub.status.busy": "2021-09-21T07:16:06.354252Z",
     "iopub.status.idle": "2021-09-21T07:16:06.357785Z",
     "shell.execute_reply": "2021-09-21T07:16:06.357051Z",
     "shell.execute_reply.started": "2021-09-21T07:16:06.354451Z"
    }
   },
   "outputs": [],
   "source": [
    "from sklearn.feature_extraction.text import TfidfVectorizer, CountVectorizer"
   ]
  },
  {
   "cell_type": "markdown",
   "id": "f3adfa85-5808-4bd6-94de-36567d3d16ea",
   "metadata": {
    "execution": {
     "iopub.execute_input": "2021-09-21T07:21:25.714360Z",
     "iopub.status.busy": "2021-09-21T07:21:25.714141Z",
     "iopub.status.idle": "2021-09-21T07:21:25.718049Z",
     "shell.execute_reply": "2021-09-21T07:21:25.717354Z",
     "shell.execute_reply.started": "2021-09-21T07:21:25.714335Z"
    }
   },
   "source": [
    "\"wh\"--> word2vec \"db\" from doc2vec"
   ]
  },
  {
   "cell_type": "code",
   "execution_count": null,
   "id": "2fc39d6b-b5a9-4e9a-aa24-a32290b4dd59",
   "metadata": {},
   "outputs": [],
   "source": []
  },
  {
   "cell_type": "code",
   "execution_count": null,
   "id": "ae48a016-b583-41b8-95c6-c53d9157a516",
   "metadata": {},
   "outputs": [],
   "source": []
  },
  {
   "cell_type": "code",
   "execution_count": null,
   "id": "dd7fd4f8-3052-4d35-a8f4-2f9c1957746c",
   "metadata": {},
   "outputs": [],
   "source": []
  }
 ],
 "metadata": {
  "kernelspec": {
   "display_name": "cv_p38",
   "language": "python",
   "name": "cv_p38"
  },
  "language_info": {
   "codemirror_mode": {
    "name": "ipython",
    "version": 3
   },
   "file_extension": ".py",
   "mimetype": "text/x-python",
   "name": "python",
   "nbconvert_exporter": "python",
   "pygments_lexer": "ipython3",
   "version": "3.8.0"
  },
  "widgets": {
   "application/vnd.jupyter.widget-state+json": {
    "state": {},
    "version_major": 2,
    "version_minor": 0
   }
  }
 },
 "nbformat": 4,
 "nbformat_minor": 5
}
