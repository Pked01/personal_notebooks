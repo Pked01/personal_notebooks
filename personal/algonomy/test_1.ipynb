{
 "cells": [
  {
   "cell_type": "code",
   "execution_count": 1,
   "id": "8824bec2-1d56-4bd7-914f-81e5e1744eeb",
   "metadata": {
    "execution": {
     "iopub.execute_input": "2021-09-14T09:59:47.693397Z",
     "iopub.status.busy": "2021-09-14T09:59:47.693181Z",
     "iopub.status.idle": "2021-09-14T09:59:47.969234Z",
     "shell.execute_reply": "2021-09-14T09:59:47.968692Z",
     "shell.execute_reply.started": "2021-09-14T09:59:47.693327Z"
    }
   },
   "outputs": [],
   "source": [
    "import pandas as pd"
   ]
  },
  {
   "cell_type": "code",
   "execution_count": null,
   "id": "df2c6ddc-3457-4977-8e67-ebb0d947e84f",
   "metadata": {},
   "outputs": [],
   "source": [
    "pd.re"
   ]
  },
  {
   "cell_type": "code",
   "execution_count": 1,
   "id": "431fb457-5da0-47e1-9a5e-b34343ef2573",
   "metadata": {
    "execution": {
     "iopub.execute_input": "2021-09-09T05:53:03.991260Z",
     "iopub.status.busy": "2021-09-09T05:53:03.990977Z",
     "iopub.status.idle": "2021-09-09T05:53:03.996306Z",
     "shell.execute_reply": "2021-09-09T05:53:03.995896Z",
     "shell.execute_reply.started": "2021-09-09T05:53:03.991195Z"
    }
   },
   "outputs": [],
   "source": [
    "l = list(range(100))"
   ]
  },
  {
   "cell_type": "markdown",
   "id": "5c541db7-7fd9-4c92-b582-24c0f3952e71",
   "metadata": {},
   "source": [
    "[[1],[1,2],[1,2,3]...]\n"
   ]
  },
  {
   "cell_type": "code",
   "execution_count": 2,
   "id": "fda52d5d-29b6-4ce9-a6b6-f4883e8fc2e4",
   "metadata": {
    "execution": {
     "iopub.execute_input": "2021-09-09T05:57:10.714840Z",
     "iopub.status.busy": "2021-09-09T05:57:10.714616Z",
     "iopub.status.idle": "2021-09-09T05:57:10.891158Z",
     "shell.execute_reply": "2021-09-09T05:57:10.890615Z",
     "shell.execute_reply.started": "2021-09-09T05:57:10.714815Z"
    }
   },
   "outputs": [],
   "source": [
    "import numpy as np"
   ]
  },
  {
   "cell_type": "code",
   "execution_count": null,
   "id": "b7b8c0da-6810-456d-9969-c47410c0cdec",
   "metadata": {},
   "outputs": [],
   "source": [
    "[1,2,3],2"
   ]
  },
  {
   "cell_type": "code",
   "execution_count": 19,
   "id": "96c5318e-e249-4cc0-908e-8281ce029b06",
   "metadata": {
    "execution": {
     "iopub.execute_input": "2021-09-09T06:06:14.848989Z",
     "iopub.status.busy": "2021-09-09T06:06:14.848723Z",
     "iopub.status.idle": "2021-09-09T06:06:14.853385Z",
     "shell.execute_reply": "2021-09-09T06:06:14.852624Z",
     "shell.execute_reply.started": "2021-09-09T06:06:14.848959Z"
    },
    "tags": []
   },
   "outputs": [],
   "source": [
    "def perms(inps,n):\n",
    "    if n==1:\n",
    "        return inps\n",
    "    for idx,i in enumerate(inps):\n",
    "        inp_1 = np.copy(inps).tolist()\n",
    "        inp_1.remove(i)\n",
    "        op.append([i]+perm(inp_1))\n",
    "    return op\n",
    "\n",
    "\n",
    "        "
   ]
  },
  {
   "cell_type": "code",
   "execution_count": 23,
   "id": "64297834-d12f-4a89-ae8b-5d8f5a2afd1e",
   "metadata": {
    "execution": {
     "iopub.execute_input": "2021-09-09T06:12:02.831206Z",
     "iopub.status.busy": "2021-09-09T06:12:02.830897Z",
     "iopub.status.idle": "2021-09-09T06:12:02.835194Z",
     "shell.execute_reply": "2021-09-09T06:12:02.834154Z",
     "shell.execute_reply.started": "2021-09-09T06:12:02.831176Z"
    }
   },
   "outputs": [],
   "source": [
    "n1=100"
   ]
  },
  {
   "cell_type": "code",
   "execution_count": 26,
   "id": "97121b48-e9ca-4c2d-a174-8ceaa39206aa",
   "metadata": {
    "execution": {
     "iopub.execute_input": "2021-09-09T06:12:10.051193Z",
     "iopub.status.busy": "2021-09-09T06:12:10.050981Z",
     "iopub.status.idle": "2021-09-09T06:12:10.054786Z",
     "shell.execute_reply": "2021-09-09T06:12:10.053980Z",
     "shell.execute_reply.started": "2021-09-09T06:12:10.051170Z"
    },
    "tags": []
   },
   "outputs": [],
   "source": [
    "l = list(range(n1))"
   ]
  },
  {
   "cell_type": "code",
   "execution_count": 27,
   "id": "ef07cb05-9d68-491d-935f-14d78356bf31",
   "metadata": {
    "execution": {
     "iopub.execute_input": "2021-09-09T06:12:10.172066Z",
     "iopub.status.busy": "2021-09-09T06:12:10.171876Z",
     "iopub.status.idle": "2021-09-09T06:12:10.174720Z",
     "shell.execute_reply": "2021-09-09T06:12:10.174033Z",
     "shell.execute_reply.started": "2021-09-09T06:12:10.172046Z"
    },
    "tags": []
   },
   "outputs": [],
   "source": [
    "l.sort()"
   ]
  },
  {
   "cell_type": "code",
   "execution_count": 28,
   "id": "7467f476-e6bd-4511-8252-973ab78217f2",
   "metadata": {
    "execution": {
     "iopub.execute_input": "2021-09-09T06:12:36.045847Z",
     "iopub.status.busy": "2021-09-09T06:12:36.045532Z",
     "iopub.status.idle": "2021-09-09T06:12:36.051070Z",
     "shell.execute_reply": "2021-09-09T06:12:36.050355Z",
     "shell.execute_reply.started": "2021-09-09T06:12:36.045813Z"
    }
   },
   "outputs": [
    {
     "data": {
      "text/plain": [
       "50"
      ]
     },
     "execution_count": 28,
     "metadata": {},
     "output_type": "execute_result"
    }
   ],
   "source": [
    "l[int(.5*n1)]"
   ]
  },
  {
   "cell_type": "code",
   "execution_count": 30,
   "id": "f3e19ebd-112c-4386-9bf5-6be0832c451d",
   "metadata": {
    "execution": {
     "iopub.execute_input": "2021-09-09T06:13:24.319647Z",
     "iopub.status.busy": "2021-09-09T06:13:24.319328Z",
     "iopub.status.idle": "2021-09-09T06:13:24.324111Z",
     "shell.execute_reply": "2021-09-09T06:13:24.323361Z",
     "shell.execute_reply.started": "2021-09-09T06:13:24.319619Z"
    }
   },
   "outputs": [
    {
     "data": {
      "text/plain": [
       "0"
      ]
     },
     "execution_count": 30,
     "metadata": {},
     "output_type": "execute_result"
    }
   ],
   "source": [
    "min(l)"
   ]
  },
  {
   "cell_type": "code",
   "execution_count": 31,
   "id": "997e272a-ee88-488a-8067-5e757e2a5b1c",
   "metadata": {
    "execution": {
     "iopub.execute_input": "2021-09-09T06:13:28.039058Z",
     "iopub.status.busy": "2021-09-09T06:13:28.038735Z",
     "iopub.status.idle": "2021-09-09T06:13:28.044418Z",
     "shell.execute_reply": "2021-09-09T06:13:28.043635Z",
     "shell.execute_reply.started": "2021-09-09T06:13:28.039023Z"
    }
   },
   "outputs": [
    {
     "data": {
      "text/plain": [
       "99"
      ]
     },
     "execution_count": 31,
     "metadata": {},
     "output_type": "execute_result"
    }
   ],
   "source": [
    "max(l)"
   ]
  },
  {
   "cell_type": "code",
   "execution_count": 32,
   "id": "53490296-aef8-4722-9098-75cea9a318fb",
   "metadata": {
    "execution": {
     "iopub.execute_input": "2021-09-09T06:13:40.422595Z",
     "iopub.status.busy": "2021-09-09T06:13:40.422307Z",
     "iopub.status.idle": "2021-09-09T06:13:40.427087Z",
     "shell.execute_reply": "2021-09-09T06:13:40.426363Z",
     "shell.execute_reply.started": "2021-09-09T06:13:40.422564Z"
    }
   },
   "outputs": [
    {
     "data": {
      "text/plain": [
       "50"
      ]
     },
     "execution_count": 32,
     "metadata": {},
     "output_type": "execute_result"
    }
   ],
   "source": [
    "[1,2,3,4,5,6,7,8,1000]\n"
   ]
  },
  {
   "cell_type": "code",
   "execution_count": null,
   "id": "e228878f-decb-4b86-95ec-94af8bccec48",
   "metadata": {},
   "outputs": [],
   "source": [
    "[1,2,3,4,5,6,7,8]\n",
    "1,2,3 5,6,7,8,1000"
   ]
  },
  {
   "cell_type": "markdown",
   "id": "b0c62b29-1789-4f3e-8f68-f94f9c456cac",
   "metadata": {},
   "source": [
    "1. min/max value from the dataset\n",
    "2. middle point(average_value)\n",
    "3. again 2 chunks(min,average_value) (average_Valuue, max)\n",
    "4. check if chunks are equal size\n",
    "5. if not again find average_value  check step 4\n",
    "6. if data was odd, then both "
   ]
  },
  {
   "cell_type": "code",
   "execution_count": 35,
   "id": "d5a3eca2-5fcb-44ec-98ac-d7568b5ce440",
   "metadata": {
    "execution": {
     "iopub.execute_input": "2021-09-09T06:32:44.575094Z",
     "iopub.status.busy": "2021-09-09T06:32:44.574856Z",
     "iopub.status.idle": "2021-09-09T06:32:44.578948Z",
     "shell.execute_reply": "2021-09-09T06:32:44.578097Z",
     "shell.execute_reply.started": "2021-09-09T06:32:44.575070Z"
    }
   },
   "outputs": [
    {
     "ename": "SyntaxError",
     "evalue": "invalid syntax (<ipython-input-35-e5ea2ae944b5>, line 1)",
     "output_type": "error",
     "traceback": [
      "\u001b[0;36m  File \u001b[0;32m\"<ipython-input-35-e5ea2ae944b5>\"\u001b[0;36m, line \u001b[0;32m1\u001b[0m\n\u001b[0;31m    L(x1,x2,x3...|thetha)\u001b[0m\n\u001b[0m              ^\u001b[0m\n\u001b[0;31mSyntaxError\u001b[0m\u001b[0;31m:\u001b[0m invalid syntax\n"
     ]
    }
   ],
   "source": [
    "L(x1,x2,x3...|thetha)"
   ]
  },
  {
   "cell_type": "code",
   "execution_count": null,
   "id": "71f25e73-e0a7-457a-914e-c8e6c296684b",
   "metadata": {},
   "outputs": [],
   "source": [
    "log(l(x1|thetha))+log(l(x2))"
   ]
  },
  {
   "cell_type": "code",
   "execution_count": null,
   "id": "0398b6a1-51c7-4101-9cb3-dde74313face",
   "metadata": {},
   "outputs": [],
   "source": [
    "maximum sum(log pla)"
   ]
  },
  {
   "cell_type": "code",
   "execution_count": null,
   "id": "f4b8149e-edd8-49e3-8d29-b16d58c6405d",
   "metadata": {},
   "outputs": [],
   "source": [
    "MLE(Y/X,thetha)"
   ]
  },
  {
   "cell_type": "code",
   "execution_count": null,
   "id": "8906ef5a-cb4f-4018-b1e1-afe7b9b4f990",
   "metadata": {},
   "outputs": [],
   "source": [
    "XTtheths+bias = y"
   ]
  },
  {
   "cell_type": "markdown",
   "id": "61fd704d-88dd-4b03-b4e2-03e667b047de",
   "metadata": {},
   "source": [
    "logloss"
   ]
  }
 ],
 "metadata": {
  "kernelspec": {
   "display_name": "cv_p38",
   "language": "python",
   "name": "cv_p38"
  },
  "language_info": {
   "codemirror_mode": {
    "name": "ipython",
    "version": 3
   },
   "file_extension": ".py",
   "mimetype": "text/x-python",
   "name": "python",
   "nbconvert_exporter": "python",
   "pygments_lexer": "ipython3",
   "version": "3.8.0"
  },
  "widgets": {
   "application/vnd.jupyter.widget-state+json": {
    "state": {},
    "version_major": 2,
    "version_minor": 0
   }
  }
 },
 "nbformat": 4,
 "nbformat_minor": 5
}
