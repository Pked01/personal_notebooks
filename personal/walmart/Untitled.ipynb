{
 "cells": [
  {
   "cell_type": "code",
   "execution_count": 11,
   "id": "99dae8ae",
   "metadata": {
    "ExecuteTime": {
     "end_time": "2021-07-05T10:00:49.423704Z",
     "start_time": "2021-07-05T10:00:49.421154Z"
    }
   },
   "outputs": [],
   "source": [
    "import pandas as pd\n",
    "import numpy as np"
   ]
  },
  {
   "cell_type": "code",
   "execution_count": 49,
   "id": "6a95d5cd",
   "metadata": {
    "ExecuteTime": {
     "end_time": "2021-07-05T10:17:19.382639Z",
     "start_time": "2021-07-05T10:17:19.363413Z"
    }
   },
   "outputs": [],
   "source": [
    "data = pd.read_csv(\"Cars.csv\")"
   ]
  },
  {
   "cell_type": "code",
   "execution_count": 3,
   "id": "ac2890ed",
   "metadata": {
    "ExecuteTime": {
     "end_time": "2021-07-05T09:56:27.893717Z",
     "start_time": "2021-07-05T09:56:27.858088Z"
    }
   },
   "outputs": [
    {
     "data": {
      "text/html": [
       "<div>\n",
       "<style scoped>\n",
       "    .dataframe tbody tr th:only-of-type {\n",
       "        vertical-align: middle;\n",
       "    }\n",
       "\n",
       "    .dataframe tbody tr th {\n",
       "        vertical-align: top;\n",
       "    }\n",
       "\n",
       "    .dataframe thead th {\n",
       "        text-align: right;\n",
       "    }\n",
       "</style>\n",
       "<table border=\"1\" class=\"dataframe\">\n",
       "  <thead>\n",
       "    <tr style=\"text-align: right;\">\n",
       "      <th></th>\n",
       "      <th>Name</th>\n",
       "      <th>Location</th>\n",
       "      <th>Year</th>\n",
       "      <th>Kilometers_Driven</th>\n",
       "      <th>Fuel_Type</th>\n",
       "      <th>Transmission</th>\n",
       "      <th>Owner_Type</th>\n",
       "      <th>Mileage</th>\n",
       "      <th>Engine</th>\n",
       "      <th>Power</th>\n",
       "      <th>Colour</th>\n",
       "      <th>Seats</th>\n",
       "      <th>No. of Doors</th>\n",
       "      <th>New_Price</th>\n",
       "      <th>Price</th>\n",
       "    </tr>\n",
       "  </thead>\n",
       "  <tbody>\n",
       "    <tr>\n",
       "      <th>0</th>\n",
       "      <td>Mahindra Scorpio</td>\n",
       "      <td>Pune</td>\n",
       "      <td>2012.0</td>\n",
       "      <td>99000.0</td>\n",
       "      <td>Diesel</td>\n",
       "      <td>Manual</td>\n",
       "      <td>Third</td>\n",
       "      <td>12.05 kmpl</td>\n",
       "      <td>2179 CC</td>\n",
       "      <td>120 bhp</td>\n",
       "      <td>Black/Silver</td>\n",
       "      <td>8.0</td>\n",
       "      <td>5.0</td>\n",
       "      <td>NaN</td>\n",
       "      <td>6.00</td>\n",
       "    </tr>\n",
       "    <tr>\n",
       "      <th>1</th>\n",
       "      <td>Maruti Baleno</td>\n",
       "      <td>Kochi</td>\n",
       "      <td>2018.0</td>\n",
       "      <td>18678.0</td>\n",
       "      <td>Petrol</td>\n",
       "      <td>Manual</td>\n",
       "      <td>First</td>\n",
       "      <td>21.1 kmpl</td>\n",
       "      <td>998 CC</td>\n",
       "      <td>100 bhp</td>\n",
       "      <td>Others</td>\n",
       "      <td>5.0</td>\n",
       "      <td>4.0</td>\n",
       "      <td>NaN</td>\n",
       "      <td>8.32</td>\n",
       "    </tr>\n",
       "    <tr>\n",
       "      <th>2</th>\n",
       "      <td>Mahindra Xylo</td>\n",
       "      <td>Bangalore</td>\n",
       "      <td>2013.0</td>\n",
       "      <td>197000.0</td>\n",
       "      <td>Diesel</td>\n",
       "      <td>Manual</td>\n",
       "      <td>First</td>\n",
       "      <td>11.68 kmpl</td>\n",
       "      <td>2498 CC</td>\n",
       "      <td>112 bhp</td>\n",
       "      <td>White</td>\n",
       "      <td>7.0</td>\n",
       "      <td>5.0</td>\n",
       "      <td>NaN</td>\n",
       "      <td>4.00</td>\n",
       "    </tr>\n",
       "    <tr>\n",
       "      <th>3</th>\n",
       "      <td>Hyundai Grand</td>\n",
       "      <td>Delhi</td>\n",
       "      <td>2014.0</td>\n",
       "      <td>45000.0</td>\n",
       "      <td>Diesel</td>\n",
       "      <td>Manual</td>\n",
       "      <td>First</td>\n",
       "      <td>24.0 kmpl</td>\n",
       "      <td>1120 CC</td>\n",
       "      <td>70 bhp</td>\n",
       "      <td>White</td>\n",
       "      <td>5.0</td>\n",
       "      <td>4.0</td>\n",
       "      <td>NaN</td>\n",
       "      <td>3.49</td>\n",
       "    </tr>\n",
       "    <tr>\n",
       "      <th>4</th>\n",
       "      <td>Toyota Innova</td>\n",
       "      <td>Delhi</td>\n",
       "      <td>2011.0</td>\n",
       "      <td>65000.0</td>\n",
       "      <td>Diesel</td>\n",
       "      <td>Manual</td>\n",
       "      <td>First</td>\n",
       "      <td>12.8 kmpl</td>\n",
       "      <td>2494 CC</td>\n",
       "      <td>102 bhp</td>\n",
       "      <td>Others</td>\n",
       "      <td>8.0</td>\n",
       "      <td>5.0</td>\n",
       "      <td>NaN</td>\n",
       "      <td>6.40</td>\n",
       "    </tr>\n",
       "  </tbody>\n",
       "</table>\n",
       "</div>"
      ],
      "text/plain": [
       "               Name   Location    Year  Kilometers_Driven Fuel_Type  \\\n",
       "0  Mahindra Scorpio       Pune  2012.0            99000.0    Diesel   \n",
       "1     Maruti Baleno      Kochi  2018.0            18678.0    Petrol   \n",
       "2     Mahindra Xylo  Bangalore  2013.0           197000.0    Diesel   \n",
       "3     Hyundai Grand      Delhi  2014.0            45000.0    Diesel   \n",
       "4     Toyota Innova      Delhi  2011.0            65000.0    Diesel   \n",
       "\n",
       "  Transmission Owner_Type     Mileage   Engine    Power        Colour  Seats  \\\n",
       "0       Manual      Third  12.05 kmpl  2179 CC  120 bhp  Black/Silver    8.0   \n",
       "1       Manual      First   21.1 kmpl   998 CC  100 bhp        Others    5.0   \n",
       "2       Manual      First  11.68 kmpl  2498 CC  112 bhp         White    7.0   \n",
       "3       Manual      First   24.0 kmpl  1120 CC   70 bhp         White    5.0   \n",
       "4       Manual      First   12.8 kmpl  2494 CC  102 bhp        Others    8.0   \n",
       "\n",
       "   No. of Doors New_Price  Price  \n",
       "0           5.0       NaN   6.00  \n",
       "1           4.0       NaN   8.32  \n",
       "2           5.0       NaN   4.00  \n",
       "3           4.0       NaN   3.49  \n",
       "4           5.0       NaN   6.40  "
      ]
     },
     "execution_count": 3,
     "metadata": {},
     "output_type": "execute_result"
    }
   ],
   "source": [
    "data.head()"
   ]
  },
  {
   "cell_type": "code",
   "execution_count": 46,
   "id": "933a3249",
   "metadata": {
    "ExecuteTime": {
     "end_time": "2021-07-05T10:14:52.214692Z",
     "start_time": "2021-07-05T10:14:52.209165Z"
    }
   },
   "outputs": [
    {
     "data": {
      "text/plain": [
       "Name                  object\n",
       "Location              object\n",
       "Year                 float64\n",
       "Kilometers_Driven    float64\n",
       "Fuel_Type             object\n",
       "Transmission          object\n",
       "Owner_Type            object\n",
       "Mileage              float64\n",
       "Engine                object\n",
       "Power                 object\n",
       "Colour                object\n",
       "Seats                float64\n",
       "No. of Doors         float64\n",
       "Price                float64\n",
       "dtype: object"
      ]
     },
     "execution_count": 46,
     "metadata": {},
     "output_type": "execute_result"
    }
   ],
   "source": [
    "data.dtypes"
   ]
  },
  {
   "cell_type": "code",
   "execution_count": null,
   "id": "66518d10",
   "metadata": {},
   "outputs": [],
   "source": []
  },
  {
   "cell_type": "code",
   "execution_count": 4,
   "id": "b5c29a10",
   "metadata": {
    "ExecuteTime": {
     "end_time": "2021-07-05T09:56:47.700342Z",
     "start_time": "2021-07-05T09:56:47.661192Z"
    }
   },
   "outputs": [
    {
     "data": {
      "text/html": [
       "<div>\n",
       "<style scoped>\n",
       "    .dataframe tbody tr th:only-of-type {\n",
       "        vertical-align: middle;\n",
       "    }\n",
       "\n",
       "    .dataframe tbody tr th {\n",
       "        vertical-align: top;\n",
       "    }\n",
       "\n",
       "    .dataframe thead th {\n",
       "        text-align: right;\n",
       "    }\n",
       "</style>\n",
       "<table border=\"1\" class=\"dataframe\">\n",
       "  <thead>\n",
       "    <tr style=\"text-align: right;\">\n",
       "      <th></th>\n",
       "      <th>Year</th>\n",
       "      <th>Kilometers_Driven</th>\n",
       "      <th>Seats</th>\n",
       "      <th>No. of Doors</th>\n",
       "      <th>Price</th>\n",
       "    </tr>\n",
       "  </thead>\n",
       "  <tbody>\n",
       "    <tr>\n",
       "      <th>count</th>\n",
       "      <td>5959.000000</td>\n",
       "      <td>5.953000e+03</td>\n",
       "      <td>5956.000000</td>\n",
       "      <td>5960.000000</td>\n",
       "      <td>5961.000000</td>\n",
       "    </tr>\n",
       "    <tr>\n",
       "      <th>mean</th>\n",
       "      <td>2013.389159</td>\n",
       "      <td>5.871110e+04</td>\n",
       "      <td>5.269140</td>\n",
       "      <td>4.114933</td>\n",
       "      <td>9.528103</td>\n",
       "    </tr>\n",
       "    <tr>\n",
       "      <th>std</th>\n",
       "      <td>3.243051</td>\n",
       "      <td>9.171221e+04</td>\n",
       "      <td>0.789048</td>\n",
       "      <td>0.344757</td>\n",
       "      <td>11.214382</td>\n",
       "    </tr>\n",
       "    <tr>\n",
       "      <th>min</th>\n",
       "      <td>1998.000000</td>\n",
       "      <td>1.710000e+02</td>\n",
       "      <td>2.000000</td>\n",
       "      <td>2.000000</td>\n",
       "      <td>0.440000</td>\n",
       "    </tr>\n",
       "    <tr>\n",
       "      <th>25%</th>\n",
       "      <td>2011.500000</td>\n",
       "      <td>3.393100e+04</td>\n",
       "      <td>5.000000</td>\n",
       "      <td>4.000000</td>\n",
       "      <td>3.500000</td>\n",
       "    </tr>\n",
       "    <tr>\n",
       "      <th>50%</th>\n",
       "      <td>2014.000000</td>\n",
       "      <td>5.300000e+04</td>\n",
       "      <td>5.000000</td>\n",
       "      <td>4.000000</td>\n",
       "      <td>5.660000</td>\n",
       "    </tr>\n",
       "    <tr>\n",
       "      <th>75%</th>\n",
       "      <td>2016.000000</td>\n",
       "      <td>7.300000e+04</td>\n",
       "      <td>5.000000</td>\n",
       "      <td>4.000000</td>\n",
       "      <td>10.000000</td>\n",
       "    </tr>\n",
       "    <tr>\n",
       "      <th>max</th>\n",
       "      <td>2019.000000</td>\n",
       "      <td>6.500000e+06</td>\n",
       "      <td>10.000000</td>\n",
       "      <td>5.000000</td>\n",
       "      <td>160.000000</td>\n",
       "    </tr>\n",
       "  </tbody>\n",
       "</table>\n",
       "</div>"
      ],
      "text/plain": [
       "              Year  Kilometers_Driven        Seats  No. of Doors        Price\n",
       "count  5959.000000       5.953000e+03  5956.000000   5960.000000  5961.000000\n",
       "mean   2013.389159       5.871110e+04     5.269140      4.114933     9.528103\n",
       "std       3.243051       9.171221e+04     0.789048      0.344757    11.214382\n",
       "min    1998.000000       1.710000e+02     2.000000      2.000000     0.440000\n",
       "25%    2011.500000       3.393100e+04     5.000000      4.000000     3.500000\n",
       "50%    2014.000000       5.300000e+04     5.000000      4.000000     5.660000\n",
       "75%    2016.000000       7.300000e+04     5.000000      4.000000    10.000000\n",
       "max    2019.000000       6.500000e+06    10.000000      5.000000   160.000000"
      ]
     },
     "execution_count": 4,
     "metadata": {},
     "output_type": "execute_result"
    }
   ],
   "source": [
    "data.describe()"
   ]
  },
  {
   "cell_type": "code",
   "execution_count": 5,
   "id": "aeff7840",
   "metadata": {
    "ExecuteTime": {
     "end_time": "2021-07-05T09:56:59.852327Z",
     "start_time": "2021-07-05T09:56:59.843568Z"
    }
   },
   "outputs": [
    {
     "data": {
      "text/plain": [
       "Name                    0\n",
       "Location               11\n",
       "Year                    2\n",
       "Kilometers_Driven       8\n",
       "Fuel_Type               0\n",
       "Transmission           27\n",
       "Owner_Type             15\n",
       "Mileage                 2\n",
       "Engine                 17\n",
       "Power                  32\n",
       "Colour                 11\n",
       "Seats                   5\n",
       "No. of Doors            1\n",
       "New_Price            5137\n",
       "Price                   0\n",
       "dtype: int64"
      ]
     },
     "execution_count": 5,
     "metadata": {},
     "output_type": "execute_result"
    }
   ],
   "source": [
    "data.isnull().sum()"
   ]
  },
  {
   "cell_type": "code",
   "execution_count": 6,
   "id": "036fe798",
   "metadata": {
    "ExecuteTime": {
     "end_time": "2021-07-05T09:57:59.412742Z",
     "start_time": "2021-07-05T09:57:59.408570Z"
    }
   },
   "outputs": [
    {
     "data": {
      "text/plain": [
       "(5961, 15)"
      ]
     },
     "execution_count": 6,
     "metadata": {},
     "output_type": "execute_result"
    }
   ],
   "source": [
    "data.shape"
   ]
  },
  {
   "cell_type": "code",
   "execution_count": 9,
   "id": "a2a79448",
   "metadata": {
    "ExecuteTime": {
     "end_time": "2021-07-05T09:59:13.470153Z",
     "start_time": "2021-07-05T09:59:13.451563Z"
    }
   },
   "outputs": [
    {
     "data": {
      "text/html": [
       "<div>\n",
       "<style scoped>\n",
       "    .dataframe tbody tr th:only-of-type {\n",
       "        vertical-align: middle;\n",
       "    }\n",
       "\n",
       "    .dataframe tbody tr th {\n",
       "        vertical-align: top;\n",
       "    }\n",
       "\n",
       "    .dataframe thead th {\n",
       "        text-align: right;\n",
       "    }\n",
       "</style>\n",
       "<table border=\"1\" class=\"dataframe\">\n",
       "  <thead>\n",
       "    <tr style=\"text-align: right;\">\n",
       "      <th></th>\n",
       "      <th>Year</th>\n",
       "      <th>Kilometers_Driven</th>\n",
       "      <th>Seats</th>\n",
       "      <th>No. of Doors</th>\n",
       "      <th>Price</th>\n",
       "    </tr>\n",
       "  </thead>\n",
       "  <tbody>\n",
       "    <tr>\n",
       "      <th>Year</th>\n",
       "      <td>1.000000</td>\n",
       "      <td>-0.172923</td>\n",
       "      <td>0.014357</td>\n",
       "      <td>0.018310</td>\n",
       "      <td>0.305501</td>\n",
       "    </tr>\n",
       "    <tr>\n",
       "      <th>Kilometers_Driven</th>\n",
       "      <td>-0.172923</td>\n",
       "      <td>1.000000</td>\n",
       "      <td>0.086881</td>\n",
       "      <td>0.068335</td>\n",
       "      <td>-0.011403</td>\n",
       "    </tr>\n",
       "    <tr>\n",
       "      <th>Seats</th>\n",
       "      <td>0.014357</td>\n",
       "      <td>0.086881</td>\n",
       "      <td>1.000000</td>\n",
       "      <td>0.905095</td>\n",
       "      <td>0.060332</td>\n",
       "    </tr>\n",
       "    <tr>\n",
       "      <th>No. of Doors</th>\n",
       "      <td>0.018310</td>\n",
       "      <td>0.068335</td>\n",
       "      <td>0.905095</td>\n",
       "      <td>1.000000</td>\n",
       "      <td>0.066697</td>\n",
       "    </tr>\n",
       "    <tr>\n",
       "      <th>Price</th>\n",
       "      <td>0.305501</td>\n",
       "      <td>-0.011403</td>\n",
       "      <td>0.060332</td>\n",
       "      <td>0.066697</td>\n",
       "      <td>1.000000</td>\n",
       "    </tr>\n",
       "  </tbody>\n",
       "</table>\n",
       "</div>"
      ],
      "text/plain": [
       "                       Year  Kilometers_Driven     Seats  No. of Doors  \\\n",
       "Year               1.000000          -0.172923  0.014357      0.018310   \n",
       "Kilometers_Driven -0.172923           1.000000  0.086881      0.068335   \n",
       "Seats              0.014357           0.086881  1.000000      0.905095   \n",
       "No. of Doors       0.018310           0.068335  0.905095      1.000000   \n",
       "Price              0.305501          -0.011403  0.060332      0.066697   \n",
       "\n",
       "                      Price  \n",
       "Year               0.305501  \n",
       "Kilometers_Driven -0.011403  \n",
       "Seats              0.060332  \n",
       "No. of Doors       0.066697  \n",
       "Price              1.000000  "
      ]
     },
     "execution_count": 9,
     "metadata": {},
     "output_type": "execute_result"
    }
   ],
   "source": [
    "data.corr()"
   ]
  },
  {
   "cell_type": "code",
   "execution_count": 50,
   "id": "0edaa8c4",
   "metadata": {
    "ExecuteTime": {
     "end_time": "2021-07-05T10:17:26.054781Z",
     "start_time": "2021-07-05T10:17:26.048556Z"
    }
   },
   "outputs": [],
   "source": [
    "data.drop(['New_Price'],inplace=True,axis=1)"
   ]
  },
  {
   "cell_type": "code",
   "execution_count": 51,
   "id": "d0002868",
   "metadata": {
    "ExecuteTime": {
     "end_time": "2021-07-05T10:17:26.690765Z",
     "start_time": "2021-07-05T10:17:26.685479Z"
    }
   },
   "outputs": [],
   "source": [
    "data.drop([\"Engine\",\"Power\"],inplace=True,axis=1)"
   ]
  },
  {
   "cell_type": "code",
   "execution_count": 58,
   "id": "5f2e47d4",
   "metadata": {
    "ExecuteTime": {
     "end_time": "2021-07-05T10:20:07.136873Z",
     "start_time": "2021-07-05T10:20:07.128755Z"
    }
   },
   "outputs": [
    {
     "data": {
      "text/plain": [
       "(5902, 12)"
      ]
     },
     "execution_count": 58,
     "metadata": {},
     "output_type": "execute_result"
    }
   ],
   "source": [
    "data.dropna().shape"
   ]
  },
  {
   "cell_type": "code",
   "execution_count": 18,
   "id": "50016021",
   "metadata": {
    "ExecuteTime": {
     "end_time": "2021-07-05T10:02:42.841789Z",
     "start_time": "2021-07-05T10:02:42.837685Z"
    }
   },
   "outputs": [
    {
     "data": {
      "text/plain": [
       "0.012078510317060896"
      ]
     },
     "execution_count": 18,
     "metadata": {},
     "output_type": "execute_result"
    }
   ],
   "source": [
    "(5961-5889)/5961"
   ]
  },
  {
   "cell_type": "code",
   "execution_count": 52,
   "id": "1137b42b",
   "metadata": {
    "ExecuteTime": {
     "end_time": "2021-07-05T10:17:30.029285Z",
     "start_time": "2021-07-05T10:17:30.020323Z"
    },
    "scrolled": true
   },
   "outputs": [],
   "source": [
    "data.Mileage = data.Mileage.apply(lambda x: float(str(x).replace(\"kmpl\",\"\").replace(\"km/kg\",\"\")))"
   ]
  },
  {
   "cell_type": "code",
   "execution_count": 53,
   "id": "d26bf6c6",
   "metadata": {
    "ExecuteTime": {
     "end_time": "2021-07-05T10:17:31.410452Z",
     "start_time": "2021-07-05T10:17:31.407932Z"
    }
   },
   "outputs": [],
   "source": [
    "from sklearn.preprocessing import OneHotEncoder,LabelEncoder\n",
    "from sklearn.linear_model import LinearRegression"
   ]
  },
  {
   "cell_type": "code",
   "execution_count": 60,
   "id": "343362f9",
   "metadata": {
    "ExecuteTime": {
     "end_time": "2021-07-05T10:20:15.858726Z",
     "start_time": "2021-07-05T10:20:15.856128Z"
    }
   },
   "outputs": [],
   "source": [
    "one_enc = OneHotEncoder()"
   ]
  },
  {
   "cell_type": "code",
   "execution_count": 59,
   "id": "88c8bb1b",
   "metadata": {
    "ExecuteTime": {
     "end_time": "2021-07-05T10:20:09.462449Z",
     "start_time": "2021-07-05T10:20:09.448646Z"
    }
   },
   "outputs": [
    {
     "ename": "ValueError",
     "evalue": "Length of 'prefix' (9) did not match the length of the columns being encoded (6).",
     "output_type": "error",
     "traceback": [
      "\u001b[0;31m---------------------------------------------------------------------------\u001b[0m",
      "\u001b[0;31mValueError\u001b[0m                                Traceback (most recent call last)",
      "\u001b[0;32m<ipython-input-59-4df6aa99d20f>\u001b[0m in \u001b[0;36m<module>\u001b[0;34m\u001b[0m\n\u001b[0;32m----> 1\u001b[0;31m \u001b[0mdata_1\u001b[0m \u001b[0;34m=\u001b[0m \u001b[0mpd\u001b[0m\u001b[0;34m.\u001b[0m\u001b[0mget_dummies\u001b[0m\u001b[0;34m(\u001b[0m\u001b[0mdata\u001b[0m\u001b[0;34m,\u001b[0m\u001b[0;34m[\u001b[0m\u001b[0;34m\"Name\"\u001b[0m\u001b[0;34m,\u001b[0m\u001b[0;34m\"Location\"\u001b[0m\u001b[0;34m,\u001b[0m\u001b[0;34m\"Year\"\u001b[0m\u001b[0;34m,\u001b[0m\u001b[0;34m\"Fuel_Type\"\u001b[0m\u001b[0;34m,\u001b[0m\u001b[0;34m\"Transmission\"\u001b[0m\u001b[0;34m,\u001b[0m\u001b[0;34m\"Owner_Type\"\u001b[0m\u001b[0;34m,\u001b[0m\u001b[0;34m\"Colour\"\u001b[0m\u001b[0;34m,\u001b[0m\u001b[0;34m\"Seats\"\u001b[0m\u001b[0;34m,\u001b[0m\u001b[0;34m'No. of Doors'\u001b[0m\u001b[0;34m]\u001b[0m\u001b[0;34m)\u001b[0m\u001b[0;34m\u001b[0m\u001b[0;34m\u001b[0m\u001b[0m\n\u001b[0m",
      "\u001b[0;32m~/.virtualenvs/cv_p38/lib/python3.8/site-packages/pandas/core/reshape/reshape.py\u001b[0m in \u001b[0;36mget_dummies\u001b[0;34m(data, prefix, prefix_sep, dummy_na, columns, sparse, drop_first, dtype)\u001b[0m\n\u001b[1;32m    859\u001b[0m                     \u001b[0;32mraise\u001b[0m \u001b[0mValueError\u001b[0m\u001b[0;34m(\u001b[0m\u001b[0mlen_msg\u001b[0m\u001b[0;34m)\u001b[0m\u001b[0;34m\u001b[0m\u001b[0;34m\u001b[0m\u001b[0m\n\u001b[1;32m    860\u001b[0m \u001b[0;34m\u001b[0m\u001b[0m\n\u001b[0;32m--> 861\u001b[0;31m         \u001b[0mcheck_len\u001b[0m\u001b[0;34m(\u001b[0m\u001b[0mprefix\u001b[0m\u001b[0;34m,\u001b[0m \u001b[0;34m\"prefix\"\u001b[0m\u001b[0;34m)\u001b[0m\u001b[0;34m\u001b[0m\u001b[0;34m\u001b[0m\u001b[0m\n\u001b[0m\u001b[1;32m    862\u001b[0m         \u001b[0mcheck_len\u001b[0m\u001b[0;34m(\u001b[0m\u001b[0mprefix_sep\u001b[0m\u001b[0;34m,\u001b[0m \u001b[0;34m\"prefix_sep\"\u001b[0m\u001b[0;34m)\u001b[0m\u001b[0;34m\u001b[0m\u001b[0;34m\u001b[0m\u001b[0m\n\u001b[1;32m    863\u001b[0m \u001b[0;34m\u001b[0m\u001b[0m\n",
      "\u001b[0;32m~/.virtualenvs/cv_p38/lib/python3.8/site-packages/pandas/core/reshape/reshape.py\u001b[0m in \u001b[0;36mcheck_len\u001b[0;34m(item, name)\u001b[0m\n\u001b[1;32m    857\u001b[0m                         \u001b[0;34mf\"({data_to_encode.shape[1]}).\"\u001b[0m\u001b[0;34m\u001b[0m\u001b[0;34m\u001b[0m\u001b[0m\n\u001b[1;32m    858\u001b[0m                     )\n\u001b[0;32m--> 859\u001b[0;31m                     \u001b[0;32mraise\u001b[0m \u001b[0mValueError\u001b[0m\u001b[0;34m(\u001b[0m\u001b[0mlen_msg\u001b[0m\u001b[0;34m)\u001b[0m\u001b[0;34m\u001b[0m\u001b[0;34m\u001b[0m\u001b[0m\n\u001b[0m\u001b[1;32m    860\u001b[0m \u001b[0;34m\u001b[0m\u001b[0m\n\u001b[1;32m    861\u001b[0m         \u001b[0mcheck_len\u001b[0m\u001b[0;34m(\u001b[0m\u001b[0mprefix\u001b[0m\u001b[0;34m,\u001b[0m \u001b[0;34m\"prefix\"\u001b[0m\u001b[0;34m)\u001b[0m\u001b[0;34m\u001b[0m\u001b[0;34m\u001b[0m\u001b[0m\n",
      "\u001b[0;31mValueError\u001b[0m: Length of 'prefix' (9) did not match the length of the columns being encoded (6)."
     ]
    }
   ],
   "source": [
    "data_1 = pd.get_dummies(data,[\"Name\",\"Location\",\"Year\",\"Fuel_Type\",\"Transmission\",\"Owner_Type\",\"Colour\",\"Seats\",'No. of Doors'])"
   ]
  },
  {
   "cell_type": "code",
   "execution_count": 62,
   "id": "9dfd0815",
   "metadata": {
    "ExecuteTime": {
     "end_time": "2021-07-05T10:20:51.624947Z",
     "start_time": "2021-07-05T10:20:51.602925Z"
    }
   },
   "outputs": [],
   "source": [
    "data_enc = one_enc.fit_transform(data[[\"Name\",\"Location\",\"Year\",\"Fuel_Type\",\"Transmission\",\"Owner_Type\",\"Colour\",\"Seats\",'No. of Doors']])"
   ]
  },
  {
   "cell_type": "code",
   "execution_count": 63,
   "id": "5da76f4a",
   "metadata": {
    "ExecuteTime": {
     "end_time": "2021-07-05T10:21:03.909114Z",
     "start_time": "2021-07-05T10:21:03.906929Z"
    }
   },
   "outputs": [],
   "source": [
    "lr = LinearRegression()"
   ]
  },
  {
   "cell_type": "code",
   "execution_count": 66,
   "id": "ee8ce4b4",
   "metadata": {
    "ExecuteTime": {
     "end_time": "2021-07-05T10:21:35.410252Z",
     "start_time": "2021-07-05T10:21:35.243600Z"
    }
   },
   "outputs": [
    {
     "data": {
      "text/plain": [
       "LinearRegression()"
      ]
     },
     "execution_count": 66,
     "metadata": {},
     "output_type": "execute_result"
    }
   ],
   "source": [
    "lr.fit(data_enc,data.Price)"
   ]
  },
  {
   "cell_type": "code",
   "execution_count": null,
   "id": "3659e181",
   "metadata": {},
   "outputs": [],
   "source": []
  },
  {
   "cell_type": "code",
   "execution_count": 69,
   "id": "a49ff391",
   "metadata": {
    "ExecuteTime": {
     "end_time": "2021-07-05T10:23:16.278366Z",
     "start_time": "2021-07-05T10:23:16.275268Z"
    }
   },
   "outputs": [],
   "source": [
    "from sklearn.metrics import r2_score"
   ]
  },
  {
   "cell_type": "code",
   "execution_count": 70,
   "id": "10492c27",
   "metadata": {
    "ExecuteTime": {
     "end_time": "2021-07-05T10:23:57.239081Z",
     "start_time": "2021-07-05T10:23:57.234460Z"
    },
    "scrolled": true
   },
   "outputs": [
    {
     "data": {
      "text/plain": [
       "0.8642120528202625"
      ]
     },
     "execution_count": 70,
     "metadata": {},
     "output_type": "execute_result"
    }
   ],
   "source": [
    "r2_score(data.Price,\\lr.predict(data_enc))"
   ]
  },
  {
   "cell_type": "code",
   "execution_count": null,
   "id": "fc08a5a6",
   "metadata": {},
   "outputs": [],
   "source": [
    "create c2 as time.minute from table "
   ]
  },
  {
   "cell_type": "code",
   "execution_count": null,
   "id": "d9fa2def",
   "metadata": {},
   "outputs": [],
   "source": [
    "select Avg(column)  from table groupby  round(c2)"
   ]
  }
 ],
 "metadata": {
  "kernelspec": {
   "display_name": "cv_p38",
   "language": "python",
   "name": "cv_p38"
  },
  "language_info": {
   "codemirror_mode": {
    "name": "ipython",
    "version": 3
   },
   "file_extension": ".py",
   "mimetype": "text/x-python",
   "name": "python",
   "nbconvert_exporter": "python",
   "pygments_lexer": "ipython3",
   "version": "3.8.0"
  }
 },
 "nbformat": 4,
 "nbformat_minor": 5
}
