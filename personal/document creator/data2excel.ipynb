{
 "cells": [
  {
   "cell_type": "code",
   "execution_count": 3,
   "id": "7053ef7d-d934-4747-8528-73d0e2d0c5f7",
   "metadata": {
    "execution": {
     "iopub.execute_input": "2021-09-19T06:03:19.354244Z",
     "iopub.status.busy": "2021-09-19T06:03:19.353633Z",
     "iopub.status.idle": "2021-09-19T06:03:19.362617Z",
     "shell.execute_reply": "2021-09-19T06:03:19.360400Z",
     "shell.execute_reply.started": "2021-09-19T06:03:19.354173Z"
    },
    "tags": []
   },
   "outputs": [],
   "source": [
    "import pandas as pd\n",
    "import os"
   ]
  },
  {
   "cell_type": "code",
   "execution_count": 2,
   "id": "d87dce42-2565-4cf7-bf46-8d8a1296f11c",
   "metadata": {
    "execution": {
     "iopub.execute_input": "2021-09-19T06:02:33.295783Z",
     "iopub.status.busy": "2021-09-19T06:02:33.295606Z",
     "iopub.status.idle": "2021-09-19T06:02:33.298604Z",
     "shell.execute_reply": "2021-09-19T06:02:33.298139Z",
     "shell.execute_reply.started": "2021-09-19T06:02:33.295755Z"
    }
   },
   "outputs": [],
   "source": [
    "data_location = \"/home/prateek/shared_space/Notebooks/abg/openvino/Notebooks/\""
   ]
  },
  {
   "cell_type": "code",
   "execution_count": 63,
   "id": "605e8931-515b-4d7a-8c31-c7dab061663d",
   "metadata": {
    "execution": {
     "iopub.execute_input": "2021-09-19T07:38:28.786682Z",
     "iopub.status.busy": "2021-09-19T07:38:28.786484Z",
     "iopub.status.idle": "2021-09-19T07:38:28.907763Z",
     "shell.execute_reply": "2021-09-19T07:38:28.907281Z",
     "shell.execute_reply.started": "2021-09-19T07:38:28.786661Z"
    },
    "tags": []
   },
   "outputs": [],
   "source": [
    "files  = os.scandir(data_location)\n",
    "parent_folder = []\n",
    "df_li = []\n",
    "for f in files:\n",
    "    if f.is_dir():\n",
    "        parent_folder.append(f.name)\n",
    "        sub_files = os.listdir(f.path)\n",
    "        df = pd.DataFrame({\"contents\" : sub_files})\n",
    "        df[\"parent_folder_name\"] = f.name\n",
    "        df.set_index([\"parent_folder_name\"],append=True,inplace=True)\n",
    "    else:\n",
    "        df = pd.DataFrame({\"contents\" : [\"-\"]})\n",
    "        df[\"parent_folder_name\"] = f.name\n",
    "        df.set_index([\"parent_folder_name\"],append=True,inplace=True)\n",
    "    df_li.append(df)\n",
    "    \n",
    "    \n",
    "df_comb = pd.concat(df_li)"
   ]
  },
  {
   "cell_type": "code",
   "execution_count": 68,
   "id": "96c9c50e-8ec6-4de2-ac41-4343c4c2b6c5",
   "metadata": {
    "execution": {
     "iopub.execute_input": "2021-09-19T07:43:37.654656Z",
     "iopub.status.busy": "2021-09-19T07:43:37.654480Z",
     "iopub.status.idle": "2021-09-19T07:43:37.688541Z",
     "shell.execute_reply": "2021-09-19T07:43:37.687782Z",
     "shell.execute_reply.started": "2021-09-19T07:43:37.654626Z"
    },
    "tags": []
   },
   "outputs": [
    {
     "name": "stderr",
     "output_type": "stream",
     "text": [
      "<ipython-input-68-c68177e18df6>:1: FutureWarning: As the xlwt package is no longer maintained, the xlwt engine will be removed in a future version of pandas. This is the only engine in pandas that supports writing in the xls format. Install openpyxl and write to an xlsx file instead. You can set the option io.excel.xls.writer to 'xlwt' to silence this warning. While this option is deprecated and will also raise a warning, it can be globally set and the warning suppressed.\n",
      "  df_comb.to_excel(\"openvino_document.xls\")\n"
     ]
    }
   ],
   "source": [
    "df_comb.to_excel(\"openvino_document.xls\")"
   ]
  },
  {
   "cell_type": "code",
   "execution_count": 65,
   "id": "1e3fa17f-1350-4706-90d0-cc7b8da37b58",
   "metadata": {
    "execution": {
     "iopub.execute_input": "2021-09-19T07:39:03.834758Z",
     "iopub.status.busy": "2021-09-19T07:39:03.834545Z",
     "iopub.status.idle": "2021-09-19T07:39:03.837406Z",
     "shell.execute_reply": "2021-09-19T07:39:03.836735Z",
     "shell.execute_reply.started": "2021-09-19T07:39:03.834735Z"
    },
    "tags": []
   },
   "outputs": [],
   "source": [
    "description = []"
   ]
  },
  {
   "cell_type": "code",
   "execution_count": 66,
   "id": "f6acb6ad-f8a7-4c22-87f5-27d8f8c2eca9",
   "metadata": {
    "execution": {
     "iopub.execute_input": "2021-09-19T07:39:30.521273Z",
     "iopub.status.busy": "2021-09-19T07:39:30.520963Z",
     "iopub.status.idle": "2021-09-19T07:39:30.525459Z",
     "shell.execute_reply": "2021-09-19T07:39:30.524924Z",
     "shell.execute_reply.started": "2021-09-19T07:39:30.521227Z"
    }
   },
   "outputs": [
    {
     "name": "stdout",
     "output_type": "stream",
     "text": [
      "(0, 'social_distancing')\n"
     ]
    }
   ],
   "source": [
    "for idx,row in df.iterrows():\n",
    "    print(idx)\n",
    "    break"
   ]
  },
  {
   "cell_type": "code",
   "execution_count": 48,
   "id": "c92d6816-c0aa-4ee8-be60-d5a3eaeeb09e",
   "metadata": {
    "execution": {
     "iopub.execute_input": "2021-09-19T07:24:22.031138Z",
     "iopub.status.busy": "2021-09-19T07:24:22.030960Z",
     "iopub.status.idle": "2021-09-19T07:24:22.036012Z",
     "shell.execute_reply": "2021-09-19T07:24:22.035560Z",
     "shell.execute_reply.started": "2021-09-19T07:24:22.031122Z"
    },
    "tags": []
   },
   "outputs": [
    {
     "data": {
      "text/html": [
       "<div>\n",
       "<style scoped>\n",
       "    .dataframe tbody tr th:only-of-type {\n",
       "        vertical-align: middle;\n",
       "    }\n",
       "\n",
       "    .dataframe tbody tr th {\n",
       "        vertical-align: top;\n",
       "    }\n",
       "\n",
       "    .dataframe thead th {\n",
       "        text-align: right;\n",
       "    }\n",
       "</style>\n",
       "<table border=\"1\" class=\"dataframe\">\n",
       "  <thead>\n",
       "    <tr style=\"text-align: right;\">\n",
       "      <th></th>\n",
       "      <th>contents</th>\n",
       "    </tr>\n",
       "    <tr>\n",
       "      <th>based_on_IECORE</th>\n",
       "      <th></th>\n",
       "    </tr>\n",
       "  </thead>\n",
       "  <tbody>\n",
       "    <tr>\n",
       "      <th>0</th>\n",
       "      <td>.ipynb_checkpoints</td>\n",
       "    </tr>\n",
       "    <tr>\n",
       "      <th>1</th>\n",
       "      <td>iecore_testing.ipynb</td>\n",
       "    </tr>\n",
       "    <tr>\n",
       "      <th>2</th>\n",
       "      <td>test</td>\n",
       "    </tr>\n",
       "  </tbody>\n",
       "</table>\n",
       "</div>"
      ],
      "text/plain": [
       "                             contents\n",
       "based_on_IECORE                      \n",
       "0                  .ipynb_checkpoints\n",
       "1                iecore_testing.ipynb\n",
       "2                                test"
      ]
     },
     "execution_count": 48,
     "metadata": {},
     "output_type": "execute_result"
    }
   ],
   "source": [
    "df_li[7]"
   ]
  },
  {
   "cell_type": "code",
   "execution_count": 36,
   "id": "f5b33152-e142-4165-935b-d9b66a7a87ff",
   "metadata": {
    "execution": {
     "iopub.execute_input": "2021-09-19T06:50:06.810533Z",
     "iopub.status.busy": "2021-09-19T06:50:06.810319Z",
     "iopub.status.idle": "2021-09-19T06:50:06.815503Z",
     "shell.execute_reply": "2021-09-19T06:50:06.814822Z",
     "shell.execute_reply.started": "2021-09-19T06:50:06.810509Z"
    },
    "tags": []
   },
   "outputs": [
    {
     "data": {
      "text/plain": [
       "Index(['social_distancing', 0, 1], dtype='object')"
      ]
     },
     "execution_count": 36,
     "metadata": {},
     "output_type": "execute_result"
    }
   ],
   "source": [
    " df.index.insert(0,\"social_distancing\")"
   ]
  },
  {
   "cell_type": "code",
   "execution_count": 42,
   "id": "f34267fd-f4bb-4bdd-bf70-1ec3850e67aa",
   "metadata": {
    "execution": {
     "iopub.execute_input": "2021-09-19T06:54:55.871108Z",
     "iopub.status.busy": "2021-09-19T06:54:55.870865Z",
     "iopub.status.idle": "2021-09-19T06:54:55.876561Z",
     "shell.execute_reply": "2021-09-19T06:54:55.876018Z",
     "shell.execute_reply.started": "2021-09-19T06:54:55.871093Z"
    },
    "tags": []
   },
   "outputs": [
    {
     "data": {
      "text/html": [
       "<div>\n",
       "<style scoped>\n",
       "    .dataframe tbody tr th:only-of-type {\n",
       "        vertical-align: middle;\n",
       "    }\n",
       "\n",
       "    .dataframe tbody tr th {\n",
       "        vertical-align: top;\n",
       "    }\n",
       "\n",
       "    .dataframe thead th {\n",
       "        text-align: right;\n",
       "    }\n",
       "</style>\n",
       "<table border=\"1\" class=\"dataframe\">\n",
       "  <thead>\n",
       "    <tr style=\"text-align: right;\">\n",
       "      <th></th>\n",
       "      <th>contents</th>\n",
       "    </tr>\n",
       "    <tr>\n",
       "      <th>social_distancing</th>\n",
       "      <th></th>\n",
       "    </tr>\n",
       "  </thead>\n",
       "  <tbody>\n",
       "    <tr>\n",
       "      <th>0</th>\n",
       "      <td>.ipynb_checkpoints</td>\n",
       "    </tr>\n",
       "    <tr>\n",
       "      <th>1</th>\n",
       "      <td>distance measurement.ipynb</td>\n",
       "    </tr>\n",
       "  </tbody>\n",
       "</table>\n",
       "</div>"
      ],
      "text/plain": [
       "                                     contents\n",
       "social_distancing                            \n",
       "0                          .ipynb_checkpoints\n",
       "1                  distance measurement.ipynb"
      ]
     },
     "execution_count": 42,
     "metadata": {},
     "output_type": "execute_result"
    }
   ],
   "source": [
    "df_li"
   ]
  },
  {
   "cell_type": "code",
   "execution_count": 22,
   "id": "9ab1e936-3172-4b1b-b428-0b7c98e1f3bd",
   "metadata": {
    "execution": {
     "iopub.execute_input": "2021-09-19T06:44:11.288948Z",
     "iopub.status.busy": "2021-09-19T06:44:11.288292Z",
     "iopub.status.idle": "2021-09-19T06:44:11.309260Z",
     "shell.execute_reply": "2021-09-19T06:44:11.308051Z",
     "shell.execute_reply.started": "2021-09-19T06:44:11.288874Z"
    },
    "tags": []
   },
   "outputs": [
    {
     "ename": "NotADirectoryError",
     "evalue": "[Errno 20] Not a directory: '/home/prateek/shared_space/Notebooks/abg/openvino/Notebooks/async_fps.jpg'",
     "output_type": "error",
     "traceback": [
      "\u001b[0;31m---------------------------------------------------------------------------\u001b[0m",
      "\u001b[0;31mNotADirectoryError\u001b[0m                        Traceback (most recent call last)",
      "\u001b[0;32m<ipython-input-22-e413235e26c6>\u001b[0m in \u001b[0;36m<module>\u001b[0;34m\u001b[0m\n\u001b[0;32m----> 1\u001b[0;31m \u001b[0mos\u001b[0m\u001b[0;34m.\u001b[0m\u001b[0mscandir\u001b[0m\u001b[0;34m(\u001b[0m\u001b[0;34m'/home/prateek/shared_space/Notebooks/abg/openvino/Notebooks/async_fps.jpg'\u001b[0m\u001b[0;34m)\u001b[0m\u001b[0;34m\u001b[0m\u001b[0;34m\u001b[0m\u001b[0m\n\u001b[0m",
      "\u001b[0;31mNotADirectoryError\u001b[0m: [Errno 20] Not a directory: '/home/prateek/shared_space/Notebooks/abg/openvino/Notebooks/async_fps.jpg'"
     ]
    }
   ],
   "source": [
    "os.scandir('/home/prateek/shared_space/Notebooks/abg/openvino/Notebooks/async_fps.jpg')"
   ]
  },
  {
   "cell_type": "code",
   "execution_count": 21,
   "id": "db255331-0ec1-4fe4-8c6f-0384a9802df0",
   "metadata": {
    "execution": {
     "iopub.execute_input": "2021-09-19T06:32:43.848954Z",
     "iopub.status.busy": "2021-09-19T06:32:43.848678Z",
     "iopub.status.idle": "2021-09-19T06:32:43.853782Z",
     "shell.execute_reply": "2021-09-19T06:32:43.852993Z",
     "shell.execute_reply.started": "2021-09-19T06:32:43.848924Z"
    },
    "tags": []
   },
   "outputs": [
    {
     "data": {
      "text/plain": [
       "False"
      ]
     },
     "execution_count": 21,
     "metadata": {},
     "output_type": "execute_result"
    }
   ],
   "source": [
    "os."
   ]
  },
  {
   "cell_type": "code",
   "execution_count": 12,
   "id": "fa0c69d0-11a8-4e8b-b4f6-2e4dd92a9f8e",
   "metadata": {
    "execution": {
     "iopub.execute_input": "2021-09-19T06:19:06.538864Z",
     "iopub.status.busy": "2021-09-19T06:19:06.538688Z",
     "iopub.status.idle": "2021-09-19T06:19:06.542580Z",
     "shell.execute_reply": "2021-09-19T06:19:06.542042Z",
     "shell.execute_reply.started": "2021-09-19T06:19:06.538846Z"
    },
    "tags": []
   },
   "outputs": [
    {
     "data": {
      "text/plain": [
       "'/home/prateek/shared_space/Notebooks/abg/openvino/Notebooks/social_distancing'"
      ]
     },
     "execution_count": 12,
     "metadata": {},
     "output_type": "execute_result"
    }
   ],
   "source": [
    "f.path"
   ]
  },
  {
   "cell_type": "code",
   "execution_count": 9,
   "id": "dd6418a2-5e12-43d2-b943-9b1cc77cc980",
   "metadata": {
    "execution": {
     "iopub.execute_input": "2021-09-19T06:18:36.016068Z",
     "iopub.status.busy": "2021-09-19T06:18:36.015456Z",
     "iopub.status.idle": "2021-09-19T06:18:36.040441Z",
     "shell.execute_reply": "2021-09-19T06:18:36.039296Z",
     "shell.execute_reply.started": "2021-09-19T06:18:36.015999Z"
    }
   },
   "outputs": [
    {
     "name": "stdout",
     "output_type": "stream",
     "text": [
      "<DirEntry '.ipynb_checkpoints'>\n",
      "<DirEntry '2020_01_14_16'>\n",
      "<DirEntry 'async_fps.jpg'>\n",
      "<DirEntry 'async_videocapture.ipynb'>\n",
      "<DirEntry 'attribute_detection_production.ipynb'>\n",
      "<DirEntry 'background_subtraction'>\n",
      "<DirEntry 'bag_detection'>\n",
      "<DirEntry 'based_on_IECORE'>\n",
      "<DirEntry 'check_distance_utility_with_mouse.ipynb'>\n",
      "<DirEntry 'combined_models'>\n",
      "<DirEntry 'cross_road_Testing.ipynb'>\n",
      "<DirEntry 'Data_conversion'>\n",
      "<DirEntry 'dynamic_batching.ipynb'>\n",
      "<DirEntry 'face_detection'>\n",
      "<DirEntry 'face_recognition_demo'>\n",
      "<DirEntry 'face_SORT_tracker.ipynb'>\n",
      "<DirEntry 'faster_rcnnn'>\n",
      "<DirEntry 'figure.jpg'>\n",
      "<DirEntry 'Fire'>\n",
      "<DirEntry 'generalized_calling_utility.ipynb'>\n",
      "<DirEntry 'general_ssd_detection'>\n",
      "<DirEntry 'openvino_Faster_RCNN.ipynb'>\n",
      "<DirEntry 'openvino_head_upper_body.ipynb'>\n",
      "<DirEntry 'openvino_helmet_detection.ipynb'>\n",
      "<DirEntry 'openvino_retinanet.ipynb'>\n",
      "<DirEntry 'openvino_training_extension'>\n",
      "<DirEntry 'output_vids'>\n",
      "<DirEntry 'path'>\n",
      "<DirEntry 'person_detection.ipynb'>\n",
      "<DirEntry 'post_process_pixel.py'>\n",
      "<DirEntry 'retinanet'>\n",
      "<DirEntry 'retinanet_coco_labels_colors.csv'>\n",
      "<DirEntry 'retinanet_coco_labels_colors.pickle'>\n",
      "<DirEntry 'retinanet_helmet_vest.ipynb'>\n",
      "<DirEntry 'retinanet_helmet_vest.py'>\n",
      "<DirEntry 'retinanet_tensorflow_trt.ipynb'>\n",
      "<DirEntry 'sharewithsnigdha.zip'>\n",
      "<DirEntry 'helmet_vest'>\n",
      "<DirEntry 'image_classifcation_aggregation_tool.py'>\n",
      "<DirEntry 'Indian_Number_plates.json'>\n",
      "<DirEntry 'insec_cams_data_collect'>\n",
      "<DirEntry 'intersection functions CV.ipynb'>\n",
      "<DirEntry 'intrusion_detection'>\n",
      "<DirEntry 'keras2tensorflow_openvino.ipynb'>\n",
      "<DirEntry 'keras_to_tensorflow.py'>\n",
      "<DirEntry 'license_plate_detection.ipynb'>\n",
      "<DirEntry 'logo_detection'>\n",
      "<DirEntry 'nohup.out'>\n",
      "<DirEntry 'ssd_object_detection_async.ipynb'>\n",
      "<DirEntry 'ssd_object_detection_async_anuj.ipynb'>\n",
      "<DirEntry 'super_resolution.ipynb'>\n",
      "<DirEntry 'support_utility_openvino.py'>\n",
      "<DirEntry 'sync_fps.jpg'>\n",
      "<DirEntry 'testing_harcascades.ipynb'>\n",
      "<DirEntry 'test_retinanet.ipynb'>\n",
      "<DirEntry 'Text_detection'>\n",
      "<DirEntry 'text_detection.ipynb'>\n",
      "<DirEntry 'tracking_testing'>\n",
      "<DirEntry 'useful_models'>\n",
      "<DirEntry 'UTCL'>\n",
      "<DirEntry 'UTCL_body_dress'>\n",
      "<DirEntry 'utilities'>\n",
      "<DirEntry 'vehicle-number-plate-detection.zip'>\n",
      "<DirEntry 'vehicle_detection'>\n",
      "<DirEntry '__pycache__'>\n",
      "<DirEntry 'gulabjamun.ipynb'>\n",
      "<DirEntry 'not_useful'>\n",
      "<DirEntry 'social_distancing'>\n"
     ]
    }
   ],
   "source": [
    "for f in dir_obj:\n",
    "    print(f)"
   ]
  },
  {
   "cell_type": "code",
   "execution_count": null,
   "id": "35c0f883-1426-4a35-8f05-5b1f200bf66d",
   "metadata": {},
   "outputs": [],
   "source": []
  }
 ],
 "metadata": {
  "kernelspec": {
   "display_name": "cv_p38",
   "language": "python",
   "name": "cv_p38"
  },
  "language_info": {
   "codemirror_mode": {
    "name": "ipython",
    "version": 3
   },
   "file_extension": ".py",
   "mimetype": "text/x-python",
   "name": "python",
   "nbconvert_exporter": "python",
   "pygments_lexer": "ipython3",
   "version": "3.8.0"
  },
  "widgets": {
   "application/vnd.jupyter.widget-state+json": {
    "state": {},
    "version_major": 2,
    "version_minor": 0
   }
  }
 },
 "nbformat": 4,
 "nbformat_minor": 5
}
